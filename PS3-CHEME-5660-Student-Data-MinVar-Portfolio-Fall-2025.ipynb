{
 "cells": [
  {
   "cell_type": "markdown",
   "id": "cd066d5c-7d17-4ad9-a2c0-72a932169b27",
   "metadata": {},
   "source": [
    "# PS3: Data-Driven Minimum-Variance Portfolio Allocation for Risky Assets\n",
    "In this problem set, we'll compute the [Efficient Frontier](https://en.wikipedia.org/wiki/Efficient_frontier) for a portfolio of risky assets, where the expected return and the covariance of the returns are calculated from a historical dataset. You will then simulate the performance of the minimum-variance portfolio on out-of-sample data.\n",
    "\n",
    "> __Learning Objectives:__\n",
    "> \n",
    "> By the end of this example, you will be able to:\n",
    "> \n",
    "> * **Compute empirical portfolio statistics from historical data and formulate Markowitz optimization problems.** Extract expected returns and covariance matrices from market data, then set up constrained quadratic optimization problems that minimize portfolio risk for given return targets using the classical mean-variance framework to find optimal asset allocations.\n",
    "> * **Generate and analyze efficient frontier curves for risky asset portfolios.** Systematically compute optimal portfolios across different risk-return combinations and visualize the resulting efficient frontier to understand the trade-offs between expected return and portfolio volatility in the context of diversification benefits.\n",
    "> * **Simulate portfolio performance using multi-asset stochastic models.** Implement geometric Brownian motion simulations to generate sample price trajectories for multiple correlated assets, enabling out-of-sample testing of minimum-variance portfolios against market benchmarks and evaluation of strategy robustness under uncertainty.\n",
    "\n",
    "Let's get started!\n",
    "___"
   ]
  },
  {
   "cell_type": "markdown",
   "id": "c420ed7a-dc00-4183-bdf8-474874e6aa29",
   "metadata": {},
   "source": [
    "## Setup, Data, and Prerequisites\n",
    "First, we set up the computational environment by including the `Include.jl` file and loading any needed resources.\n",
    "\n",
    ">__Include:__ The [`include(...)` command](https://docs.julialang.org/en/v1/base/base/#include) evaluates the contents of the input source file, `Include.jl`, in the notebook's global scope. The `Include.jl` file sets paths, loads required external packages, etc. For additional information on functions and types used in this material, see the [Julia programming language documentation](https://docs.julialang.org/en/v1/). \n",
    "\n",
    "Let's set up our code environment:"
   ]
  },
  {
   "cell_type": "code",
   "execution_count": 1,
   "id": "0dc21749-1f11-4f3d-9821-786449e5a1de",
   "metadata": {
    "tags": []
   },
   "outputs": [],
   "source": [
    "include(joinpath(@__DIR__, \"Include.jl\")); # include the Include.jl file"
   ]
  },
  {
   "cell_type": "markdown",
   "id": "3fad59f4",
   "metadata": {},
   "source": [
    "For additional information on functions and types used in this material, see the [Julia programming language documentation](https://docs.julialang.org/en/v1/) and the [VLQuantitativeFinancePackage.jl documentation](https://github.com/varnerlab/VLQuantitativeFinancePackage.jl). "
   ]
  },
  {
   "cell_type": "markdown",
   "id": "df06e8f9-0a6d-440e-bd76-05e4129882ef",
   "metadata": {},
   "source": [
    "### Data\n",
    "We gathered daily open-high-low-close (OHLC) data for each firm in the [S&P 500](https://en.wikipedia.org/wiki/S%26P_500) from `01-03-2025` until `09-26-2025`, along with data for several exchange-traded funds and volatility products during that time period.\n",
    "\n",
    "Let's load the `original_dataset::DataFrame` by calling [the `MyTestingMarketDataSet()` function](https://varnerlab.github.io/VLQuantitativeFinancePackage.jl/dev/data/#VLQuantitativeFinancePackage.MyTestingMarketDataSet)."
   ]
  },
  {
   "cell_type": "code",
   "execution_count": 2,
   "id": "274c86dc-1d5d-4adf-be13-86a113bbda7a",
   "metadata": {
    "tags": []
   },
   "outputs": [
    {
     "data": {
      "text/plain": [
       "Dict{String, DataFrame} with 482 entries:\n",
       "  \"NI\"   => \u001b[1m182×8 DataFrame\u001b[0m\u001b[0m…\n",
       "  \"EMR\"  => \u001b[1m182×8 DataFrame\u001b[0m\u001b[0m…\n",
       "  \"CTAS\" => \u001b[1m182×8 DataFrame\u001b[0m\u001b[0m…\n",
       "  \"HSIC\" => \u001b[1m182×8 DataFrame\u001b[0m\u001b[0m…\n",
       "  \"KIM\"  => \u001b[1m182×8 DataFrame\u001b[0m\u001b[0m…\n",
       "  \"PLD\"  => \u001b[1m182×8 DataFrame\u001b[0m\u001b[0m…\n",
       "  \"IEX\"  => \u001b[1m182×8 DataFrame\u001b[0m\u001b[0m…\n",
       "  \"BAC\"  => \u001b[1m182×8 DataFrame\u001b[0m\u001b[0m…\n",
       "  \"CBOE\" => \u001b[1m182×8 DataFrame\u001b[0m\u001b[0m…\n",
       "  \"EXR\"  => \u001b[1m182×8 DataFrame\u001b[0m\u001b[0m…\n",
       "  \"NCLH\" => \u001b[1m182×8 DataFrame\u001b[0m\u001b[0m…\n",
       "  \"CVS\"  => \u001b[1m182×8 DataFrame\u001b[0m\u001b[0m…\n",
       "  \"DRI\"  => \u001b[1m182×8 DataFrame\u001b[0m\u001b[0m…\n",
       "  \"DTE\"  => \u001b[1m182×8 DataFrame\u001b[0m\u001b[0m…\n",
       "  \"ZION\" => \u001b[1m182×8 DataFrame\u001b[0m\u001b[0m…\n",
       "  \"AVY\"  => \u001b[1m182×8 DataFrame\u001b[0m\u001b[0m…\n",
       "  \"EW\"   => \u001b[1m182×8 DataFrame\u001b[0m\u001b[0m…\n",
       "  \"EA\"   => \u001b[1m182×8 DataFrame\u001b[0m\u001b[0m…\n",
       "  \"NWSA\" => \u001b[1m182×8 DataFrame\u001b[0m\u001b[0m…\n",
       "  ⋮      => ⋮"
      ]
     },
     "metadata": {},
     "output_type": "display_data"
    }
   ],
   "source": [
    "original_dataset = MyTestingMarketDataSet() |> x-> x[\"dataset\"] # load the original dataset (testing)"
   ]
  },
  {
   "cell_type": "markdown",
   "id": "1a5a5ff1-3df9-4adf-8f2d-4f96146208a1",
   "metadata": {},
   "source": [
    "Not all tickers in our dataset have the maximum number of trading days for various reasons, such as acquisition or delisting events. Let's collect only those tickers with the maximum number of trading days to ensure we have consistent, complete time series for reliable analysis.\n",
    "\n",
    "First, let's compute the number of records for a firm that we know has the maximum value, e.g., `AAPL`, and save that value in the `maximum_number_trading_days::Int64` variable:"
   ]
  },
  {
   "cell_type": "code",
   "execution_count": 3,
   "id": "be27b36f-a5b4-4ae7-a6ab-3749e1477bcd",
   "metadata": {
    "tags": []
   },
   "outputs": [],
   "source": [
    "maximum_number_trading_days = original_dataset[\"AAPL\"] |> nrow;"
   ]
  },
  {
   "cell_type": "markdown",
   "id": "e7a51cbf-e698-4807-9881-724bfbdad23d",
   "metadata": {},
   "source": [
    "Now, let's iterate through our data and collect only tickers with `maximum_number_trading_days` records. Save that data in the `dataset::Dict{String,DataFrame}` variable:"
   ]
  },
  {
   "cell_type": "code",
   "execution_count": 4,
   "id": "011a6c1a-fd8f-44a1-b292-5f171ad6d8c1",
   "metadata": {
    "tags": []
   },
   "outputs": [],
   "source": [
    "dataset = let\n",
    "\n",
    "    # initialize -\n",
    "    dataset = Dict{String, DataFrame}();\n",
    "\n",
    "    # iterate through the dictionary; we can't guarantee a particular order\n",
    "    for (ticker, data) ∈ original_dataset  # we get each (K, V) pair!\n",
    "        if (nrow(data) == maximum_number_trading_days) # check if ticker has maximum trading days\n",
    "            dataset[ticker] = data;\n",
    "        end\n",
    "    end\n",
    "    dataset; # return\n",
    "end;"
   ]
  },
  {
   "cell_type": "markdown",
   "id": "37e9ec27-1dad-4f65-9cb4-651d9cc5edbc",
   "metadata": {},
   "source": [
    "Next, let's get a list of the firms in our cleaned dataset and sort them alphabetically. We store the sorted firm ticker symbols in the `list_of_tickers::Array{String,1}` variable:"
   ]
  },
  {
   "cell_type": "code",
   "execution_count": 5,
   "id": "258aa8bf-f9a7-4b14-a94f-f661e38ab5ab",
   "metadata": {
    "tags": []
   },
   "outputs": [],
   "source": [
    "list_of_tickers = keys(dataset) |> collect |> sort; # list of firm \"ticker\" symbols in alphabetical order"
   ]
  },
  {
   "cell_type": "markdown",
   "id": "d20c9866",
   "metadata": {},
   "source": [
    "Now, let's load the GBM parameters that we computed in the previous example:"
   ]
  },
  {
   "cell_type": "code",
   "execution_count": 6,
   "id": "bd7cf6b1",
   "metadata": {},
   "outputs": [],
   "source": [
    "parameters_df = let\n",
    "\n",
    "    # load -\n",
    "    df = CSV.read(joinpath(_PATH_TO_DATA,\"SAGBM-Parameters-Fall-2025.csv\"), DataFrame);\n",
    "    df; # return\n",
    "end;"
   ]
  },
  {
   "cell_type": "markdown",
   "id": "a5acb794",
   "metadata": {},
   "source": [
    "Next, let's load the covariance matrix that we computed in the previous example:"
   ]
  },
  {
   "cell_type": "code",
   "execution_count": 7,
   "id": "fa04ddcc",
   "metadata": {},
   "outputs": [],
   "source": [
    "covariance_dictionary = let\n",
    "\n",
    "    # initialize -\n",
    "    path_to_covariance = joinpath(_PATH_TO_DATA,\"Covariance-Return-Training-Fall-2025.jld2\");\n",
    "    covariance = JLD2.load(path_to_covariance);\n",
    "    covariance;\n",
    "end;"
   ]
  },
  {
   "cell_type": "markdown",
   "id": "2c60e839",
   "metadata": {},
   "source": [
    "### Constants and Parameters\n",
    "Let's define some constants and parameters that we will use in our simulations. See the comments next to each constant for additional information, including values, units, etc."
   ]
  },
  {
   "cell_type": "code",
   "execution_count": 8,
   "id": "25570d96",
   "metadata": {},
   "outputs": [],
   "source": [
    "Δt = (1.0/252.0); # time step (1 trading day, in years)\n",
    "TSIM = 182; # number of trading days to simulate (1 quarter, in trading days)\n",
    "all_range = range(1,stop=maximum_number_trading_days,step=1) |> collect;\n",
    "startdate = Date(2025,1,1); # start date of simulation\n",
    "risk_free_rate = 0.03815; # benchmark: 10-year T-note 10/03/24\n",
    "total_initial_investment = 1000; # total initial investment amount (USD)"
   ]
  },
  {
   "cell_type": "markdown",
   "id": "5233e763-8d24-496f-af57-4c234e19f7b0",
   "metadata": {},
   "source": [
    "## Task 1: Build the log return array and covariance matrix for a sample portfolio\n",
    "Modern portfolio theory requires two key inputs: expected returns and the covariance structure between assets. In this task, we will extract these statistics from our historical dataset to prepare for optimization.\n",
    "\n",
    "We will compute the expected growth (return) vector (we'll approximate this using the drift vector) and the covariance matrix for the assets in a portfolio composed of $M$ risky assets that we choose. Thus, before we compute the efficient frontier, we must decide which tickers to include in the risky portfolio. \n",
    "\n",
    "> __Ticker picker question:__ Which assets to include in your portfolio may seem like a simple question, but it turns out to be a hard question to answer, and it can have a __significant impact__ on the performance of your portfolio. There are so many interesting threads that we could pull here. But for now, just pick something. \n",
    "\n",
    "Specify a collection of ticker symbols, e.g., `AAPL`, `MSFT`, etc., that interest you in the `my_list_of_tickers::Array{String,1}` array. "
   ]
  },
  {
   "cell_type": "code",
   "execution_count": 9,
   "id": "957286f4-dfd9-4f28-8ae7-b2c75327f786",
   "metadata": {
    "tags": []
   },
   "outputs": [
    {
     "data": {
      "text/plain": [
       "3-element Vector{String}:\n",
       " \"AAPL\"\n",
       " \"MSFT\"\n",
       " \"ZION\""
      ]
     },
     "metadata": {},
     "output_type": "display_data"
    }
   ],
   "source": [
    "# TODO: Select at LEAST 3 tickers. We have some random tickers that I selected.\n",
    "# Reminder: Only use tickers that are in the dataset above, and we have parameters for them\n",
    "# If you choose tickers that are not in the dataset, you will get errors!\n",
    "my_list_of_tickers = [\"AAPL\", \"MSFT\", \"ZION\"] # list of tickers to simulate"
   ]
  },
  {
   "cell_type": "markdown",
   "id": "246a3aa2-20c7-41bc-aad7-ddc3384c372f",
   "metadata": {},
   "source": [
    "Now that we have selected the firms in our risky portfolio, we'll compute the firm-specific expected return vector and covariance matrix. We'll store these in the $\\hat{\\mu}$ and $\\hat{\\Sigma}$ variables. "
   ]
  },
  {
   "cell_type": "code",
   "execution_count": 10,
   "id": "9521e2bf-19a1-4f00-b520-2c3b4a80fcdc",
   "metadata": {
    "tags": []
   },
   "outputs": [],
   "source": [
    "μ̂, Σ̂ᵣ = let\n",
    "\n",
    "    # initialize -\n",
    "    M = length(my_list_of_tickers); # number of assets in portfolio\n",
    "    μ = Array{Float64,1}(); # drift vector\n",
    "    Σᵣ = Array{Float64,2}(undef, M, M); # covariance matrix for *our* portfolio\n",
    "    tickers_in_parameters = parameters_df[:, :ticker] |> collect; # list of tickers in parameters_df\n",
    "    covariance_ticker_list = covariance_dictionary[\"list_of_tickers\"] |> collect; # list of tickers in covariance dictionary\n",
    "    Σ = covariance_dictionary[\"covariance_matrix\"]; # full covariance matrix\n",
    "\n",
    "    # compute drift vector -\n",
    "    for ticker ∈ my_list_of_tickers\n",
    "        i = findfirst(x-> x == ticker, tickers_in_parameters); # find index of ticker in the parameters_df\n",
    "        push!(μ, parameters_df[i, :drift]); # append drift value to μ\n",
    "    end\n",
    "\n",
    "    # compute covariance matrix -\n",
    "    for i ∈ 1:M\n",
    "        for j ∈ 1:M\n",
    "            row_index = findfirst(x-> x == my_list_of_tickers[i], covariance_ticker_list); # find row index in full covariance matrix\n",
    "            col_index = findfirst(x-> x == my_list_of_tickers[j], covariance_ticker_list); # find column index in full covariance matrix\n",
    "            Σᵣ[i,j] = Σ[row_index, col_index]; # assign value to Σᵣ\n",
    "        end\n",
    "    end\n",
    "\n",
    "    (μ, Σᵣ); # return\n",
    "end;"
   ]
  },
  {
   "cell_type": "markdown",
   "id": "1eb0a022-5c7c-4240-8361-6bd751034e07",
   "metadata": {
    "tags": []
   },
   "source": [
    "## Task 2: Compute the efficient frontier for your collection of stocks\n",
    "With our expected returns and covariance matrix in hand, we can now solve the classic Markowitz optimization problem. This will give us the set of portfolios that offer the highest expected return for each level of risk.\n",
    "\n",
    "In this task, we'll compute the optimal allocation in the minimum variance sense using the tickers in the `my_list_of_tickers::Array{String,1}` vector.\n",
    "\n",
    "> __What are we going to do?__ Create an instance of the [MyMarkowitzRiskyAssetOnlyPortfolioChoiceProblem type](https://varnerlab.github.io/VLQuantitativeFinancePackage.jl/dev/portfolio/#VLQuantitativeFinancePackage.MyMarkowitzRiskyAssetOnlyPortfolioChoiceProblem), and store this in the `problem_risk` variable using a [custom build(...) method](https://varnerlab.github.io/VLQuantitativeFinancePackage.jl/dev/portfolio/#VLQuantitativeFinancePackage.build-Tuple{Type{MyMarkowitzRiskyAssetOnlyPortfolioChoiceProblem},%20NamedTuple}). You'll need to pass your covariance array $\\hat{\\Sigma}_{r}$, the expected return array $\\hat{\\mu}_{r}$, along with bounds and an initial guess, to the [build(...) method](https://varnerlab.github.io/VLQuantitativeFinancePackage.jl/dev/portfolio/#VLQuantitativeFinancePackage.build-Tuple{Type{MyMarkowitzRiskyAssetOnlyPortfolioChoiceProblem},%20NamedTuple}). Then, we can use the [solve(...) method](https://varnerlab.github.io/VLQuantitativeFinancePackage.jl/dev/portfolio/#VLQuantitativeFinancePackage.solve-Tuple{MyMarkowitzRiskyAssetOnlyPortfolioChoiceProblem}) for different values of the minimum desired return to compute the efficient frontier.\n",
    "\n",
    "First, let's set up the bounds and other parameters required for the computation of the portfolio weights along the efficient frontier:"
   ]
  },
  {
   "cell_type": "code",
   "execution_count": 11,
   "id": "9567321e-4543-4f70-904f-48b33635da7a",
   "metadata": {
    "tags": []
   },
   "outputs": [],
   "source": [
    "number_of_firms = length(my_list_of_tickers); # how many firms do we have\n",
    "wₒ = zeros(number_of_firms) # initial allocation (zeros)\n",
    "wₒ[1] = 1.0; # all money in firm 1\n",
    "bounds = zeros(number_of_firms,2); \n",
    "bounds[:,2] .= 1.0;\n",
    "number_of_points = 201;"
   ]
  },
  {
   "cell_type": "markdown",
   "id": "1d0928d4-e59d-434e-b3c8-2fab88b2d646",
   "metadata": {},
   "source": [
    "Next, let's build an instance of the [MyMarkowitzRiskyAssetOnlyPortfolioChoiceProblem type](https://varnerlab.github.io/VLQuantitativeFinancePackage.jl/dev/portfolio/#VLQuantitativeFinancePackage.MyMarkowitzRiskyAssetOnlyPortfolioChoiceProblem) using the [build(...) method](https://varnerlab.github.io/VLQuantitativeFinancePackage.jl/dev/portfolio/#VLQuantitativeFinancePackage.build-Tuple{Type{MyMarkowitzRiskyAssetOnlyPortfolioChoiceProblem},%20NamedTuple}), passing in the data for the required fields:"
   ]
  },
  {
   "cell_type": "code",
   "execution_count": 12,
   "id": "f10e57f0-d8bc-4d69-b0ad-ca989f69215f",
   "metadata": {
    "tags": []
   },
   "outputs": [],
   "source": [
    "# TODO: Build the portfolio choice problem instance\n",
    "problem_risk = build(MyMarkowitzRiskyAssetOnlyPortfolioChoiceProblem,(\n",
    "    μ = μ̂, Σ = Σ̂ᵣ, bounds = bounds, initial = wₒ, R = 0\n",
    "));"
   ]
  },
  {
   "cell_type": "markdown",
   "id": "e5b79d1c-8a2c-4b0e-80ce-765ca5969ea0",
   "metadata": {},
   "source": [
    "Now, create an array holding the minimum desired rewards (the calculation must achieve at least this much reward). We store these values in the `minimum_desired_reward_array` variable. In this example, let's start at `0` and go up to `20`$\\times{r_{f}}$ annualized return using `number_of_points`:"
   ]
  },
  {
   "cell_type": "code",
   "execution_count": 13,
   "id": "5f919feb-a7b7-4b83-bb25-8935b4a2c4a5",
   "metadata": {
    "tags": []
   },
   "outputs": [],
   "source": [
    "# TODO: Uncomment the line below to build the desired return that our portfolio should achieve\n",
    "minimum_desired_reward_array = range(0.0, stop = 20*risk_free_rate, length = number_of_points) |> collect; # R"
   ]
  },
  {
   "cell_type": "markdown",
   "id": "9479d04c",
   "metadata": {},
   "source": [
    "What's in the `minimum_desired_reward_array::Array{Float64,1}` array?"
   ]
  },
  {
   "cell_type": "code",
   "execution_count": 14,
   "id": "ff212a8d",
   "metadata": {},
   "outputs": [
    {
     "data": {
      "text/plain": [
       "201-element Vector{Float64}:\n",
       " 0.0\n",
       " 0.0038150000000000007\n",
       " 0.007630000000000001\n",
       " 0.011445000000000002\n",
       " 0.015260000000000003\n",
       " 0.019075\n",
       " 0.022890000000000004\n",
       " 0.026705000000000003\n",
       " 0.030520000000000005\n",
       " 0.034335000000000004\n",
       " ⋮\n",
       " 0.7324800000000001\n",
       " 0.7362950000000001\n",
       " 0.7401100000000002\n",
       " 0.7439250000000002\n",
       " 0.7477400000000001\n",
       " 0.7515550000000001\n",
       " 0.7553700000000001\n",
       " 0.7591850000000001\n",
       " 0.7630000000000001"
      ]
     },
     "metadata": {},
     "output_type": "display_data"
    }
   ],
   "source": [
    "minimum_desired_reward_array"
   ]
  },
  {
   "cell_type": "markdown",
   "id": "8511c320-7951-47a9-9588-4441e3e73533",
   "metadata": {},
   "source": [
    "We now iterate through the `minimum_desired_reward_array::Array{Float64,1}` and compute the minimum risk required to achieve the specified reward level using a `for-loop`.\n",
    "\n",
    "For each pass through the loop, we:\n",
    "* Update the `problem_risk` variable with the minimum desired reward (set the `R` field). We then pass the updated `problem` object to the [solve(...) method](https://varnerlab.github.io/VLQuantitativeFinancePackage.jl/dev/portfolio/#VLQuantitativeFinancePackage.solve-Tuple{MyMarkowitzRiskyAssetOnlyPortfolioChoiceProblem}) (which initializes and solves the optimization problem). The solution returned from the [solve(...) method](https://varnerlab.github.io/VLQuantitativeFinancePackage.jl/dev/portfolio/#VLQuantitativeFinancePackage.solve-Tuple{MyMarkowitzRiskyAssetOnlyPortfolioChoiceProblem}) is stored in the `solution` dictionary. \n",
    "* We check the `status` of the solution. If the `status` indicates an optimal solution was found, we store that solution in the `efficient_frontier` dictionary. In particular, we store the portfolio risk as the `key` and the expected return, risk and allocation as the `value` in the `efficient_frontier` dictionary.\n",
    "\n",
    "Why the [try-catch environment](https://docs.julialang.org/en/v1/base/base/#try)? The [solve(...) method](https://varnerlab.github.io/VLQuantitativeFinancePackage.jl/dev/portfolio/#VLQuantitativeFinancePackage.solve-Tuple{MyMarkowitzRiskyAssetOnlyPortfolioChoiceProblem}) has an [@assert statement](https://docs.julialang.org/en/v1/base/base/#Base.@assert) to check if the calculation has converged. Thus, the solve method can [throw](https://docs.julialang.org/en/v1/base/base/#Core.throw) an [AssertionError](https://docs.julialang.org/en/v1/base/base/#Core.AssertionError) if the optimization problem fails to converge. To gracefully handle this case, we use a [try-catch construct](https://docs.julialang.org/en/v1/base/base/#try). See the [is_solved_and_feasible method from the JuMP package](https://jump.dev/JuMP.jl/stable/api/JuMP/#JuMP.is_solved_and_feasible) for more information."
   ]
  },
  {
   "cell_type": "code",
   "execution_count": 15,
   "id": "7e4f97bc-9e43-438c-ba7a-a6f2bd41eeda",
   "metadata": {
    "tags": []
   },
   "outputs": [
    {
     "name": "stdout",
     "output_type": "stream",
     "text": [
      "Failed: desired R = 0.24797500000000003. Infeasible\n",
      "Failed: desired R = 0.25179. Infeasible\n",
      "Failed: desired R = 0.255605. Infeasible\n",
      "Failed: desired R = 0.25942000000000004. Infeasible\n",
      "Failed: desired R = 0.26323500000000005. Infeasible\n",
      "Failed: desired R = 0.26705000000000007. Infeasible\n",
      "Failed: desired R = 0.270865. Infeasible\n",
      "Failed: desired R = 0.27468000000000004. Infeasible\n",
      "Failed: desired R = 0.27849500000000005. Infeasible\n",
      "Failed: desired R = 0.28231000000000006. Infeasible\n",
      "Failed: desired R = 0.2861250000000001. Infeasible\n",
      "Failed: desired R = 0.28994000000000003. Infeasible\n",
      "Failed: desired R = 0.29375500000000004. Infeasible\n",
      "Failed: desired R = 0.29757000000000006. Infeasible\n",
      "Failed: desired R = 0.30138500000000007. Infeasible\n",
      "Failed: desired R = 0.3052. Infeasible\n",
      "Failed: desired R = 0.30901500000000004. Infeasible\n",
      "Failed: desired R = 0.31283000000000005. Infeasible\n",
      "Failed: desired R = 0.31664500000000007. Infeasible\n",
      "Failed: desired R = 0.3204600000000001. Infeasible\n",
      "Failed: desired R = 0.32427500000000004. Infeasible\n",
      "Failed: desired R = 0.32809000000000005. Infeasible\n",
      "Failed: desired R = 0.33190500000000006. Infeasible\n",
      "Failed: desired R = 0.3357200000000001. Infeasible\n",
      "Failed: desired R = 0.33953500000000003. Infeasible\n",
      "Failed: desired R = 0.34335000000000004. Infeasible\n",
      "Failed: desired R = 0.34716500000000006. Infeasible\n",
      "Failed: desired R = 0.35098000000000007. Infeasible\n",
      "Failed: desired R = 0.3547950000000001. Infeasible\n",
      "Failed: desired R = 0.35861000000000004. Infeasible\n",
      "Failed: desired R = 0.36242500000000005. Infeasible\n",
      "Failed: desired R = 0.36624000000000007. Infeasible\n",
      "Failed: desired R = 0.3700550000000001. Infeasible\n",
      "Failed: desired R = 0.37387000000000004. Infeasible\n",
      "Failed: desired R = 0.37768500000000005. Infeasible\n",
      "Failed: desired R = 0.38150000000000006. Infeasible\n",
      "Failed: desired R = 0.3853150000000001. Infeasible\n",
      "Failed: desired R = 0.3891300000000001. Infeasible\n",
      "Failed: desired R = 0.39294500000000004. Infeasible\n",
      "Failed: desired R = 0.39676000000000006. Infeasible\n",
      "Failed: desired R = 0.40057500000000007. Infeasible\n",
      "Failed: desired R = 0.4043900000000001. Infeasible\n",
      "Failed: desired R = 0.40820500000000004. Infeasible\n",
      "Failed: desired R = 0.41202000000000005. Infeasible\n",
      "Failed: desired R = 0.41583500000000007. Infeasible\n",
      "Failed: desired R = 0.4196500000000001. Infeasible\n",
      "Failed: desired R = 0.4234650000000001. Infeasible\n",
      "Failed: desired R = 0.42728000000000005. Infeasible\n",
      "Failed: desired R = 0.43109500000000006. Infeasible\n",
      "Failed: desired R = 0.4349100000000001. Infeasible\n",
      "Failed: desired R = 0.4387250000000001. Infeasible\n",
      "Failed: desired R = 0.44254000000000004. Infeasible\n",
      "Failed: desired R = 0.44635500000000006. Infeasible\n",
      "Failed: desired R = 0.45017000000000007. Infeasible\n",
      "Failed: desired R = 0.4539850000000001. Infeasible\n",
      "Failed: desired R = 0.4578000000000001. Infeasible\n",
      "Failed: desired R = 0.46161500000000005. Infeasible\n",
      "Failed: desired R = 0.46543000000000007. Infeasible\n",
      "Failed: desired R = 0.4692450000000001. Infeasible\n",
      "Failed: desired R = 0.4730600000000001. Infeasible\n",
      "Failed: desired R = 0.47687500000000005. Infeasible\n",
      "Failed: desired R = 0.48069000000000006. Infeasible\n",
      "Failed: desired R = 0.4845050000000001. Infeasible\n",
      "Failed: desired R = 0.4883200000000001. Infeasible\n",
      "Failed: desired R = 0.4921350000000001. Infeasible\n",
      "Failed: desired R = 0.49595000000000006. Infeasible\n",
      "Failed: desired R = 0.49976500000000007. Infeasible\n",
      "Failed: desired R = 0.50358. Infeasible\n",
      "Failed: desired R = 0.507395. Infeasible\n",
      "Failed: desired R = 0.51121. Infeasible\n",
      "Failed: desired R = 0.5150250000000001. Infeasible\n",
      "Failed: desired R = 0.5188400000000001. Infeasible\n",
      "Failed: desired R = 0.5226550000000001. Infeasible\n",
      "Failed: desired R = 0.5264700000000001. Infeasible\n",
      "Failed: desired R = 0.5302850000000001. Infeasible\n",
      "Failed: desired R = 0.5341000000000001. Infeasible\n",
      "Failed: desired R = 0.537915. Infeasible\n",
      "Failed: desired R = 0.54173. Infeasible\n",
      "Failed: desired R = 0.5455450000000001. Infeasible\n",
      "Failed: desired R = 0.5493600000000001. Infeasible\n",
      "Failed: desired R = 0.5531750000000001. Infeasible\n",
      "Failed: desired R = 0.5569900000000001. Infeasible\n",
      "Failed: desired R = 0.5608050000000001. Infeasible\n",
      "Failed: desired R = 0.5646200000000001. Infeasible\n",
      "Failed: desired R = 0.5684350000000001. Infeasible\n",
      "Failed: desired R = 0.5722500000000001. Infeasible\n",
      "Failed: desired R = 0.576065. Infeasible\n",
      "Failed: desired R = 0.5798800000000001. Infeasible\n",
      "Failed: desired R = 0.5836950000000001. Infeasible\n",
      "Failed: desired R = 0.5875100000000001. Infeasible\n",
      "Failed: desired R = 0.5913250000000001. Infeasible\n",
      "Failed: desired R = 0.5951400000000001. Infeasible\n",
      "Failed: desired R = 0.5989550000000001. Infeasible\n",
      "Failed: desired R = 0.6027700000000001. Infeasible\n",
      "Failed: desired R = 0.6065850000000002. Infeasible\n",
      "Failed: desired R = 0.6104. Infeasible\n",
      "Failed: desired R = 0.6142150000000001. Infeasible\n",
      "Failed: desired R = 0.6180300000000001. Infeasible\n",
      "Failed: desired R = 0.6218450000000001. Infeasible\n",
      "Failed: desired R = 0.6256600000000001. Infeasible\n",
      "Failed: desired R = 0.6294750000000001. Infeasible\n",
      "Failed: desired R = 0.6332900000000001. Infeasible\n",
      "Failed: desired R = 0.6371050000000001. Infeasible\n",
      "Failed: desired R = 0.6409200000000002. Infeasible\n",
      "Failed: desired R = 0.6447350000000001. Infeasible\n",
      "Failed: desired R = 0.6485500000000001. Infeasible\n",
      "Failed: desired R = 0.6523650000000001. Infeasible\n",
      "Failed: desired R = 0.6561800000000001. Infeasible\n",
      "Failed: desired R = 0.6599950000000001. Infeasible\n",
      "Failed: desired R = 0.6638100000000001. Infeasible\n",
      "Failed: desired R = 0.6676250000000001. Infeasible\n",
      "Failed: desired R = 0.6714400000000001. Infeasible\n",
      "Failed: desired R = 0.6752550000000002. Infeasible\n",
      "Failed: desired R = 0.6790700000000001. Infeasible\n",
      "Failed: desired R = 0.6828850000000001. Infeasible\n",
      "Failed: desired R = 0.6867000000000001. Infeasible\n",
      "Failed: desired R = 0.6905150000000001. Infeasible\n",
      "Failed: desired R = 0.6943300000000001. Infeasible\n",
      "Failed: desired R = 0.6981450000000001. Infeasible\n",
      "Failed: desired R = 0.7019600000000001. Infeasible\n",
      "Failed: desired R = 0.7057750000000002. Infeasible\n",
      "Failed: desired R = 0.7095900000000002. Infeasible\n",
      "Failed: desired R = 0.7134050000000001. Infeasible\n",
      "Failed: desired R = 0.7172200000000001. Infeasible\n",
      "Failed: desired R = 0.7210350000000001. Infeasible\n",
      "Failed: desired R = 0.7248500000000001. Infeasible\n",
      "Failed: desired R = 0.7286650000000001. Infeasible\n",
      "Failed: desired R = 0.7324800000000001. Infeasible\n",
      "Failed: desired R = 0.7362950000000001. Infeasible\n",
      "Failed: desired R = 0.7401100000000002. Infeasible\n",
      "Failed: desired R = 0.7439250000000002. Infeasible\n",
      "Failed: desired R = 0.7477400000000001. Infeasible\n",
      "Failed: desired R = 0.7515550000000001. Infeasible\n",
      "Failed: desired R = 0.7553700000000001. Infeasible\n",
      "Failed: desired R = 0.7591850000000001. Infeasible\n",
      "Failed: desired R = 0.7630000000000001. Infeasible\n"
     ]
    }
   ],
   "source": [
    "efficient_frontier = let\n",
    "\n",
    "    # initialize -\n",
    "    efficient_frontier = Dict{Float64, NamedTuple}();\n",
    "\n",
    "    # main loop\n",
    "    for i ∈ eachindex(minimum_desired_reward_array)\n",
    "        problem_risk.R = minimum_desired_reward_array[i]; # update the problem object with the min desired reward value\n",
    "    \n",
    "        try\n",
    "            solution = solve(problem_risk)\n",
    "            status_flag = solution[\"status\"];    \n",
    "\n",
    "            if (status_flag == MathOptInterface.LOCALLY_SOLVED)\n",
    "                risk_value = solution[\"objective_value\"]; # get the sqrt of the risk -\n",
    "                reward_value = solution[\"reward\"];\n",
    "                allocation = solution[\"argmax\"]; # TODO: JV needs to update this key\n",
    "                \n",
    "                \n",
    "                efficient_frontier[risk_value] = (risk = risk_value, reward = reward_value, w = allocation)\n",
    "            end\n",
    "        catch err\n",
    "            # Uncomment to see which R's failed ...\n",
    "            println(\"Failed: desired R = $(problem_risk.R). Infeasible\");\n",
    "        end    \n",
    "    end\n",
    "    efficient_frontier;\n",
    "end;"
   ]
  },
  {
   "cell_type": "markdown",
   "id": "d3b8db5e",
   "metadata": {},
   "source": [
    "What's in the `efficient_frontier::Dict{Float64,NamedTuple}` dictionary?"
   ]
  },
  {
   "cell_type": "code",
   "execution_count": 16,
   "id": "3d799d21",
   "metadata": {},
   "outputs": [
    {
     "data": {
      "text/plain": [
       "Dict{Float64, NamedTuple} with 63 entries:\n",
       "  0.0361783 => (risk = 0.0361783, reward = 0.210941, w = [0.313783, 0.510828, 0…\n",
       "  0.0361783 => (risk = 0.0361783, reward = 0.210941, w = [0.313783, 0.510828, 0…\n",
       "  0.0361783 => (risk = 0.0361783, reward = 0.210941, w = [0.313783, 0.510828, 0…\n",
       "  0.0361783 => (risk = 0.0361783, reward = 0.210941, w = [0.313783, 0.510828, 0…\n",
       "  0.0361783 => (risk = 0.0361783, reward = 0.210941, w = [0.313783, 0.510829, 0…\n",
       "  0.0361783 => (risk = 0.0361783, reward = 0.210941, w = [0.313783, 0.510828, 0…\n",
       "  0.0361783 => (risk = 0.0361783, reward = 0.210941, w = [0.313783, 0.510828, 0…\n",
       "  0.0361783 => (risk = 0.0361783, reward = 0.210941, w = [0.313783, 0.510829, 0…\n",
       "  0.0361783 => (risk = 0.0361783, reward = 0.210941, w = [0.313783, 0.510828, 0…\n",
       "  0.0372065 => (risk = 0.0372065, reward = 0.2289, w = [0.350445, 0.56548, 0.08…\n",
       "  0.0361783 => (risk = 0.0361783, reward = 0.210941, w = [0.313783, 0.510828, 0…\n",
       "  0.0361783 => (risk = 0.0361783, reward = 0.210941, w = [0.313783, 0.510828, 0…\n",
       "  0.0361783 => (risk = 0.0361783, reward = 0.210941, w = [0.313783, 0.510829, 0…\n",
       "  0.0361783 => (risk = 0.0361783, reward = 0.210941, w = [0.313783, 0.510829, 0…\n",
       "  0.0361783 => (risk = 0.0361783, reward = 0.210941, w = [0.313783, 0.510828, 0…\n",
       "  0.0361783 => (risk = 0.0361783, reward = 0.210941, w = [0.313783, 0.510828, 0…\n",
       "  0.0361783 => (risk = 0.0361783, reward = 0.210941, w = [0.313783, 0.510828, 0…\n",
       "  0.0361783 => (risk = 0.0361783, reward = 0.210941, w = [0.313783, 0.510828, 0…\n",
       "  0.0361783 => (risk = 0.0361783, reward = 0.210941, w = [0.313783, 0.510828, 0…\n",
       "  ⋮         => ⋮"
      ]
     },
     "metadata": {},
     "output_type": "display_data"
    }
   ],
   "source": [
    "efficient_frontier"
   ]
  },
  {
   "cell_type": "markdown",
   "id": "ba9cff58",
   "metadata": {},
   "source": [
    "### Organize efficient frontier results into a matrix for analysis and visualization\n",
    "Transform the `efficient_frontier::Dict{Float64,NamedTuple}` dictionary into a matrix format for plotting and analysis.\n",
    "\n",
    "> __What are we doing?__ Extract portfolio data from the `efficient_frontier::Dict{Float64,NamedTuple}` dictionary and organize it into the `results_array::Array{Float64,2}` matrix. Sort portfolios by risk level (small to large) and store risk, return, and allocation weights in matrix columns.\n",
    "\n",
    "> __What's in the results array?__ The `results_array::Array{Float64,2}` has `number_of_portfolios::Int64` rows and `M+2` columns:\n",
    "> * Column 1: Portfolio risk (standard deviation = √variance)  \n",
    "> * Column 2: Portfolio expected return\n",
    "> * Columns 3 to M+2: Asset allocation weights for the `M::Int64` tickers\n",
    "\n",
    "Let's build the `results_array::Array{Float64,2}` from our efficient frontier solutions:"
   ]
  },
  {
   "cell_type": "code",
   "execution_count": 17,
   "id": "290ae087",
   "metadata": {},
   "outputs": [],
   "source": [
    "results_array = let\n",
    "\n",
    "    # initialize -\n",
    "    number_of_portfolios = length(efficient_frontier); # how many portfolios do we have? (these all exited correctly)\n",
    "    M = length(my_list_of_tickers); # how many tickers do we have?\n",
    "    results_array = Array{Float64,2}(undef, number_of_portfolios, M+2);\n",
    "    risk_array_sorted = keys(efficient_frontier) |> collect |> sort;\n",
    "\n",
    "    for i ∈ eachindex(risk_array_sorted)\n",
    "        risk_value = risk_array_sorted[i] |> sqrt; # let's plot the sqrt of the risk\n",
    "        \n",
    "        data = efficient_frontier[risk_array_sorted[i]] # get the NamedTuple corresponding to this risk level\n",
    "        reward_value = data.reward;\n",
    "        w = data.w;\n",
    "\n",
    "        # TODO: Uncomment the lines below to populate the results_array\n",
    "        # The first column is risk (sorted), the second column is reward, and the remaining columns are the weights\n",
    "        results_array[i,1] = risk_value;\n",
    "        results_array[i,2] = reward_value;\n",
    "        for j ∈ 1:M\n",
    "            results_array[i,2+j] = w[j];\n",
    "        end\n",
    "    end\n",
    "\n",
    "    results_array\n",
    "end;"
   ]
  },
  {
   "cell_type": "markdown",
   "id": "39b81fbf-e29c-43c7-b4f3-10d2e134e8a2",
   "metadata": {},
   "source": [
    "### Visualize the efficient frontier\n",
    "Now that we have computed the optimal portfolios, let's visualize the classic risk-return trade-off that Markowitz theory reveals. The efficient frontier shows the boundary of achievable risk-return combinations for our selected assets.\n",
    "\n",
    "`Unhide` the code block below to see how we plotted the efficient frontier for the collection of equities and ETFs specified in the `my_list_of_tickers::Array{String,1}` array."
   ]
  },
  {
   "cell_type": "code",
   "execution_count": 18,
   "id": "2927187b-5db3-4649-b7d6-6b12d645ae53",
   "metadata": {
    "jupyter": {
     "source_hidden": true
    },
    "tags": []
   },
   "outputs": [
    {
     "data": {
      "image/png": "[encoded data removed]",
      "image/svg+xml": [
       "<?xml version=\"1.0\" encoding=\"utf-8\"?>\n",
       "<svg xmlns=\"http://www.w3.org/2000/svg\" xmlns:xlink=\"http://www.w3.org/1999/xlink\" width=\"600\" height=\"400\" viewBox=\"0 0 2400 1600\">\n",
       "<defs>\n",
       "  <clipPath id=\"clip330\">\n",
       "    <rect x=\"0\" y=\"0\" width=\"2400\" height=\"1600\"/>\n",
       "  </clipPath>\n",
       "</defs>\n",
       "<path clip-path=\"url(#clip330)\" d=\"M0 1600 L2400 1600 L2400 0 L0 0  Z\" fill=\"#ffffff\" fill-rule=\"evenodd\" fill-opacity=\"1\"/>\n",
       "<defs>\n",
       "  <clipPath id=\"clip331\">\n",
       "    <rect x=\"480\" y=\"0\" width=\"1681\" height=\"1600\"/>\n",
       "  </clipPath>\n",
       "</defs>\n",
       "<path clip-path=\"url(#clip330)\" d=\"M249.542 1423.18 L2352.76 1423.18 L2352.76 47.2441 L249.542 47.2441  Z\" fill=\"#f2f2f2\" fill-rule=\"evenodd\" fill-opacity=\"1\"/>\n",
       "<defs>\n",
       "  <clipPath id=\"clip332\">\n",
       "    <rect x=\"249\" y=\"47\" width=\"2104\" height=\"1377\"/>\n",
       "  </clipPath>\n",
       "</defs>\n",
       "<polyline clip-path=\"url(#clip332)\" style=\"stroke:#000000; stroke-linecap:round; stroke-linejoin:round; stroke-width:2; stroke-opacity:0.1; fill:none\" points=\"249.542,1423.18 249.542,47.2441 \"/>\n",
       "<polyline clip-path=\"url(#clip332)\" style=\"stroke:#000000; stroke-linecap:round; stroke-linejoin:round; stroke-width:2; stroke-opacity:0.1; fill:none\" points=\"729.369,1423.18 729.369,47.2441 \"/>\n",
       "<polyline clip-path=\"url(#clip332)\" style=\"stroke:#000000; stroke-linecap:round; stroke-linejoin:round; stroke-width:2; stroke-opacity:0.1; fill:none\" points=\"1209.2,1423.18 1209.2,47.2441 \"/>\n",
       "<polyline clip-path=\"url(#clip332)\" style=\"stroke:#000000; stroke-linecap:round; stroke-linejoin:round; stroke-width:2; stroke-opacity:0.1; fill:none\" points=\"1689.02,1423.18 1689.02,47.2441 \"/>\n",
       "<polyline clip-path=\"url(#clip332)\" style=\"stroke:#000000; stroke-linecap:round; stroke-linejoin:round; stroke-width:2; stroke-opacity:0.1; fill:none\" points=\"2168.85,1423.18 2168.85,47.2441 \"/>\n",
       "<polyline clip-path=\"url(#clip332)\" style=\"stroke:#000000; stroke-linecap:round; stroke-linejoin:round; stroke-width:2; stroke-opacity:0.1; fill:none\" points=\"249.542,1423.18 249.542,47.2441 \"/>\n",
       "<polyline clip-path=\"url(#clip332)\" style=\"stroke:#000000; stroke-linecap:round; stroke-linejoin:round; stroke-width:2; stroke-opacity:0.1; fill:none\" points=\"729.369,1423.18 729.369,47.2441 \"/>\n",
       "<polyline clip-path=\"url(#clip332)\" style=\"stroke:#000000; stroke-linecap:round; stroke-linejoin:round; stroke-width:2; stroke-opacity:0.1; fill:none\" points=\"1209.2,1423.18 1209.2,47.2441 \"/>\n",
       "<polyline clip-path=\"url(#clip332)\" style=\"stroke:#000000; stroke-linecap:round; stroke-linejoin:round; stroke-width:2; stroke-opacity:0.1; fill:none\" points=\"1689.02,1423.18 1689.02,47.2441 \"/>\n",
       "<polyline clip-path=\"url(#clip332)\" style=\"stroke:#000000; stroke-linecap:round; stroke-linejoin:round; stroke-width:2; stroke-opacity:0.1; fill:none\" points=\"2168.85,1423.18 2168.85,47.2441 \"/>\n",
       "<polyline clip-path=\"url(#clip332)\" style=\"stroke:#000000; stroke-linecap:round; stroke-linejoin:round; stroke-width:2; stroke-opacity:0.1; fill:none\" points=\"249.542,1423.18 2352.76,1423.18 \"/>\n",
       "<polyline clip-path=\"url(#clip332)\" style=\"stroke:#000000; stroke-linecap:round; stroke-linejoin:round; stroke-width:2; stroke-opacity:0.1; fill:none\" points=\"249.542,1167.03 2352.76,1167.03 \"/>\n",
       "<polyline clip-path=\"url(#clip332)\" style=\"stroke:#000000; stroke-linecap:round; stroke-linejoin:round; stroke-width:2; stroke-opacity:0.1; fill:none\" points=\"249.542,910.872 2352.76,910.872 \"/>\n",
       "<polyline clip-path=\"url(#clip332)\" style=\"stroke:#000000; stroke-linecap:round; stroke-linejoin:round; stroke-width:2; stroke-opacity:0.1; fill:none\" points=\"249.542,654.718 2352.76,654.718 \"/>\n",
       "<polyline clip-path=\"url(#clip332)\" style=\"stroke:#000000; stroke-linecap:round; stroke-linejoin:round; stroke-width:2; stroke-opacity:0.1; fill:none\" points=\"249.542,398.564 2352.76,398.564 \"/>\n",
       "<polyline clip-path=\"url(#clip332)\" style=\"stroke:#000000; stroke-linecap:round; stroke-linejoin:round; stroke-width:2; stroke-opacity:0.1; fill:none\" points=\"249.542,142.41 2352.76,142.41 \"/>\n",
       "<polyline clip-path=\"url(#clip332)\" style=\"stroke:#000000; stroke-linecap:round; stroke-linejoin:round; stroke-width:2; stroke-opacity:0.1; fill:none\" points=\"249.542,1423.18 2352.76,1423.18 \"/>\n",
       "<polyline clip-path=\"url(#clip332)\" style=\"stroke:#000000; stroke-linecap:round; stroke-linejoin:round; stroke-width:2; stroke-opacity:0.1; fill:none\" points=\"249.542,1167.03 2352.76,1167.03 \"/>\n",
       "<polyline clip-path=\"url(#clip332)\" style=\"stroke:#000000; stroke-linecap:round; stroke-linejoin:round; stroke-width:2; stroke-opacity:0.1; fill:none\" points=\"249.542,910.872 2352.76,910.872 \"/>\n",
       "<polyline clip-path=\"url(#clip332)\" style=\"stroke:#000000; stroke-linecap:round; stroke-linejoin:round; stroke-width:2; stroke-opacity:0.1; fill:none\" points=\"249.542,654.718 2352.76,654.718 \"/>\n",
       "<polyline clip-path=\"url(#clip332)\" style=\"stroke:#000000; stroke-linecap:round; stroke-linejoin:round; stroke-width:2; stroke-opacity:0.1; fill:none\" points=\"249.542,398.564 2352.76,398.564 \"/>\n",
       "<polyline clip-path=\"url(#clip332)\" style=\"stroke:#000000; stroke-linecap:round; stroke-linejoin:round; stroke-width:2; stroke-opacity:0.1; fill:none\" points=\"249.542,142.41 2352.76,142.41 \"/>\n",
       "<polyline clip-path=\"url(#clip330)\" style=\"stroke:#000000; stroke-linecap:round; stroke-linejoin:round; stroke-width:4; stroke-opacity:1; fill:none\" points=\"249.542,1423.18 2352.76,1423.18 \"/>\n",
       "<polyline clip-path=\"url(#clip330)\" style=\"stroke:#000000; stroke-linecap:round; stroke-linejoin:round; stroke-width:4; stroke-opacity:1; fill:none\" points=\"249.542,47.2441 2352.76,47.2441 \"/>\n",
       "<polyline clip-path=\"url(#clip330)\" style=\"stroke:#000000; stroke-linecap:round; stroke-linejoin:round; stroke-width:4; stroke-opacity:1; fill:none\" points=\"249.542,1423.18 249.542,1404.28 \"/>\n",
       "<polyline clip-path=\"url(#clip330)\" style=\"stroke:#000000; stroke-linecap:round; stroke-linejoin:round; stroke-width:4; stroke-opacity:1; fill:none\" points=\"729.369,1423.18 729.369,1404.28 \"/>\n",
       "<polyline clip-path=\"url(#clip330)\" style=\"stroke:#000000; stroke-linecap:round; stroke-linejoin:round; stroke-width:4; stroke-opacity:1; fill:none\" points=\"1209.2,1423.18 1209.2,1404.28 \"/>\n",
       "<polyline clip-path=\"url(#clip330)\" style=\"stroke:#000000; stroke-linecap:round; stroke-linejoin:round; stroke-width:4; stroke-opacity:1; fill:none\" points=\"1689.02,1423.18 1689.02,1404.28 \"/>\n",
       "<polyline clip-path=\"url(#clip330)\" style=\"stroke:#000000; stroke-linecap:round; stroke-linejoin:round; stroke-width:4; stroke-opacity:1; fill:none\" points=\"2168.85,1423.18 2168.85,1404.28 \"/>\n",
       "<polyline clip-path=\"url(#clip330)\" style=\"stroke:#000000; stroke-linecap:round; stroke-linejoin:round; stroke-width:4; stroke-opacity:1; fill:none\" points=\"249.542,47.2441 249.542,66.1417 \"/>\n",
       "<polyline clip-path=\"url(#clip330)\" style=\"stroke:#000000; stroke-linecap:round; stroke-linejoin:round; stroke-width:4; stroke-opacity:1; fill:none\" points=\"729.369,47.2441 729.369,66.1417 \"/>\n",
       "<polyline clip-path=\"url(#clip330)\" style=\"stroke:#000000; stroke-linecap:round; stroke-linejoin:round; stroke-width:4; stroke-opacity:1; fill:none\" points=\"1209.2,47.2441 1209.2,66.1417 \"/>\n",
       "<polyline clip-path=\"url(#clip330)\" style=\"stroke:#000000; stroke-linecap:round; stroke-linejoin:round; stroke-width:4; stroke-opacity:1; fill:none\" points=\"1689.02,47.2441 1689.02,66.1417 \"/>\n",
       "<polyline clip-path=\"url(#clip330)\" style=\"stroke:#000000; stroke-linecap:round; stroke-linejoin:round; stroke-width:4; stroke-opacity:1; fill:none\" points=\"2168.85,47.2441 2168.85,66.1417 \"/>\n",
       "<path clip-path=\"url(#clip330)\" d=\"M211.845 1454.1 Q208.234 1454.1 206.406 1457.66 Q204.6 1461.2 204.6 1468.33 Q204.6 1475.44 206.406 1479.01 Q208.234 1482.55 211.845 1482.55 Q215.48 1482.55 217.285 1479.01 Q219.114 1475.44 219.114 1468.33 Q219.114 1461.2 217.285 1457.66 Q215.48 1454.1 211.845 1454.1 M211.845 1450.39 Q217.656 1450.39 220.711 1455 Q223.79 1459.58 223.79 1468.33 Q223.79 1477.06 220.711 1481.67 Q217.656 1486.25 211.845 1486.25 Q206.035 1486.25 202.957 1481.67 Q199.901 1477.06 199.901 1468.33 Q199.901 1459.58 202.957 1455 Q206.035 1450.39 211.845 1450.39 Z\" fill=\"#000000\" fill-rule=\"nonzero\" fill-opacity=\"1\" /><path clip-path=\"url(#clip330)\" d=\"M232.007 1479.7 L236.892 1479.7 L236.892 1485.58 L232.007 1485.58 L232.007 1479.7 Z\" fill=\"#000000\" fill-rule=\"nonzero\" fill-opacity=\"1\" /><path clip-path=\"url(#clip330)\" d=\"M257.077 1454.1 Q253.466 1454.1 251.637 1457.66 Q249.831 1461.2 249.831 1468.33 Q249.831 1475.44 251.637 1479.01 Q253.466 1482.55 257.077 1482.55 Q260.711 1482.55 262.517 1479.01 Q264.345 1475.44 264.345 1468.33 Q264.345 1461.2 262.517 1457.66 Q260.711 1454.1 257.077 1454.1 M257.077 1450.39 Q262.887 1450.39 265.942 1455 Q269.021 1459.58 269.021 1468.33 Q269.021 1477.06 265.942 1481.67 Q262.887 1486.25 257.077 1486.25 Q251.267 1486.25 248.188 1481.67 Q245.132 1477.06 245.132 1468.33 Q245.132 1459.58 248.188 1455 Q251.267 1450.39 257.077 1450.39 Z\" fill=\"#000000\" fill-rule=\"nonzero\" fill-opacity=\"1\" /><path clip-path=\"url(#clip330)\" d=\"M287.239 1454.1 Q283.627 1454.1 281.799 1457.66 Q279.993 1461.2 279.993 1468.33 Q279.993 1475.44 281.799 1479.01 Q283.627 1482.55 287.239 1482.55 Q290.873 1482.55 292.678 1479.01 Q294.507 1475.44 294.507 1468.33 Q294.507 1461.2 292.678 1457.66 Q290.873 1454.1 287.239 1454.1 M287.239 1450.39 Q293.049 1450.39 296.104 1455 Q299.183 1459.58 299.183 1468.33 Q299.183 1477.06 296.104 1481.67 Q293.049 1486.25 287.239 1486.25 Q281.428 1486.25 278.35 1481.67 Q275.294 1477.06 275.294 1468.33 Q275.294 1459.58 278.35 1455 Q281.428 1450.39 287.239 1450.39 Z\" fill=\"#000000\" fill-rule=\"nonzero\" fill-opacity=\"1\" /><path clip-path=\"url(#clip330)\" d=\"M692.171 1454.1 Q688.559 1454.1 686.731 1457.66 Q684.925 1461.2 684.925 1468.33 Q684.925 1475.44 686.731 1479.01 Q688.559 1482.55 692.171 1482.55 Q695.805 1482.55 697.61 1479.01 Q699.439 1475.44 699.439 1468.33 Q699.439 1461.2 697.61 1457.66 Q695.805 1454.1 692.171 1454.1 M692.171 1450.39 Q697.981 1450.39 701.036 1455 Q704.115 1459.58 704.115 1468.33 Q704.115 1477.06 701.036 1481.67 Q697.981 1486.25 692.171 1486.25 Q686.36 1486.25 683.282 1481.67 Q680.226 1477.06 680.226 1468.33 Q680.226 1459.58 683.282 1455 Q686.36 1450.39 692.171 1450.39 Z\" fill=\"#000000\" fill-rule=\"nonzero\" fill-opacity=\"1\" /><path clip-path=\"url(#clip330)\" d=\"M712.333 1479.7 L717.217 1479.7 L717.217 1485.58 L712.333 1485.58 L712.333 1479.7 Z\" fill=\"#000000\" fill-rule=\"nonzero\" fill-opacity=\"1\" /><path clip-path=\"url(#clip330)\" d=\"M737.402 1454.1 Q733.791 1454.1 731.962 1457.66 Q730.156 1461.2 730.156 1468.33 Q730.156 1475.44 731.962 1479.01 Q733.791 1482.55 737.402 1482.55 Q741.036 1482.55 742.842 1479.01 Q744.67 1475.44 744.67 1468.33 Q744.67 1461.2 742.842 1457.66 Q741.036 1454.1 737.402 1454.1 M737.402 1450.39 Q743.212 1450.39 746.268 1455 Q749.346 1459.58 749.346 1468.33 Q749.346 1477.06 746.268 1481.67 Q743.212 1486.25 737.402 1486.25 Q731.592 1486.25 728.513 1481.67 Q725.457 1477.06 725.457 1468.33 Q725.457 1459.58 728.513 1455 Q731.592 1450.39 737.402 1450.39 Z\" fill=\"#000000\" fill-rule=\"nonzero\" fill-opacity=\"1\" /><path clip-path=\"url(#clip330)\" d=\"M757.61 1451.02 L775.966 1451.02 L775.966 1454.96 L761.892 1454.96 L761.892 1463.43 Q762.911 1463.08 763.929 1462.92 Q764.948 1462.73 765.966 1462.73 Q771.753 1462.73 775.133 1465.9 Q778.513 1469.08 778.513 1474.49 Q778.513 1480.07 775.041 1483.17 Q771.568 1486.25 765.249 1486.25 Q763.073 1486.25 760.804 1485.88 Q758.559 1485.51 756.152 1484.77 L756.152 1480.07 Q758.235 1481.2 760.457 1481.76 Q762.679 1482.32 765.156 1482.32 Q769.161 1482.32 771.499 1480.21 Q773.837 1478.1 773.837 1474.49 Q773.837 1470.88 771.499 1468.77 Q769.161 1466.67 765.156 1466.67 Q763.281 1466.67 761.406 1467.08 Q759.554 1467.5 757.61 1468.38 L757.61 1451.02 Z\" fill=\"#000000\" fill-rule=\"nonzero\" fill-opacity=\"1\" /><path clip-path=\"url(#clip330)\" d=\"M1171.5 1454.1 Q1167.89 1454.1 1166.06 1457.66 Q1164.26 1461.2 1164.26 1468.33 Q1164.26 1475.44 1166.06 1479.01 Q1167.89 1482.55 1171.5 1482.55 Q1175.13 1482.55 1176.94 1479.01 Q1178.77 1475.44 1178.77 1468.33 Q1178.77 1461.2 1176.94 1457.66 Q1175.13 1454.1 1171.5 1454.1 M1171.5 1450.39 Q1177.31 1450.39 1180.37 1455 Q1183.44 1459.58 1183.44 1468.33 Q1183.44 1477.06 1180.37 1481.67 Q1177.31 1486.25 1171.5 1486.25 Q1165.69 1486.25 1162.61 1481.67 Q1159.56 1477.06 1159.56 1468.33 Q1159.56 1459.58 1162.61 1455 Q1165.69 1450.39 1171.5 1450.39 Z\" fill=\"#000000\" fill-rule=\"nonzero\" fill-opacity=\"1\" /><path clip-path=\"url(#clip330)\" d=\"M1191.66 1479.7 L1196.55 1479.7 L1196.55 1485.58 L1191.66 1485.58 L1191.66 1479.7 Z\" fill=\"#000000\" fill-rule=\"nonzero\" fill-opacity=\"1\" /><path clip-path=\"url(#clip330)\" d=\"M1207.54 1481.64 L1215.18 1481.64 L1215.18 1455.28 L1206.87 1456.95 L1206.87 1452.69 L1215.13 1451.02 L1219.81 1451.02 L1219.81 1481.64 L1227.45 1481.64 L1227.45 1485.58 L1207.54 1485.58 L1207.54 1481.64 Z\" fill=\"#000000\" fill-rule=\"nonzero\" fill-opacity=\"1\" /><path clip-path=\"url(#clip330)\" d=\"M1246.89 1454.1 Q1243.28 1454.1 1241.45 1457.66 Q1239.65 1461.2 1239.65 1468.33 Q1239.65 1475.44 1241.45 1479.01 Q1243.28 1482.55 1246.89 1482.55 Q1250.53 1482.55 1252.33 1479.01 Q1254.16 1475.44 1254.16 1468.33 Q1254.16 1461.2 1252.33 1457.66 Q1250.53 1454.1 1246.89 1454.1 M1246.89 1450.39 Q1252.7 1450.39 1255.76 1455 Q1258.84 1459.58 1258.84 1468.33 Q1258.84 1477.06 1255.76 1481.67 Q1252.7 1486.25 1246.89 1486.25 Q1241.08 1486.25 1238 1481.67 Q1234.95 1477.06 1234.95 1468.33 Q1234.95 1459.58 1238 1455 Q1241.08 1450.39 1246.89 1450.39 Z\" fill=\"#000000\" fill-rule=\"nonzero\" fill-opacity=\"1\" /><path clip-path=\"url(#clip330)\" d=\"M1651.83 1454.1 Q1648.21 1454.1 1646.39 1457.66 Q1644.58 1461.2 1644.58 1468.33 Q1644.58 1475.44 1646.39 1479.01 Q1648.21 1482.55 1651.83 1482.55 Q1655.46 1482.55 1657.27 1479.01 Q1659.09 1475.44 1659.09 1468.33 Q1659.09 1461.2 1657.27 1457.66 Q1655.46 1454.1 1651.83 1454.1 M1651.83 1450.39 Q1657.64 1450.39 1660.69 1455 Q1663.77 1459.58 1663.77 1468.33 Q1663.77 1477.06 1660.69 1481.67 Q1657.64 1486.25 1651.83 1486.25 Q1646.02 1486.25 1642.94 1481.67 Q1639.88 1477.06 1639.88 1468.33 Q1639.88 1459.58 1642.94 1455 Q1646.02 1450.39 1651.83 1450.39 Z\" fill=\"#000000\" fill-rule=\"nonzero\" fill-opacity=\"1\" /><path clip-path=\"url(#clip330)\" d=\"M1671.99 1479.7 L1676.87 1479.7 L1676.87 1485.58 L1671.99 1485.58 L1671.99 1479.7 Z\" fill=\"#000000\" fill-rule=\"nonzero\" fill-opacity=\"1\" /><path clip-path=\"url(#clip330)\" d=\"M1687.87 1481.64 L1695.51 1481.64 L1695.51 1455.28 L1687.2 1456.95 L1687.2 1452.69 L1695.46 1451.02 L1700.14 1451.02 L1700.14 1481.64 L1707.77 1481.64 L1707.77 1485.58 L1687.87 1485.58 L1687.87 1481.64 Z\" fill=\"#000000\" fill-rule=\"nonzero\" fill-opacity=\"1\" /><path clip-path=\"url(#clip330)\" d=\"M1717.26 1451.02 L1735.62 1451.02 L1735.62 1454.96 L1721.55 1454.96 L1721.55 1463.43 Q1722.57 1463.08 1723.58 1462.92 Q1724.6 1462.73 1725.62 1462.73 Q1731.41 1462.73 1734.79 1465.9 Q1738.17 1469.08 1738.17 1474.49 Q1738.17 1480.07 1734.7 1483.17 Q1731.22 1486.25 1724.9 1486.25 Q1722.73 1486.25 1720.46 1485.88 Q1718.21 1485.51 1715.81 1484.77 L1715.81 1480.07 Q1717.89 1481.2 1720.11 1481.76 Q1722.33 1482.32 1724.81 1482.32 Q1728.82 1482.32 1731.15 1480.21 Q1733.49 1478.1 1733.49 1474.49 Q1733.49 1470.88 1731.15 1468.77 Q1728.82 1466.67 1724.81 1466.67 Q1722.94 1466.67 1721.06 1467.08 Q1719.21 1467.5 1717.26 1468.38 L1717.26 1451.02 Z\" fill=\"#000000\" fill-rule=\"nonzero\" fill-opacity=\"1\" /><path clip-path=\"url(#clip330)\" d=\"M2131.16 1454.1 Q2127.54 1454.1 2125.72 1457.66 Q2123.91 1461.2 2123.91 1468.33 Q2123.91 1475.44 2125.72 1479.01 Q2127.54 1482.55 2131.16 1482.55 Q2134.79 1482.55 2136.59 1479.01 Q2138.42 1475.44 2138.42 1468.33 Q2138.42 1461.2 2136.59 1457.66 Q2134.79 1454.1 2131.16 1454.1 M2131.16 1450.39 Q2136.97 1450.39 2140.02 1455 Q2143.1 1459.58 2143.1 1468.33 Q2143.1 1477.06 2140.02 1481.67 Q2136.97 1486.25 2131.16 1486.25 Q2125.35 1486.25 2122.27 1481.67 Q2119.21 1477.06 2119.21 1468.33 Q2119.21 1459.58 2122.27 1455 Q2125.35 1450.39 2131.16 1450.39 Z\" fill=\"#000000\" fill-rule=\"nonzero\" fill-opacity=\"1\" /><path clip-path=\"url(#clip330)\" d=\"M2151.32 1479.7 L2156.2 1479.7 L2156.2 1485.58 L2151.32 1485.58 L2151.32 1479.7 Z\" fill=\"#000000\" fill-rule=\"nonzero\" fill-opacity=\"1\" /><path clip-path=\"url(#clip330)\" d=\"M2170.41 1481.64 L2186.73 1481.64 L2186.73 1485.58 L2164.79 1485.58 L2164.79 1481.64 Q2167.45 1478.89 2172.03 1474.26 Q2176.64 1469.61 2177.82 1468.27 Q2180.07 1465.74 2180.95 1464.01 Q2181.85 1462.25 2181.85 1460.56 Q2181.85 1457.8 2179.9 1456.07 Q2177.98 1454.33 2174.88 1454.33 Q2172.68 1454.33 2170.23 1455.09 Q2167.8 1455.86 2165.02 1457.41 L2165.02 1452.69 Q2167.84 1451.55 2170.3 1450.97 Q2172.75 1450.39 2174.79 1450.39 Q2180.16 1450.39 2183.35 1453.08 Q2186.55 1455.77 2186.55 1460.26 Q2186.55 1462.39 2185.74 1464.31 Q2184.95 1466.2 2182.84 1468.8 Q2182.27 1469.47 2179.16 1472.69 Q2176.06 1475.88 2170.41 1481.64 Z\" fill=\"#000000\" fill-rule=\"nonzero\" fill-opacity=\"1\" /><path clip-path=\"url(#clip330)\" d=\"M2206.55 1454.1 Q2202.94 1454.1 2201.11 1457.66 Q2199.3 1461.2 2199.3 1468.33 Q2199.3 1475.44 2201.11 1479.01 Q2202.94 1482.55 2206.55 1482.55 Q2210.18 1482.55 2211.99 1479.01 Q2213.82 1475.44 2213.82 1468.33 Q2213.82 1461.2 2211.99 1457.66 Q2210.18 1454.1 2206.55 1454.1 M2206.55 1450.39 Q2212.36 1450.39 2215.41 1455 Q2218.49 1459.58 2218.49 1468.33 Q2218.49 1477.06 2215.41 1481.67 Q2212.36 1486.25 2206.55 1486.25 Q2200.74 1486.25 2197.66 1481.67 Q2194.6 1477.06 2194.6 1468.33 Q2194.6 1459.58 2197.66 1455 Q2200.74 1450.39 2206.55 1450.39 Z\" fill=\"#000000\" fill-rule=\"nonzero\" fill-opacity=\"1\" /><path clip-path=\"url(#clip330)\" d=\"M1022.17 1545.76 Q1024.24 1546.46 1026.18 1548.76 Q1028.16 1551.05 1030.13 1555.06 L1036.65 1568.04 L1029.75 1568.04 L1023.67 1555.85 Q1021.31 1551.08 1019.08 1549.52 Q1016.89 1547.96 1013.07 1547.96 L1006.07 1547.96 L1006.07 1568.04 L999.637 1568.04 L999.637 1520.52 L1014.15 1520.52 Q1022.3 1520.52 1026.31 1523.93 Q1030.32 1527.34 1030.32 1534.21 Q1030.32 1538.7 1028.22 1541.66 Q1026.15 1544.62 1022.17 1545.76 M1006.07 1525.81 L1006.07 1542.68 L1014.15 1542.68 Q1018.8 1542.68 1021.15 1540.54 Q1023.54 1538.38 1023.54 1534.21 Q1023.54 1530.04 1021.15 1527.94 Q1018.8 1525.81 1014.15 1525.81 L1006.07 1525.81 Z\" fill=\"#000000\" fill-rule=\"nonzero\" fill-opacity=\"1\" /><path clip-path=\"url(#clip330)\" d=\"M1044.67 1532.4 L1050.53 1532.4 L1050.53 1568.04 L1044.67 1568.04 L1044.67 1532.4 M1044.67 1518.52 L1050.53 1518.52 L1050.53 1525.93 L1044.67 1525.93 L1044.67 1518.52 Z\" fill=\"#000000\" fill-rule=\"nonzero\" fill-opacity=\"1\" /><path clip-path=\"url(#clip330)\" d=\"M1085.51 1533.45 L1085.51 1538.98 Q1083.03 1537.71 1080.35 1537.07 Q1077.68 1536.44 1074.82 1536.44 Q1070.46 1536.44 1068.26 1537.77 Q1066.1 1539.11 1066.1 1541.79 Q1066.1 1543.82 1067.65 1545 Q1069.21 1546.15 1073.93 1547.2 L1075.93 1547.64 Q1082.17 1548.98 1084.78 1551.43 Q1087.42 1553.85 1087.42 1558.21 Q1087.42 1563.17 1083.47 1566.07 Q1079.56 1568.97 1072.68 1568.97 Q1069.82 1568.97 1066.7 1568.39 Q1063.61 1567.85 1060.18 1566.74 L1060.18 1560.69 Q1063.42 1562.38 1066.57 1563.24 Q1069.72 1564.07 1072.81 1564.07 Q1076.95 1564.07 1079.18 1562.66 Q1081.4 1561.23 1081.4 1558.65 Q1081.4 1556.27 1079.78 1554.99 Q1078.19 1553.72 1072.75 1552.54 L1070.71 1552.07 Q1065.27 1550.92 1062.85 1548.56 Q1060.43 1546.18 1060.43 1542.04 Q1060.43 1537.01 1063.99 1534.27 Q1067.56 1531.54 1074.12 1531.54 Q1077.36 1531.54 1080.23 1532.01 Q1083.09 1532.49 1085.51 1533.45 Z\" fill=\"#000000\" fill-rule=\"nonzero\" fill-opacity=\"1\" /><path clip-path=\"url(#clip330)\" d=\"M1096.52 1518.52 L1102.41 1518.52 L1102.41 1547.77 L1119.89 1532.4 L1127.37 1532.4 L1108.46 1549.07 L1128.16 1568.04 L1120.52 1568.04 L1102.41 1550.63 L1102.41 1568.04 L1096.52 1568.04 L1096.52 1518.52 Z\" fill=\"#000000\" fill-rule=\"nonzero\" fill-opacity=\"1\" /><path clip-path=\"url(#clip330)\" d=\"M1177.94 1533.45 L1177.94 1538.98 Q1175.46 1537.71 1172.78 1537.07 Q1170.11 1536.44 1167.25 1536.44 Q1162.89 1536.44 1160.69 1537.77 Q1158.53 1539.11 1158.53 1541.79 Q1158.53 1543.82 1160.08 1545 Q1161.64 1546.15 1166.36 1547.2 L1168.36 1547.64 Q1174.6 1548.98 1177.21 1551.43 Q1179.85 1553.85 1179.85 1558.21 Q1179.85 1563.17 1175.9 1566.07 Q1171.99 1568.97 1165.11 1568.97 Q1162.25 1568.97 1159.13 1568.39 Q1156.04 1567.85 1152.61 1566.74 L1152.61 1560.69 Q1155.85 1562.38 1159 1563.24 Q1162.15 1564.07 1165.24 1564.07 Q1169.38 1564.07 1171.61 1562.66 Q1173.83 1561.23 1173.83 1558.65 Q1173.83 1556.27 1172.21 1554.99 Q1170.62 1553.72 1165.18 1552.54 L1163.14 1552.07 Q1157.7 1550.92 1155.28 1548.56 Q1152.86 1546.18 1152.86 1542.04 Q1152.86 1537.01 1156.42 1534.27 Q1159.99 1531.54 1166.55 1531.54 Q1169.79 1531.54 1172.66 1532.01 Q1175.52 1532.49 1177.94 1533.45 Z\" fill=\"#000000\" fill-rule=\"nonzero\" fill-opacity=\"1\" /><path clip-path=\"url(#clip330)\" d=\"M1192.68 1550.25 Q1192.68 1556.71 1195.32 1560.4 Q1197.99 1564.07 1202.64 1564.07 Q1207.29 1564.07 1209.96 1560.4 Q1212.63 1556.71 1212.63 1550.25 Q1212.63 1543.79 1209.96 1540.13 Q1207.29 1536.44 1202.64 1536.44 Q1197.99 1536.44 1195.32 1540.13 Q1192.68 1543.79 1192.68 1550.25 M1212.63 1562.7 Q1210.79 1565.88 1207.96 1567.44 Q1205.15 1568.97 1201.21 1568.97 Q1194.75 1568.97 1190.67 1563.81 Q1186.63 1558.65 1186.63 1550.25 Q1186.63 1541.85 1190.67 1536.69 Q1194.75 1531.54 1201.21 1531.54 Q1205.15 1531.54 1207.96 1533.1 Q1210.79 1534.62 1212.63 1537.81 L1212.63 1532.4 L1218.49 1532.4 L1218.49 1581.6 L1212.63 1581.6 L1212.63 1562.7 Z\" fill=\"#000000\" fill-rule=\"nonzero\" fill-opacity=\"1\" /><path clip-path=\"url(#clip330)\" d=\"M1251.21 1537.87 Q1250.22 1537.3 1249.05 1537.04 Q1247.9 1536.76 1246.5 1536.76 Q1241.53 1536.76 1238.86 1540 Q1236.22 1543.22 1236.22 1549.27 L1236.22 1568.04 L1230.33 1568.04 L1230.33 1532.4 L1236.22 1532.4 L1236.22 1537.93 Q1238.06 1534.69 1241.02 1533.13 Q1243.98 1531.54 1248.22 1531.54 Q1248.82 1531.54 1249.55 1531.63 Q1250.29 1531.7 1251.18 1531.85 L1251.21 1537.87 Z\" fill=\"#000000\" fill-rule=\"nonzero\" fill-opacity=\"1\" /><path clip-path=\"url(#clip330)\" d=\"M1263.15 1522.27 L1263.15 1532.4 L1275.21 1532.4 L1275.21 1536.95 L1263.15 1536.95 L1263.15 1556.3 Q1263.15 1560.66 1264.32 1561.9 Q1265.53 1563.14 1269.19 1563.14 L1275.21 1563.14 L1275.21 1568.04 L1269.19 1568.04 Q1262.41 1568.04 1259.84 1565.53 Q1257.26 1562.98 1257.26 1556.3 L1257.26 1536.95 L1252.96 1536.95 L1252.96 1532.4 L1257.26 1532.4 L1257.26 1522.27 L1263.15 1522.27 Z\" fill=\"#000000\" fill-rule=\"nonzero\" fill-opacity=\"1\" /><path clip-path=\"url(#clip330)\" d=\"M1296.98 1518.58 Q1292.71 1525.9 1290.65 1533.06 Q1288.58 1540.23 1288.58 1547.58 Q1288.58 1554.93 1290.65 1562.16 Q1292.75 1569.35 1296.98 1576.64 L1291.89 1576.64 Q1287.11 1569.16 1284.73 1561.93 Q1282.37 1554.71 1282.37 1547.58 Q1282.37 1540.48 1284.73 1533.29 Q1287.08 1526.09 1291.89 1518.58 L1296.98 1518.58 Z\" fill=\"#000000\" fill-rule=\"nonzero\" fill-opacity=\"1\" /><path clip-path=\"url(#clip330)\" d=\"M1304.14 1532.4 L1310.35 1532.4 L1321.49 1562.31 L1332.63 1532.4 L1338.83 1532.4 L1325.47 1568.04 L1317.51 1568.04 L1304.14 1532.4 Z\" fill=\"#000000\" fill-rule=\"nonzero\" fill-opacity=\"1\" /><path clip-path=\"url(#clip330)\" d=\"M1363.12 1550.12 Q1356.02 1550.12 1353.28 1551.75 Q1350.55 1553.37 1350.55 1557.29 Q1350.55 1560.4 1352.58 1562.25 Q1354.65 1564.07 1358.19 1564.07 Q1363.06 1564.07 1365.98 1560.63 Q1368.94 1557.16 1368.94 1551.43 L1368.94 1550.12 L1363.12 1550.12 M1374.8 1547.71 L1374.8 1568.04 L1368.94 1568.04 L1368.94 1562.63 Q1366.94 1565.88 1363.95 1567.44 Q1360.95 1568.97 1356.63 1568.97 Q1351.15 1568.97 1347.91 1565.91 Q1344.69 1562.82 1344.69 1557.67 Q1344.69 1551.65 1348.7 1548.6 Q1352.74 1545.54 1360.73 1545.54 L1368.94 1545.54 L1368.94 1544.97 Q1368.94 1540.93 1366.27 1538.73 Q1363.63 1536.5 1358.82 1536.5 Q1355.77 1536.5 1352.87 1537.23 Q1349.97 1537.97 1347.3 1539.43 L1347.3 1534.02 Q1350.52 1532.78 1353.54 1532.17 Q1356.56 1531.54 1359.43 1531.54 Q1367.16 1531.54 1370.98 1535.55 Q1374.8 1539.56 1374.8 1547.71 Z\" fill=\"#000000\" fill-rule=\"nonzero\" fill-opacity=\"1\" /><path clip-path=\"url(#clip330)\" d=\"M1407.52 1537.87 Q1406.53 1537.3 1405.36 1537.04 Q1404.21 1536.76 1402.81 1536.76 Q1397.84 1536.76 1395.17 1540 Q1392.53 1543.22 1392.53 1549.27 L1392.53 1568.04 L1386.64 1568.04 L1386.64 1532.4 L1392.53 1532.4 L1392.53 1537.93 Q1394.37 1534.69 1397.33 1533.13 Q1400.29 1531.54 1404.53 1531.54 Q1405.13 1531.54 1405.86 1531.63 Q1406.6 1531.7 1407.49 1531.85 L1407.52 1537.87 Z\" fill=\"#000000\" fill-rule=\"nonzero\" fill-opacity=\"1\" /><path clip-path=\"url(#clip330)\" d=\"M1413.66 1532.4 L1419.52 1532.4 L1419.52 1568.04 L1413.66 1568.04 L1413.66 1532.4 M1413.66 1518.52 L1419.52 1518.52 L1419.52 1525.93 L1413.66 1525.93 L1413.66 1518.52 Z\" fill=\"#000000\" fill-rule=\"nonzero\" fill-opacity=\"1\" /><path clip-path=\"url(#clip330)\" d=\"M1447.97 1550.12 Q1440.88 1550.12 1438.14 1551.75 Q1435.4 1553.37 1435.4 1557.29 Q1435.4 1560.4 1437.44 1562.25 Q1439.51 1564.07 1443.04 1564.07 Q1447.91 1564.07 1450.84 1560.63 Q1453.8 1557.16 1453.8 1551.43 L1453.8 1550.12 L1447.97 1550.12 M1459.66 1547.71 L1459.66 1568.04 L1453.8 1568.04 L1453.8 1562.63 Q1451.79 1565.88 1448.8 1567.44 Q1445.81 1568.97 1441.48 1568.97 Q1436.01 1568.97 1432.76 1565.91 Q1429.55 1562.82 1429.55 1557.67 Q1429.55 1551.65 1433.56 1548.6 Q1437.6 1545.54 1445.59 1545.54 L1453.8 1545.54 L1453.8 1544.97 Q1453.8 1540.93 1451.13 1538.73 Q1448.48 1536.5 1443.68 1536.5 Q1440.62 1536.5 1437.73 1537.23 Q1434.83 1537.97 1432.16 1539.43 L1432.16 1534.02 Q1435.37 1532.78 1438.39 1532.17 Q1441.42 1531.54 1444.28 1531.54 Q1452.02 1531.54 1455.84 1535.55 Q1459.66 1539.56 1459.66 1547.71 Z\" fill=\"#000000\" fill-rule=\"nonzero\" fill-opacity=\"1\" /><path clip-path=\"url(#clip330)\" d=\"M1501.35 1546.53 L1501.35 1568.04 L1495.49 1568.04 L1495.49 1546.72 Q1495.49 1541.66 1493.52 1539.14 Q1491.55 1536.63 1487.6 1536.63 Q1482.86 1536.63 1480.12 1539.65 Q1477.38 1542.68 1477.38 1547.9 L1477.38 1568.04 L1471.5 1568.04 L1471.5 1532.4 L1477.38 1532.4 L1477.38 1537.93 Q1479.48 1534.72 1482.32 1533.13 Q1485.18 1531.54 1488.91 1531.54 Q1495.05 1531.54 1498.2 1535.36 Q1501.35 1539.14 1501.35 1546.53 Z\" fill=\"#000000\" fill-rule=\"nonzero\" fill-opacity=\"1\" /><path clip-path=\"url(#clip330)\" d=\"M1538.69 1533.76 L1538.69 1539.24 Q1536.2 1537.87 1533.69 1537.2 Q1531.21 1536.5 1528.66 1536.5 Q1522.96 1536.5 1519.81 1540.13 Q1516.66 1543.73 1516.66 1550.25 Q1516.66 1556.78 1519.81 1560.4 Q1522.96 1564 1528.66 1564 Q1531.21 1564 1533.69 1563.33 Q1536.2 1562.63 1538.69 1561.26 L1538.69 1566.68 Q1536.23 1567.82 1533.59 1568.39 Q1530.98 1568.97 1528.02 1568.97 Q1519.97 1568.97 1515.23 1563.91 Q1510.49 1558.85 1510.49 1550.25 Q1510.49 1541.53 1515.26 1536.53 Q1520.07 1531.54 1528.4 1531.54 Q1531.11 1531.54 1533.69 1532.11 Q1536.27 1532.65 1538.69 1533.76 Z\" fill=\"#000000\" fill-rule=\"nonzero\" fill-opacity=\"1\" /><path clip-path=\"url(#clip330)\" d=\"M1579.36 1548.76 L1579.36 1551.62 L1552.44 1551.62 Q1552.82 1557.67 1556.06 1560.85 Q1559.34 1564 1565.17 1564 Q1568.54 1564 1571.69 1563.17 Q1574.87 1562.35 1577.99 1560.69 L1577.99 1566.23 Q1574.84 1567.57 1571.53 1568.27 Q1568.22 1568.97 1564.82 1568.97 Q1556.29 1568.97 1551.29 1564 Q1546.32 1559.04 1546.32 1550.57 Q1546.32 1541.82 1551.03 1536.69 Q1555.78 1531.54 1563.8 1531.54 Q1570.99 1531.54 1575.16 1536.18 Q1579.36 1540.8 1579.36 1548.76 M1573.51 1547.04 Q1573.44 1542.23 1570.8 1539.37 Q1568.19 1536.5 1563.86 1536.5 Q1558.96 1536.5 1556 1539.27 Q1553.07 1542.04 1552.63 1547.07 L1573.51 1547.04 Z\" fill=\"#000000\" fill-rule=\"nonzero\" fill-opacity=\"1\" /><path clip-path=\"url(#clip330)\" d=\"M1588.05 1518.58 L1593.14 1518.58 Q1597.92 1526.09 1600.27 1533.29 Q1602.66 1540.48 1602.66 1547.58 Q1602.66 1554.71 1600.27 1561.93 Q1597.92 1569.16 1593.14 1576.64 L1588.05 1576.64 Q1592.28 1569.35 1594.35 1562.16 Q1596.45 1554.93 1596.45 1547.58 Q1596.45 1540.23 1594.35 1533.06 Q1592.28 1525.9 1588.05 1518.58 Z\" fill=\"#000000\" fill-rule=\"nonzero\" fill-opacity=\"1\" /><polyline clip-path=\"url(#clip330)\" style=\"stroke:#000000; stroke-linecap:round; stroke-linejoin:round; stroke-width:4; stroke-opacity:1; fill:none\" points=\"249.542,1423.18 249.542,47.2441 \"/>\n",
       "<polyline clip-path=\"url(#clip330)\" style=\"stroke:#000000; stroke-linecap:round; stroke-linejoin:round; stroke-width:4; stroke-opacity:1; fill:none\" points=\"2352.76,1423.18 2352.76,47.2441 \"/>\n",
       "<polyline clip-path=\"url(#clip330)\" style=\"stroke:#000000; stroke-linecap:round; stroke-linejoin:round; stroke-width:4; stroke-opacity:1; fill:none\" points=\"249.542,1423.18 268.44,1423.18 \"/>\n",
       "<polyline clip-path=\"url(#clip330)\" style=\"stroke:#000000; stroke-linecap:round; stroke-linejoin:round; stroke-width:4; stroke-opacity:1; fill:none\" points=\"249.542,1167.03 268.44,1167.03 \"/>\n",
       "<polyline clip-path=\"url(#clip330)\" style=\"stroke:#000000; stroke-linecap:round; stroke-linejoin:round; stroke-width:4; stroke-opacity:1; fill:none\" points=\"249.542,910.872 268.44,910.872 \"/>\n",
       "<polyline clip-path=\"url(#clip330)\" style=\"stroke:#000000; stroke-linecap:round; stroke-linejoin:round; stroke-width:4; stroke-opacity:1; fill:none\" points=\"249.542,654.718 268.44,654.718 \"/>\n",
       "<polyline clip-path=\"url(#clip330)\" style=\"stroke:#000000; stroke-linecap:round; stroke-linejoin:round; stroke-width:4; stroke-opacity:1; fill:none\" points=\"249.542,398.564 268.44,398.564 \"/>\n",
       "<polyline clip-path=\"url(#clip330)\" style=\"stroke:#000000; stroke-linecap:round; stroke-linejoin:round; stroke-width:4; stroke-opacity:1; fill:none\" points=\"249.542,142.41 268.44,142.41 \"/>\n",
       "<polyline clip-path=\"url(#clip330)\" style=\"stroke:#000000; stroke-linecap:round; stroke-linejoin:round; stroke-width:4; stroke-opacity:1; fill:none\" points=\"2352.76,1423.18 2333.86,1423.18 \"/>\n",
       "<polyline clip-path=\"url(#clip330)\" style=\"stroke:#000000; stroke-linecap:round; stroke-linejoin:round; stroke-width:4; stroke-opacity:1; fill:none\" points=\"2352.76,1167.03 2333.86,1167.03 \"/>\n",
       "<polyline clip-path=\"url(#clip330)\" style=\"stroke:#000000; stroke-linecap:round; stroke-linejoin:round; stroke-width:4; stroke-opacity:1; fill:none\" points=\"2352.76,910.872 2333.86,910.872 \"/>\n",
       "<polyline clip-path=\"url(#clip330)\" style=\"stroke:#000000; stroke-linecap:round; stroke-linejoin:round; stroke-width:4; stroke-opacity:1; fill:none\" points=\"2352.76,654.718 2333.86,654.718 \"/>\n",
       "<polyline clip-path=\"url(#clip330)\" style=\"stroke:#000000; stroke-linecap:round; stroke-linejoin:round; stroke-width:4; stroke-opacity:1; fill:none\" points=\"2352.76,398.564 2333.86,398.564 \"/>\n",
       "<polyline clip-path=\"url(#clip330)\" style=\"stroke:#000000; stroke-linecap:round; stroke-linejoin:round; stroke-width:4; stroke-opacity:1; fill:none\" points=\"2352.76,142.41 2333.86,142.41 \"/>\n",
       "<path clip-path=\"url(#clip330)\" d=\"M126.205 1408.98 Q122.593 1408.98 120.765 1412.54 Q118.959 1416.08 118.959 1423.21 Q118.959 1430.32 120.765 1433.89 Q122.593 1437.43 126.205 1437.43 Q129.839 1437.43 131.644 1433.89 Q133.473 1430.32 133.473 1423.21 Q133.473 1416.08 131.644 1412.54 Q129.839 1408.98 126.205 1408.98 M126.205 1405.27 Q132.015 1405.27 135.07 1409.88 Q138.149 1414.46 138.149 1423.21 Q138.149 1431.94 135.07 1436.55 Q132.015 1441.13 126.205 1441.13 Q120.394 1441.13 117.316 1436.55 Q114.26 1431.94 114.26 1423.21 Q114.26 1414.46 117.316 1409.88 Q120.394 1405.27 126.205 1405.27 Z\" fill=\"#000000\" fill-rule=\"nonzero\" fill-opacity=\"1\" /><path clip-path=\"url(#clip330)\" d=\"M146.366 1434.58 L151.251 1434.58 L151.251 1440.46 L146.366 1440.46 L146.366 1434.58 Z\" fill=\"#000000\" fill-rule=\"nonzero\" fill-opacity=\"1\" /><path clip-path=\"url(#clip330)\" d=\"M171.436 1408.98 Q167.825 1408.98 165.996 1412.54 Q164.19 1416.08 164.19 1423.21 Q164.19 1430.32 165.996 1433.89 Q167.825 1437.43 171.436 1437.43 Q175.07 1437.43 176.876 1433.89 Q178.704 1430.32 178.704 1423.21 Q178.704 1416.08 176.876 1412.54 Q175.07 1408.98 171.436 1408.98 M171.436 1405.27 Q177.246 1405.27 180.301 1409.88 Q183.38 1414.46 183.38 1423.21 Q183.38 1431.94 180.301 1436.55 Q177.246 1441.13 171.436 1441.13 Q165.626 1441.13 162.547 1436.55 Q159.491 1431.94 159.491 1423.21 Q159.491 1414.46 162.547 1409.88 Q165.626 1405.27 171.436 1405.27 Z\" fill=\"#000000\" fill-rule=\"nonzero\" fill-opacity=\"1\" /><path clip-path=\"url(#clip330)\" d=\"M201.598 1408.98 Q197.987 1408.98 196.158 1412.54 Q194.352 1416.08 194.352 1423.21 Q194.352 1430.32 196.158 1433.89 Q197.987 1437.43 201.598 1437.43 Q205.232 1437.43 207.037 1433.89 Q208.866 1430.32 208.866 1423.21 Q208.866 1416.08 207.037 1412.54 Q205.232 1408.98 201.598 1408.98 M201.598 1405.27 Q207.408 1405.27 210.463 1409.88 Q213.542 1414.46 213.542 1423.21 Q213.542 1431.94 210.463 1436.55 Q207.408 1441.13 201.598 1441.13 Q195.787 1441.13 192.709 1436.55 Q189.653 1431.94 189.653 1423.21 Q189.653 1414.46 192.709 1409.88 Q195.787 1405.27 201.598 1405.27 Z\" fill=\"#000000\" fill-rule=\"nonzero\" fill-opacity=\"1\" /><path clip-path=\"url(#clip330)\" d=\"M127.2 1152.82 Q123.589 1152.82 121.76 1156.39 Q119.955 1159.93 119.955 1167.06 Q119.955 1174.17 121.76 1177.73 Q123.589 1181.27 127.2 1181.27 Q130.834 1181.27 132.64 1177.73 Q134.468 1174.17 134.468 1167.06 Q134.468 1159.93 132.64 1156.39 Q130.834 1152.82 127.2 1152.82 M127.2 1149.12 Q133.01 1149.12 136.066 1153.73 Q139.144 1158.31 139.144 1167.06 Q139.144 1175.79 136.066 1180.39 Q133.01 1184.98 127.2 1184.98 Q121.39 1184.98 118.311 1180.39 Q115.256 1175.79 115.256 1167.06 Q115.256 1158.31 118.311 1153.73 Q121.39 1149.12 127.2 1149.12 Z\" fill=\"#000000\" fill-rule=\"nonzero\" fill-opacity=\"1\" /><path clip-path=\"url(#clip330)\" d=\"M147.362 1178.43 L152.246 1178.43 L152.246 1184.31 L147.362 1184.31 L147.362 1178.43 Z\" fill=\"#000000\" fill-rule=\"nonzero\" fill-opacity=\"1\" /><path clip-path=\"url(#clip330)\" d=\"M172.431 1152.82 Q168.82 1152.82 166.991 1156.39 Q165.186 1159.93 165.186 1167.06 Q165.186 1174.17 166.991 1177.73 Q168.82 1181.27 172.431 1181.27 Q176.065 1181.27 177.871 1177.73 Q179.7 1174.17 179.7 1167.06 Q179.7 1159.93 177.871 1156.39 Q176.065 1152.82 172.431 1152.82 M172.431 1149.12 Q178.241 1149.12 181.297 1153.73 Q184.376 1158.31 184.376 1167.06 Q184.376 1175.79 181.297 1180.39 Q178.241 1184.98 172.431 1184.98 Q166.621 1184.98 163.542 1180.39 Q160.487 1175.79 160.487 1167.06 Q160.487 1158.31 163.542 1153.73 Q166.621 1149.12 172.431 1149.12 Z\" fill=\"#000000\" fill-rule=\"nonzero\" fill-opacity=\"1\" /><path clip-path=\"url(#clip330)\" d=\"M192.639 1149.75 L210.996 1149.75 L210.996 1153.68 L196.922 1153.68 L196.922 1162.15 Q197.94 1161.81 198.959 1161.64 Q199.977 1161.46 200.996 1161.46 Q206.783 1161.46 210.162 1164.63 Q213.542 1167.8 213.542 1173.22 Q213.542 1178.8 210.07 1181.9 Q206.598 1184.98 200.278 1184.98 Q198.102 1184.98 195.834 1184.61 Q193.588 1184.24 191.181 1183.5 L191.181 1178.8 Q193.264 1179.93 195.487 1180.49 Q197.709 1181.04 200.186 1181.04 Q204.19 1181.04 206.528 1178.94 Q208.866 1176.83 208.866 1173.22 Q208.866 1169.61 206.528 1167.5 Q204.19 1165.39 200.186 1165.39 Q198.311 1165.39 196.436 1165.81 Q194.584 1166.23 192.639 1167.11 L192.639 1149.75 Z\" fill=\"#000000\" fill-rule=\"nonzero\" fill-opacity=\"1\" /><path clip-path=\"url(#clip330)\" d=\"M126.205 896.671 Q122.593 896.671 120.765 900.236 Q118.959 903.777 118.959 910.907 Q118.959 918.013 120.765 921.578 Q122.593 925.12 126.205 925.12 Q129.839 925.12 131.644 921.578 Q133.473 918.013 133.473 910.907 Q133.473 903.777 131.644 900.236 Q129.839 896.671 126.205 896.671 M126.205 892.967 Q132.015 892.967 135.07 897.574 Q138.149 902.157 138.149 910.907 Q138.149 919.634 135.07 924.24 Q132.015 928.823 126.205 928.823 Q120.394 928.823 117.316 924.24 Q114.26 919.634 114.26 910.907 Q114.26 902.157 117.316 897.574 Q120.394 892.967 126.205 892.967 Z\" fill=\"#000000\" fill-rule=\"nonzero\" fill-opacity=\"1\" /><path clip-path=\"url(#clip330)\" d=\"M146.366 922.272 L151.251 922.272 L151.251 928.152 L146.366 928.152 L146.366 922.272 Z\" fill=\"#000000\" fill-rule=\"nonzero\" fill-opacity=\"1\" /><path clip-path=\"url(#clip330)\" d=\"M162.246 924.217 L169.885 924.217 L169.885 897.851 L161.575 899.518 L161.575 895.259 L169.839 893.592 L174.514 893.592 L174.514 924.217 L182.153 924.217 L182.153 928.152 L162.246 928.152 L162.246 924.217 Z\" fill=\"#000000\" fill-rule=\"nonzero\" fill-opacity=\"1\" /><path clip-path=\"url(#clip330)\" d=\"M201.598 896.671 Q197.987 896.671 196.158 900.236 Q194.352 903.777 194.352 910.907 Q194.352 918.013 196.158 921.578 Q197.987 925.12 201.598 925.12 Q205.232 925.12 207.037 921.578 Q208.866 918.013 208.866 910.907 Q208.866 903.777 207.037 900.236 Q205.232 896.671 201.598 896.671 M201.598 892.967 Q207.408 892.967 210.463 897.574 Q213.542 902.157 213.542 910.907 Q213.542 919.634 210.463 924.24 Q207.408 928.823 201.598 928.823 Q195.787 928.823 192.709 924.24 Q189.653 919.634 189.653 910.907 Q189.653 902.157 192.709 897.574 Q195.787 892.967 201.598 892.967 Z\" fill=\"#000000\" fill-rule=\"nonzero\" fill-opacity=\"1\" /><path clip-path=\"url(#clip330)\" d=\"M127.2 640.517 Q123.589 640.517 121.76 644.082 Q119.955 647.623 119.955 654.753 Q119.955 661.859 121.76 665.424 Q123.589 668.966 127.2 668.966 Q130.834 668.966 132.64 665.424 Q134.468 661.859 134.468 654.753 Q134.468 647.623 132.64 644.082 Q130.834 640.517 127.2 640.517 M127.2 636.813 Q133.01 636.813 136.066 641.42 Q139.144 646.003 139.144 654.753 Q139.144 663.48 136.066 668.086 Q133.01 672.669 127.2 672.669 Q121.39 672.669 118.311 668.086 Q115.256 663.48 115.256 654.753 Q115.256 646.003 118.311 641.42 Q121.39 636.813 127.2 636.813 Z\" fill=\"#000000\" fill-rule=\"nonzero\" fill-opacity=\"1\" /><path clip-path=\"url(#clip330)\" d=\"M147.362 666.119 L152.246 666.119 L152.246 671.998 L147.362 671.998 L147.362 666.119 Z\" fill=\"#000000\" fill-rule=\"nonzero\" fill-opacity=\"1\" /><path clip-path=\"url(#clip330)\" d=\"M163.241 668.063 L170.88 668.063 L170.88 641.697 L162.57 643.364 L162.57 639.105 L170.834 637.438 L175.51 637.438 L175.51 668.063 L183.149 668.063 L183.149 671.998 L163.241 671.998 L163.241 668.063 Z\" fill=\"#000000\" fill-rule=\"nonzero\" fill-opacity=\"1\" /><path clip-path=\"url(#clip330)\" d=\"M192.639 637.438 L210.996 637.438 L210.996 641.373 L196.922 641.373 L196.922 649.846 Q197.94 649.498 198.959 649.336 Q199.977 649.151 200.996 649.151 Q206.783 649.151 210.162 652.322 Q213.542 655.494 213.542 660.91 Q213.542 666.489 210.07 669.591 Q206.598 672.669 200.278 672.669 Q198.102 672.669 195.834 672.299 Q193.588 671.929 191.181 671.188 L191.181 666.489 Q193.264 667.623 195.487 668.179 Q197.709 668.734 200.186 668.734 Q204.19 668.734 206.528 666.628 Q208.866 664.521 208.866 660.91 Q208.866 657.299 206.528 655.193 Q204.19 653.086 200.186 653.086 Q198.311 653.086 196.436 653.503 Q194.584 653.92 192.639 654.799 L192.639 637.438 Z\" fill=\"#000000\" fill-rule=\"nonzero\" fill-opacity=\"1\" /><path clip-path=\"url(#clip330)\" d=\"M126.205 384.363 Q122.593 384.363 120.765 387.928 Q118.959 391.469 118.959 398.599 Q118.959 405.705 120.765 409.27 Q122.593 412.812 126.205 412.812 Q129.839 412.812 131.644 409.27 Q133.473 405.705 133.473 398.599 Q133.473 391.469 131.644 387.928 Q129.839 384.363 126.205 384.363 M126.205 380.659 Q132.015 380.659 135.07 385.266 Q138.149 389.849 138.149 398.599 Q138.149 407.326 135.07 411.932 Q132.015 416.516 126.205 416.516 Q120.394 416.516 117.316 411.932 Q114.26 407.326 114.26 398.599 Q114.26 389.849 117.316 385.266 Q120.394 380.659 126.205 380.659 Z\" fill=\"#000000\" fill-rule=\"nonzero\" fill-opacity=\"1\" /><path clip-path=\"url(#clip330)\" d=\"M146.366 409.965 L151.251 409.965 L151.251 415.844 L146.366 415.844 L146.366 409.965 Z\" fill=\"#000000\" fill-rule=\"nonzero\" fill-opacity=\"1\" /><path clip-path=\"url(#clip330)\" d=\"M165.464 411.909 L181.783 411.909 L181.783 415.844 L159.839 415.844 L159.839 411.909 Q162.501 409.155 167.084 404.525 Q171.69 399.872 172.871 398.53 Q175.116 396.006 175.996 394.27 Q176.899 392.511 176.899 390.821 Q176.899 388.067 174.954 386.331 Q173.033 384.594 169.931 384.594 Q167.732 384.594 165.278 385.358 Q162.848 386.122 160.07 387.673 L160.07 382.951 Q162.894 381.817 165.348 381.238 Q167.802 380.659 169.839 380.659 Q175.209 380.659 178.403 383.344 Q181.598 386.03 181.598 390.52 Q181.598 392.65 180.788 394.571 Q180.001 396.469 177.894 399.062 Q177.315 399.733 174.214 402.951 Q171.112 406.145 165.464 411.909 Z\" fill=\"#000000\" fill-rule=\"nonzero\" fill-opacity=\"1\" /><path clip-path=\"url(#clip330)\" d=\"M201.598 384.363 Q197.987 384.363 196.158 387.928 Q194.352 391.469 194.352 398.599 Q194.352 405.705 196.158 409.27 Q197.987 412.812 201.598 412.812 Q205.232 412.812 207.037 409.27 Q208.866 405.705 208.866 398.599 Q208.866 391.469 207.037 387.928 Q205.232 384.363 201.598 384.363 M201.598 380.659 Q207.408 380.659 210.463 385.266 Q213.542 389.849 213.542 398.599 Q213.542 407.326 210.463 411.932 Q207.408 416.516 201.598 416.516 Q195.787 416.516 192.709 411.932 Q189.653 407.326 189.653 398.599 Q189.653 389.849 192.709 385.266 Q195.787 380.659 201.598 380.659 Z\" fill=\"#000000\" fill-rule=\"nonzero\" fill-opacity=\"1\" /><path clip-path=\"url(#clip330)\" d=\"M127.2 128.209 Q123.589 128.209 121.76 131.774 Q119.955 135.316 119.955 142.445 Q119.955 149.552 121.76 153.116 Q123.589 156.658 127.2 156.658 Q130.834 156.658 132.64 153.116 Q134.468 149.552 134.468 142.445 Q134.468 135.316 132.64 131.774 Q130.834 128.209 127.2 128.209 M127.2 124.505 Q133.01 124.505 136.066 129.112 Q139.144 133.695 139.144 142.445 Q139.144 151.172 136.066 155.778 Q133.01 160.362 127.2 160.362 Q121.39 160.362 118.311 155.778 Q115.256 151.172 115.256 142.445 Q115.256 133.695 118.311 129.112 Q121.39 124.505 127.2 124.505 Z\" fill=\"#000000\" fill-rule=\"nonzero\" fill-opacity=\"1\" /><path clip-path=\"url(#clip330)\" d=\"M147.362 153.811 L152.246 153.811 L152.246 159.69 L147.362 159.69 L147.362 153.811 Z\" fill=\"#000000\" fill-rule=\"nonzero\" fill-opacity=\"1\" /><path clip-path=\"url(#clip330)\" d=\"M166.459 155.755 L182.778 155.755 L182.778 159.69 L160.834 159.69 L160.834 155.755 Q163.496 153.001 168.079 148.371 Q172.686 143.718 173.866 142.376 Q176.112 139.853 176.991 138.116 Q177.894 136.357 177.894 134.667 Q177.894 131.913 175.95 130.177 Q174.028 128.441 170.927 128.441 Q168.727 128.441 166.274 129.204 Q163.843 129.968 161.065 131.519 L161.065 126.797 Q163.89 125.663 166.343 125.084 Q168.797 124.505 170.834 124.505 Q176.204 124.505 179.399 127.191 Q182.593 129.876 182.593 134.366 Q182.593 136.496 181.783 138.417 Q180.996 140.316 178.889 142.908 Q178.311 143.579 175.209 146.797 Q172.107 149.991 166.459 155.755 Z\" fill=\"#000000\" fill-rule=\"nonzero\" fill-opacity=\"1\" /><path clip-path=\"url(#clip330)\" d=\"M192.639 125.13 L210.996 125.13 L210.996 129.066 L196.922 129.066 L196.922 137.538 Q197.94 137.191 198.959 137.028 Q199.977 136.843 200.996 136.843 Q206.783 136.843 210.162 140.015 Q213.542 143.186 213.542 148.602 Q213.542 154.181 210.07 157.283 Q206.598 160.362 200.278 160.362 Q198.102 160.362 195.834 159.991 Q193.588 159.621 191.181 158.88 L191.181 154.181 Q193.264 155.315 195.487 155.871 Q197.709 156.427 200.186 156.427 Q204.19 156.427 206.528 154.32 Q208.866 152.214 208.866 148.602 Q208.866 144.991 206.528 142.885 Q204.19 140.778 200.186 140.778 Q198.311 140.778 196.436 141.195 Q194.584 141.612 192.639 142.491 L192.639 125.13 Z\" fill=\"#000000\" fill-rule=\"nonzero\" fill-opacity=\"1\" /><path clip-path=\"url(#clip330)\" d=\"M21.7677 1140.87 L39.6235 1140.87 L39.6235 1132.78 Q39.6235 1128.29 37.3 1125.84 Q34.9765 1123.39 30.6797 1123.39 Q26.4147 1123.39 24.0912 1125.84 Q21.7677 1128.29 21.7677 1132.78 L21.7677 1140.87 M16.4842 1147.3 L16.4842 1132.78 Q16.4842 1124.79 20.1126 1120.72 Q23.7092 1116.61 30.6797 1116.61 Q37.7138 1116.61 41.3104 1120.72 Q44.907 1124.79 44.907 1132.78 L44.907 1140.87 L64.0042 1140.87 L64.0042 1147.3 L16.4842 1147.3 Z\" fill=\"#000000\" fill-rule=\"nonzero\" fill-opacity=\"1\" /><path clip-path=\"url(#clip330)\" d=\"M32.4621 1096.75 Q32.4621 1101.46 36.1542 1104.2 Q39.8145 1106.94 46.212 1106.94 Q52.6095 1106.94 56.3017 1104.23 Q59.9619 1101.49 59.9619 1096.75 Q59.9619 1092.07 56.2698 1089.34 Q52.5777 1086.6 46.212 1086.6 Q39.8781 1086.6 36.186 1089.34 Q32.4621 1092.07 32.4621 1096.75 M27.4968 1096.75 Q27.4968 1089.11 32.4621 1084.75 Q37.4273 1080.39 46.212 1080.39 Q54.9649 1080.39 59.9619 1084.75 Q64.9272 1089.11 64.9272 1096.75 Q64.9272 1104.42 59.9619 1108.78 Q54.9649 1113.11 46.212 1113.11 Q37.4273 1113.11 32.4621 1108.78 Q27.4968 1104.42 27.4968 1096.75 Z\" fill=\"#000000\" fill-rule=\"nonzero\" fill-opacity=\"1\" /><path clip-path=\"url(#clip330)\" d=\"M33.8307 1050.03 Q33.2578 1051.01 33.0032 1052.19 Q32.7167 1053.34 32.7167 1054.74 Q32.7167 1059.7 35.9632 1062.38 Q39.1779 1065.02 45.2253 1065.02 L64.0042 1065.02 L64.0042 1070.91 L28.3562 1070.91 L28.3562 1065.02 L33.8944 1065.02 Q30.6479 1063.17 29.0883 1060.21 Q27.4968 1057.25 27.4968 1053.02 Q27.4968 1052.42 27.5923 1051.68 Q27.656 1050.95 27.8151 1050.06 L33.8307 1050.03 Z\" fill=\"#000000\" fill-rule=\"nonzero\" fill-opacity=\"1\" /><path clip-path=\"url(#clip330)\" d=\"M18.2347 1038.09 L28.3562 1038.09 L28.3562 1026.03 L32.9077 1026.03 L32.9077 1038.09 L52.2594 1038.09 Q56.6199 1038.09 57.8613 1036.91 Q59.1026 1035.71 59.1026 1032.04 L59.1026 1026.03 L64.0042 1026.03 L64.0042 1032.04 Q64.0042 1038.82 61.4897 1041.4 Q58.9434 1043.98 52.2594 1043.98 L32.9077 1043.98 L32.9077 1048.28 L28.3562 1048.28 L28.3562 1043.98 L18.2347 1043.98 L18.2347 1038.09 Z\" fill=\"#000000\" fill-rule=\"nonzero\" fill-opacity=\"1\" /><path clip-path=\"url(#clip330)\" d=\"M14.479 1000.28 L19.3487 1000.28 L19.3487 1005.88 Q19.3487 1009.03 20.6219 1010.27 Q21.895 1011.48 25.2052 1011.48 L28.3562 1011.48 L28.3562 1001.84 L32.9077 1001.84 L32.9077 1011.48 L64.0042 1011.48 L64.0042 1017.37 L32.9077 1017.37 L32.9077 1022.97 L28.3562 1022.97 L28.3562 1017.37 L25.8736 1017.37 Q19.9216 1017.37 17.2162 1014.6 Q14.479 1011.83 14.479 1005.82 L14.479 1000.28 Z\" fill=\"#000000\" fill-rule=\"nonzero\" fill-opacity=\"1\" /><path clip-path=\"url(#clip330)\" d=\"M32.4621 981.565 Q32.4621 986.275 36.1542 989.013 Q39.8145 991.75 46.212 991.75 Q52.6095 991.75 56.3017 989.045 Q59.9619 986.307 59.9619 981.565 Q59.9619 976.886 56.2698 974.149 Q52.5777 971.412 46.212 971.412 Q39.8781 971.412 36.186 974.149 Q32.4621 976.886 32.4621 981.565 M27.4968 981.565 Q27.4968 973.926 32.4621 969.565 Q37.4273 965.205 46.212 965.205 Q54.9649 965.205 59.9619 969.565 Q64.9272 973.926 64.9272 981.565 Q64.9272 989.235 59.9619 993.596 Q54.9649 997.925 46.212 997.925 Q37.4273 997.925 32.4621 993.596 Q27.4968 989.235 27.4968 981.565 Z\" fill=\"#000000\" fill-rule=\"nonzero\" fill-opacity=\"1\" /><path clip-path=\"url(#clip330)\" d=\"M14.479 955.497 L14.479 949.641 L64.0042 949.641 L64.0042 955.497 L14.479 955.497 Z\" fill=\"#000000\" fill-rule=\"nonzero\" fill-opacity=\"1\" /><path clip-path=\"url(#clip330)\" d=\"M28.3562 937.387 L28.3562 931.53 L64.0042 931.53 L64.0042 937.387 L28.3562 937.387 M14.479 937.387 L14.479 931.53 L21.895 931.53 L21.895 937.387 L14.479 937.387 Z\" fill=\"#000000\" fill-rule=\"nonzero\" fill-opacity=\"1\" /><path clip-path=\"url(#clip330)\" d=\"M32.4621 905.463 Q32.4621 910.173 36.1542 912.911 Q39.8145 915.648 46.212 915.648 Q52.6095 915.648 56.3017 912.942 Q59.9619 910.205 59.9619 905.463 Q59.9619 900.784 56.2698 898.047 Q52.5777 895.309 46.212 895.309 Q39.8781 895.309 36.186 898.047 Q32.4621 900.784 32.4621 905.463 M27.4968 905.463 Q27.4968 897.824 32.4621 893.463 Q37.4273 889.103 46.212 889.103 Q54.9649 889.103 59.9619 893.463 Q64.9272 897.824 64.9272 905.463 Q64.9272 913.133 59.9619 917.494 Q54.9649 921.823 46.212 921.823 Q37.4273 921.823 32.4621 917.494 Q27.4968 913.133 27.4968 905.463 Z\" fill=\"#000000\" fill-rule=\"nonzero\" fill-opacity=\"1\" /><path clip-path=\"url(#clip330)\" d=\"M14.479 858.675 L14.479 852.818 L64.0042 852.818 L64.0042 858.675 L14.479 858.675 Z\" fill=\"#000000\" fill-rule=\"nonzero\" fill-opacity=\"1\" /><path clip-path=\"url(#clip330)\" d=\"M32.4621 826.751 Q32.4621 831.461 36.1542 834.199 Q39.8145 836.936 46.212 836.936 Q52.6095 836.936 56.3017 834.231 Q59.9619 831.493 59.9619 826.751 Q59.9619 822.072 56.2698 819.335 Q52.5777 816.598 46.212 816.598 Q39.8781 816.598 36.186 819.335 Q32.4621 822.072 32.4621 826.751 M27.4968 826.751 Q27.4968 819.112 32.4621 814.751 Q37.4273 810.391 46.212 810.391 Q54.9649 810.391 59.9619 814.751 Q64.9272 819.112 64.9272 826.751 Q64.9272 834.422 59.9619 838.782 Q54.9649 843.111 46.212 843.111 Q37.4273 843.111 32.4621 838.782 Q27.4968 834.422 27.4968 826.751 Z\" fill=\"#000000\" fill-rule=\"nonzero\" fill-opacity=\"1\" /><path clip-path=\"url(#clip330)\" d=\"M45.7664 777.226 Q39.4007 777.226 35.8996 779.867 Q32.3984 782.477 32.3984 787.22 Q32.3984 791.93 35.8996 794.572 Q39.4007 797.182 45.7664 797.182 Q52.1003 797.182 55.6014 794.572 Q59.1026 791.93 59.1026 787.22 Q59.1026 782.477 55.6014 779.867 Q52.1003 777.226 45.7664 777.226 M59.58 771.369 Q68.683 771.369 73.1071 775.411 Q77.5631 779.454 77.5631 787.793 Q77.5631 790.88 77.0857 793.617 Q76.6401 796.355 75.6852 798.933 L69.9879 798.933 Q71.3884 796.355 72.0568 793.84 Q72.7252 791.326 72.7252 788.716 Q72.7252 782.955 69.7015 780.09 Q66.7096 777.226 60.6303 777.226 L57.7339 777.226 Q60.885 779.04 62.4446 781.873 Q64.0042 784.705 64.0042 788.652 Q64.0042 795.209 59.0071 799.219 Q54.01 803.23 45.7664 803.23 Q37.491 803.23 32.4939 799.219 Q27.4968 795.209 27.4968 788.652 Q27.4968 784.705 29.0564 781.873 Q30.616 779.04 33.7671 777.226 L28.3562 777.226 L28.3562 771.369 L59.58 771.369 Z\" fill=\"#000000\" fill-rule=\"nonzero\" fill-opacity=\"1\" /><path clip-path=\"url(#clip330)\" d=\"M45.7664 715.128 Q39.4007 715.128 35.8996 717.77 Q32.3984 720.38 32.3984 725.122 Q32.3984 729.833 35.8996 732.475 Q39.4007 735.085 45.7664 735.085 Q52.1003 735.085 55.6014 732.475 Q59.1026 729.833 59.1026 725.122 Q59.1026 720.38 55.6014 717.77 Q52.1003 715.128 45.7664 715.128 M59.58 709.272 Q68.683 709.272 73.1071 713.314 Q77.5631 717.356 77.5631 725.695 Q77.5631 728.783 77.0857 731.52 Q76.6401 734.257 75.6852 736.835 L69.9879 736.835 Q71.3884 734.257 72.0568 731.743 Q72.7252 729.228 72.7252 726.618 Q72.7252 720.857 69.7015 717.993 Q66.7096 715.128 60.6303 715.128 L57.7339 715.128 Q60.885 716.942 62.4446 719.775 Q64.0042 722.608 64.0042 726.555 Q64.0042 733.111 59.0071 737.122 Q54.01 741.132 45.7664 741.132 Q37.491 741.132 32.4939 737.122 Q27.4968 733.111 27.4968 726.555 Q27.4968 722.608 29.0564 719.775 Q30.616 716.942 33.7671 715.128 L28.3562 715.128 L28.3562 709.272 L59.58 709.272 Z\" fill=\"#000000\" fill-rule=\"nonzero\" fill-opacity=\"1\" /><path clip-path=\"url(#clip330)\" d=\"M33.8307 676.552 Q33.2578 677.539 33.0032 678.716 Q32.7167 679.862 32.7167 681.263 Q32.7167 686.228 35.9632 688.901 Q39.1779 691.543 45.2253 691.543 L64.0042 691.543 L64.0042 697.431 L28.3562 697.431 L28.3562 691.543 L33.8944 691.543 Q30.6479 689.697 29.0883 686.737 Q27.4968 683.777 27.4968 679.544 Q27.4968 678.939 27.5923 678.207 Q27.656 677.475 27.8151 676.584 L33.8307 676.552 Z\" fill=\"#000000\" fill-rule=\"nonzero\" fill-opacity=\"1\" /><path clip-path=\"url(#clip330)\" d=\"M32.4621 658.028 Q32.4621 662.738 36.1542 665.476 Q39.8145 668.213 46.212 668.213 Q52.6095 668.213 56.3017 665.507 Q59.9619 662.77 59.9619 658.028 Q59.9619 653.349 56.2698 650.612 Q52.5777 647.874 46.212 647.874 Q39.8781 647.874 36.186 650.612 Q32.4621 653.349 32.4621 658.028 M27.4968 658.028 Q27.4968 650.389 32.4621 646.028 Q37.4273 641.668 46.212 641.668 Q54.9649 641.668 59.9619 646.028 Q64.9272 650.389 64.9272 658.028 Q64.9272 665.698 59.9619 670.059 Q54.9649 674.388 46.212 674.388 Q37.4273 674.388 32.4621 670.059 Q27.4968 665.698 27.4968 658.028 Z\" fill=\"#000000\" fill-rule=\"nonzero\" fill-opacity=\"1\" /><path clip-path=\"url(#clip330)\" d=\"M28.3562 635.366 L28.3562 629.509 L56.1743 622.189 L28.3562 614.9 L28.3562 607.993 L56.1743 600.673 L28.3562 593.384 L28.3562 587.528 L64.0042 596.853 L64.0042 603.76 L34.7856 611.431 L64.0042 619.133 L64.0042 626.04 L28.3562 635.366 Z\" fill=\"#000000\" fill-rule=\"nonzero\" fill-opacity=\"1\" /><path clip-path=\"url(#clip330)\" d=\"M18.2347 572.855 L28.3562 572.855 L28.3562 560.792 L32.9077 560.792 L32.9077 572.855 L52.2594 572.855 Q56.6199 572.855 57.8613 571.677 Q59.1026 570.467 59.1026 566.807 L59.1026 560.792 L64.0042 560.792 L64.0042 566.807 Q64.0042 573.587 61.4897 576.165 Q58.9434 578.743 52.2594 578.743 L32.9077 578.743 L32.9077 583.04 L28.3562 583.04 L28.3562 578.743 L18.2347 578.743 L18.2347 572.855 Z\" fill=\"#000000\" fill-rule=\"nonzero\" fill-opacity=\"1\" /><path clip-path=\"url(#clip330)\" d=\"M42.4881 523.457 L64.0042 523.457 L64.0042 529.313 L42.679 529.313 Q37.6183 529.313 35.1038 531.287 Q32.5894 533.26 32.5894 537.207 Q32.5894 541.949 35.6131 544.686 Q38.6368 547.424 43.8567 547.424 L64.0042 547.424 L64.0042 553.312 L14.479 553.312 L14.479 547.424 L33.8944 547.424 Q30.6797 545.323 29.0883 542.49 Q27.4968 539.626 27.4968 535.902 Q27.4968 529.759 31.3163 526.608 Q35.1038 523.457 42.4881 523.457 Z\" fill=\"#000000\" fill-rule=\"nonzero\" fill-opacity=\"1\" /><path clip-path=\"url(#clip330)\" d=\"M14.5426 476.987 Q21.8632 481.252 29.0246 483.321 Q36.186 485.39 43.5384 485.39 Q50.8908 485.39 58.1159 483.321 Q65.3091 481.22 72.5979 476.987 L72.5979 482.08 Q65.1182 486.854 57.8931 489.241 Q50.668 491.596 43.5384 491.596 Q36.4406 491.596 29.2474 489.241 Q22.0542 486.886 14.5426 482.08 L14.5426 476.987 Z\" fill=\"#000000\" fill-rule=\"nonzero\" fill-opacity=\"1\" /><path clip-path=\"url(#clip330)\" d=\"M58.5933 463.683 L58.5933 453.179 L22.3406 453.179 L24.6323 464.606 L18.7758 464.606 L16.4842 453.243 L16.4842 446.814 L58.5933 446.814 L58.5933 436.31 L64.0042 436.31 L64.0042 463.683 L58.5933 463.683 Z\" fill=\"#000000\" fill-rule=\"nonzero\" fill-opacity=\"1\" /><path clip-path=\"url(#clip330)\" d=\"M16.4842 413.744 L16.4842 408.333 L70.0516 424.884 L70.0516 430.295 L16.4842 413.744 Z\" fill=\"#000000\" fill-rule=\"nonzero\" fill-opacity=\"1\" /><path clip-path=\"url(#clip330)\" d=\"M67.3143 387.358 Q73.68 389.841 75.6216 392.196 Q77.5631 394.551 77.5631 398.498 L77.5631 403.177 L72.6615 403.177 L72.6615 399.739 Q72.6615 397.32 71.5157 395.983 Q70.3699 394.647 66.1048 393.023 L63.4312 391.973 L28.3562 406.391 L28.3562 400.185 L56.238 389.045 L28.3562 377.905 L28.3562 371.698 L67.3143 387.358 Z\" fill=\"#000000\" fill-rule=\"nonzero\" fill-opacity=\"1\" /><path clip-path=\"url(#clip330)\" d=\"M33.8307 342.957 Q33.2578 343.944 33.0032 345.121 Q32.7167 346.267 32.7167 347.668 Q32.7167 352.633 35.9632 355.307 Q39.1779 357.948 45.2253 357.948 L64.0042 357.948 L64.0042 363.837 L28.3562 363.837 L28.3562 357.948 L33.8944 357.948 Q30.6479 356.102 29.0883 353.142 Q27.4968 350.182 27.4968 345.949 Q27.4968 345.344 27.5923 344.612 Q27.656 343.88 27.8151 342.989 L33.8307 342.957 Z\" fill=\"#000000\" fill-rule=\"nonzero\" fill-opacity=\"1\" /><path clip-path=\"url(#clip330)\" d=\"M14.5426 337.737 L14.5426 332.645 Q22.0542 327.87 29.2474 325.515 Q36.4406 323.128 43.5384 323.128 Q50.668 323.128 57.8931 325.515 Q65.1182 327.87 72.5979 332.645 L72.5979 337.737 Q65.3091 333.504 58.1159 331.435 Q50.8908 329.335 43.5384 329.335 Q36.186 329.335 29.0246 331.435 Q21.8632 333.504 14.5426 337.737 Z\" fill=\"#000000\" fill-rule=\"nonzero\" fill-opacity=\"1\" /><polyline clip-path=\"url(#clip332)\" style=\"stroke:#333333; stroke-linecap:round; stroke-linejoin:round; stroke-width:16; stroke-opacity:1; fill:none\" points=\"2074.86,342.511 2074.86,342.511 2074.86,342.511 2074.86,342.511 2074.86,342.511 2074.86,342.511 2074.86,342.511 2074.86,342.511 2074.86,342.511 2074.86,342.511 2074.86,342.511 2074.86,342.511 2074.86,342.511 2074.86,342.511 2074.86,342.511 2074.86,342.511 2074.86,342.511 2074.86,342.511 2074.86,342.511 2074.86,342.511 2074.86,342.511 2074.86,342.511 2074.86,342.511 2074.86,342.511 2074.86,342.511 2074.86,342.511 2074.86,342.511 2074.86,342.511 2074.86,342.511 2074.86,342.511 2074.86,342.511 2074.86,342.511 2074.86,342.511 2074.86,342.511 2074.86,342.511 2074.86,342.511 2074.86,342.511 2074.86,342.511 2074.86,342.511 2074.86,342.511 2074.86,342.511 2074.86,342.511 2074.86,342.511 2074.86,342.511 2074.86,342.511 2074.86,342.511 2074.86,342.511 2074.86,342.511 2074.86,342.511 2074.86,342.511 2074.86,342.511 2074.86,342.51 2074.86,342.51 2074.86,342.508 2075.45,328.685 2078.27,309.141 2083.42,289.596 2090.88,270.052 2100.62,250.507 2112.6,230.963 2126.79,211.418 2143.12,191.874 2161.55,172.329 \"/>\n",
       "<circle clip-path=\"url(#clip332)\" cx=\"2074.86\" cy=\"342.511\" r=\"14.4\" fill=\"#ffffff\" fill-rule=\"evenodd\" fill-opacity=\"1\" stroke=\"#b0b0b0\" stroke-opacity=\"1\" stroke-width=\"3.2\"/>\n",
       "<circle clip-path=\"url(#clip332)\" cx=\"2074.86\" cy=\"342.511\" r=\"14.4\" fill=\"#ffffff\" fill-rule=\"evenodd\" fill-opacity=\"1\" stroke=\"#b0b0b0\" stroke-opacity=\"1\" stroke-width=\"3.2\"/>\n",
       "<circle clip-path=\"url(#clip332)\" cx=\"2074.86\" cy=\"342.511\" r=\"14.4\" fill=\"#ffffff\" fill-rule=\"evenodd\" fill-opacity=\"1\" stroke=\"#b0b0b0\" stroke-opacity=\"1\" stroke-width=\"3.2\"/>\n",
       "<circle clip-path=\"url(#clip332)\" cx=\"2074.86\" cy=\"342.511\" r=\"14.4\" fill=\"#ffffff\" fill-rule=\"evenodd\" fill-opacity=\"1\" stroke=\"#b0b0b0\" stroke-opacity=\"1\" stroke-width=\"3.2\"/>\n",
       "<circle clip-path=\"url(#clip332)\" cx=\"2074.86\" cy=\"342.511\" r=\"14.4\" fill=\"#ffffff\" fill-rule=\"evenodd\" fill-opacity=\"1\" stroke=\"#b0b0b0\" stroke-opacity=\"1\" stroke-width=\"3.2\"/>\n",
       "<circle clip-path=\"url(#clip332)\" cx=\"2074.86\" cy=\"342.511\" r=\"14.4\" fill=\"#ffffff\" fill-rule=\"evenodd\" fill-opacity=\"1\" stroke=\"#b0b0b0\" stroke-opacity=\"1\" stroke-width=\"3.2\"/>\n",
       "<circle clip-path=\"url(#clip332)\" cx=\"2074.86\" cy=\"342.511\" r=\"14.4\" fill=\"#ffffff\" fill-rule=\"evenodd\" fill-opacity=\"1\" stroke=\"#b0b0b0\" stroke-opacity=\"1\" stroke-width=\"3.2\"/>\n",
       "<circle clip-path=\"url(#clip332)\" cx=\"2074.86\" cy=\"342.511\" r=\"14.4\" fill=\"#ffffff\" fill-rule=\"evenodd\" fill-opacity=\"1\" stroke=\"#b0b0b0\" stroke-opacity=\"1\" stroke-width=\"3.2\"/>\n",
       "<circle clip-path=\"url(#clip332)\" cx=\"2074.86\" cy=\"342.511\" r=\"14.4\" fill=\"#ffffff\" fill-rule=\"evenodd\" fill-opacity=\"1\" stroke=\"#b0b0b0\" stroke-opacity=\"1\" stroke-width=\"3.2\"/>\n",
       "<circle clip-path=\"url(#clip332)\" cx=\"2074.86\" cy=\"342.511\" r=\"14.4\" fill=\"#ffffff\" fill-rule=\"evenodd\" fill-opacity=\"1\" stroke=\"#b0b0b0\" stroke-opacity=\"1\" stroke-width=\"3.2\"/>\n",
       "<circle clip-path=\"url(#clip332)\" cx=\"2074.86\" cy=\"342.511\" r=\"14.4\" fill=\"#ffffff\" fill-rule=\"evenodd\" fill-opacity=\"1\" stroke=\"#b0b0b0\" stroke-opacity=\"1\" stroke-width=\"3.2\"/>\n",
       "<circle clip-path=\"url(#clip332)\" cx=\"2074.86\" cy=\"342.511\" r=\"14.4\" fill=\"#ffffff\" fill-rule=\"evenodd\" fill-opacity=\"1\" stroke=\"#b0b0b0\" stroke-opacity=\"1\" stroke-width=\"3.2\"/>\n",
       "<circle clip-path=\"url(#clip332)\" cx=\"2074.86\" cy=\"342.511\" r=\"14.4\" fill=\"#ffffff\" fill-rule=\"evenodd\" fill-opacity=\"1\" stroke=\"#b0b0b0\" stroke-opacity=\"1\" stroke-width=\"3.2\"/>\n",
       "<circle clip-path=\"url(#clip332)\" cx=\"2074.86\" cy=\"342.511\" r=\"14.4\" fill=\"#ffffff\" fill-rule=\"evenodd\" fill-opacity=\"1\" stroke=\"#b0b0b0\" stroke-opacity=\"1\" stroke-width=\"3.2\"/>\n",
       "<circle clip-path=\"url(#clip332)\" cx=\"2074.86\" cy=\"342.511\" r=\"14.4\" fill=\"#ffffff\" fill-rule=\"evenodd\" fill-opacity=\"1\" stroke=\"#b0b0b0\" stroke-opacity=\"1\" stroke-width=\"3.2\"/>\n",
       "<circle clip-path=\"url(#clip332)\" cx=\"2074.86\" cy=\"342.511\" r=\"14.4\" fill=\"#ffffff\" fill-rule=\"evenodd\" fill-opacity=\"1\" stroke=\"#b0b0b0\" stroke-opacity=\"1\" stroke-width=\"3.2\"/>\n",
       "<circle clip-path=\"url(#clip332)\" cx=\"2074.86\" cy=\"342.511\" r=\"14.4\" fill=\"#ffffff\" fill-rule=\"evenodd\" fill-opacity=\"1\" stroke=\"#b0b0b0\" stroke-opacity=\"1\" stroke-width=\"3.2\"/>\n",
       "<circle clip-path=\"url(#clip332)\" cx=\"2074.86\" cy=\"342.51\" r=\"14.4\" fill=\"#ffffff\" fill-rule=\"evenodd\" fill-opacity=\"1\" stroke=\"#b0b0b0\" stroke-opacity=\"1\" stroke-width=\"3.2\"/>\n",
       "<circle clip-path=\"url(#clip332)\" cx=\"2075.45\" cy=\"328.685\" r=\"14.4\" fill=\"#ffffff\" fill-rule=\"evenodd\" fill-opacity=\"1\" stroke=\"#b0b0b0\" stroke-opacity=\"1\" stroke-width=\"3.2\"/>\n",
       "<circle clip-path=\"url(#clip332)\" cx=\"2090.88\" cy=\"270.052\" r=\"14.4\" fill=\"#ffffff\" fill-rule=\"evenodd\" fill-opacity=\"1\" stroke=\"#b0b0b0\" stroke-opacity=\"1\" stroke-width=\"3.2\"/>\n",
       "<circle clip-path=\"url(#clip332)\" cx=\"2126.79\" cy=\"211.418\" r=\"14.4\" fill=\"#ffffff\" fill-rule=\"evenodd\" fill-opacity=\"1\" stroke=\"#b0b0b0\" stroke-opacity=\"1\" stroke-width=\"3.2\"/>\n",
       "<path clip-path=\"url(#clip330)\" d=\"M319.649 196.789 L963.579 196.789 L963.579 93.1086 L319.649 93.1086  Z\" fill=\"#f2f2f2\" fill-rule=\"evenodd\" fill-opacity=\"1\"/>\n",
       "<polyline clip-path=\"url(#clip330)\" style=\"stroke:#000000; stroke-linecap:round; stroke-linejoin:round; stroke-width:4; stroke-opacity:0; fill:none\" points=\"319.649,196.789 963.579,196.789 963.579,93.1086 319.649,93.1086 319.649,196.789 \"/>\n",
       "<circle clip-path=\"url(#clip330)\" cx=\"413.125\" cy=\"144.949\" r=\"20.48\" fill=\"#ffffff\" fill-rule=\"evenodd\" fill-opacity=\"1\" stroke=\"#b0b0b0\" stroke-opacity=\"1\" stroke-width=\"4.55111\"/>\n",
       "<path clip-path=\"url(#clip330)\" d=\"M506.602 127.669 L528.453 127.669 L528.453 131.604 L511.277 131.604 L511.277 141.835 L527.736 141.835 L527.736 145.77 L511.277 145.77 L511.277 158.293 L528.87 158.293 L528.87 162.229 L506.602 162.229 L506.602 127.669 Z\" fill=\"#000000\" fill-rule=\"nonzero\" fill-opacity=\"1\" /><path clip-path=\"url(#clip330)\" d=\"M552.898 137.067 L552.898 141.094 Q551.092 140.169 549.148 139.706 Q547.203 139.243 545.12 139.243 Q541.949 139.243 540.351 140.215 Q538.777 141.187 538.777 143.131 Q538.777 144.613 539.912 145.469 Q541.046 146.303 544.472 147.067 L545.93 147.391 Q550.467 148.363 552.365 150.145 Q554.286 151.905 554.286 155.076 Q554.286 158.687 551.416 160.793 Q548.569 162.9 543.569 162.9 Q541.486 162.9 539.217 162.483 Q536.972 162.09 534.472 161.28 L534.472 156.881 Q536.833 158.108 539.124 158.733 Q541.416 159.335 543.661 159.335 Q546.671 159.335 548.291 158.317 Q549.911 157.275 549.911 155.4 Q549.911 153.664 548.731 152.738 Q547.574 151.812 543.615 150.956 L542.134 150.608 Q538.175 149.775 536.416 148.062 Q534.657 146.326 534.657 143.317 Q534.657 139.659 537.249 137.669 Q539.842 135.678 544.611 135.678 Q546.972 135.678 549.055 136.025 Q551.138 136.372 552.898 137.067 Z\" fill=\"#000000\" fill-rule=\"nonzero\" fill-opacity=\"1\" /><path clip-path=\"url(#clip330)\" d=\"M565.282 128.942 L565.282 136.303 L574.055 136.303 L574.055 139.613 L565.282 139.613 L565.282 153.687 Q565.282 156.858 566.138 157.761 Q567.018 158.664 569.68 158.664 L574.055 158.664 L574.055 162.229 L569.68 162.229 Q564.749 162.229 562.874 160.4 Q560.999 158.548 560.999 153.687 L560.999 139.613 L557.874 139.613 L557.874 136.303 L560.999 136.303 L560.999 128.942 L565.282 128.942 Z\" fill=\"#000000\" fill-rule=\"nonzero\" fill-opacity=\"1\" /><path clip-path=\"url(#clip330)\" d=\"M579.657 136.303 L583.916 136.303 L583.916 162.229 L579.657 162.229 L579.657 136.303 M579.657 126.21 L583.916 126.21 L583.916 131.604 L579.657 131.604 L579.657 126.21 Z\" fill=\"#000000\" fill-rule=\"nonzero\" fill-opacity=\"1\" /><path clip-path=\"url(#clip330)\" d=\"M613.013 141.28 Q614.61 138.409 616.832 137.044 Q619.055 135.678 622.064 135.678 Q626.115 135.678 628.314 138.525 Q630.513 141.349 630.513 146.581 L630.513 162.229 L626.23 162.229 L626.23 146.719 Q626.23 142.993 624.911 141.187 Q623.592 139.382 620.883 139.382 Q617.573 139.382 615.652 141.581 Q613.731 143.78 613.731 147.576 L613.731 162.229 L609.448 162.229 L609.448 146.719 Q609.448 142.969 608.129 141.187 Q606.809 139.382 604.055 139.382 Q600.791 139.382 598.87 141.604 Q596.948 143.803 596.948 147.576 L596.948 162.229 L592.666 162.229 L592.666 136.303 L596.948 136.303 L596.948 140.331 Q598.407 137.946 600.444 136.812 Q602.481 135.678 605.282 135.678 Q608.106 135.678 610.073 137.113 Q612.064 138.548 613.013 141.28 Z\" fill=\"#000000\" fill-rule=\"nonzero\" fill-opacity=\"1\" /><path clip-path=\"url(#clip330)\" d=\"M650.791 149.196 Q645.629 149.196 643.638 150.377 Q641.647 151.557 641.647 154.405 Q641.647 156.673 643.129 158.016 Q644.633 159.335 647.203 159.335 Q650.744 159.335 652.874 156.835 Q655.027 154.312 655.027 150.145 L655.027 149.196 L650.791 149.196 M659.286 147.437 L659.286 162.229 L655.027 162.229 L655.027 158.293 Q653.568 160.655 651.392 161.789 Q649.216 162.9 646.068 162.9 Q642.087 162.9 639.726 160.678 Q637.388 158.432 637.388 154.682 Q637.388 150.307 640.304 148.085 Q643.244 145.863 649.054 145.863 L655.027 145.863 L655.027 145.446 Q655.027 142.507 653.082 140.909 Q651.161 139.289 647.666 139.289 Q645.443 139.289 643.337 139.821 Q641.23 140.354 639.286 141.419 L639.286 137.483 Q641.624 136.581 643.823 136.141 Q646.022 135.678 648.105 135.678 Q653.73 135.678 656.508 138.594 Q659.286 141.511 659.286 147.437 Z\" fill=\"#000000\" fill-rule=\"nonzero\" fill-opacity=\"1\" /><path clip-path=\"url(#clip330)\" d=\"M672.272 128.942 L672.272 136.303 L681.045 136.303 L681.045 139.613 L672.272 139.613 L672.272 153.687 Q672.272 156.858 673.128 157.761 Q674.008 158.664 676.67 158.664 L681.045 158.664 L681.045 162.229 L676.67 162.229 Q671.74 162.229 669.865 160.4 Q667.99 158.548 667.99 153.687 L667.99 139.613 L664.865 139.613 L664.865 136.303 L667.99 136.303 L667.99 128.942 L672.272 128.942 Z\" fill=\"#000000\" fill-rule=\"nonzero\" fill-opacity=\"1\" /><path clip-path=\"url(#clip330)\" d=\"M708.823 148.201 L708.823 150.284 L689.239 150.284 Q689.517 154.682 691.878 156.997 Q694.263 159.289 698.499 159.289 Q700.952 159.289 703.244 158.687 Q705.559 158.085 707.827 156.881 L707.827 160.909 Q705.536 161.881 703.128 162.391 Q700.721 162.9 698.244 162.9 Q692.04 162.9 688.406 159.289 Q684.795 155.678 684.795 149.52 Q684.795 143.155 688.221 139.428 Q691.67 135.678 697.503 135.678 Q702.735 135.678 705.767 139.057 Q708.823 142.414 708.823 148.201 M704.563 146.951 Q704.517 143.456 702.596 141.372 Q700.698 139.289 697.55 139.289 Q693.985 139.289 691.832 141.303 Q689.702 143.317 689.378 146.974 L704.563 146.951 Z\" fill=\"#000000\" fill-rule=\"nonzero\" fill-opacity=\"1\" /><path clip-path=\"url(#clip330)\" d=\"M732.873 140.238 L732.873 126.21 L737.133 126.21 L737.133 162.229 L732.873 162.229 L732.873 158.34 Q731.531 160.655 729.471 161.789 Q727.434 162.9 724.563 162.9 Q719.864 162.9 716.901 159.15 Q713.962 155.4 713.962 149.289 Q713.962 143.178 716.901 139.428 Q719.864 135.678 724.563 135.678 Q727.434 135.678 729.471 136.812 Q731.531 137.923 732.873 140.238 M718.36 149.289 Q718.36 153.988 720.281 156.673 Q722.225 159.335 725.605 159.335 Q728.985 159.335 730.929 156.673 Q732.873 153.988 732.873 149.289 Q732.873 144.59 730.929 141.928 Q728.985 139.243 725.605 139.243 Q722.225 139.243 720.281 141.928 Q718.36 144.59 718.36 149.289 Z\" fill=\"#000000\" fill-rule=\"nonzero\" fill-opacity=\"1\" /><path clip-path=\"url(#clip330)\" d=\"M777.503 137.067 L777.503 141.094 Q775.697 140.169 773.753 139.706 Q771.808 139.243 769.725 139.243 Q766.554 139.243 764.957 140.215 Q763.383 141.187 763.383 143.131 Q763.383 144.613 764.517 145.469 Q765.651 146.303 769.077 147.067 L770.535 147.391 Q775.072 148.363 776.97 150.145 Q778.892 151.905 778.892 155.076 Q778.892 158.687 776.021 160.793 Q773.174 162.9 768.174 162.9 Q766.091 162.9 763.822 162.483 Q761.577 162.09 759.077 161.28 L759.077 156.881 Q761.438 158.108 763.73 158.733 Q766.021 159.335 768.267 159.335 Q771.276 159.335 772.896 158.317 Q774.517 157.275 774.517 155.4 Q774.517 153.664 773.336 152.738 Q772.179 151.812 768.22 150.956 L766.739 150.608 Q762.781 149.775 761.021 148.062 Q759.262 146.326 759.262 143.317 Q759.262 139.659 761.855 137.669 Q764.447 135.678 769.216 135.678 Q771.577 135.678 773.66 136.025 Q775.744 136.372 777.503 137.067 Z\" fill=\"#000000\" fill-rule=\"nonzero\" fill-opacity=\"1\" /><path clip-path=\"url(#clip330)\" d=\"M795.72 139.289 Q792.294 139.289 790.304 141.974 Q788.313 144.636 788.313 149.289 Q788.313 153.942 790.281 156.627 Q792.271 159.289 795.72 159.289 Q799.123 159.289 801.114 156.604 Q803.105 153.918 803.105 149.289 Q803.105 144.682 801.114 141.997 Q799.123 139.289 795.72 139.289 M795.72 135.678 Q801.276 135.678 804.447 139.289 Q807.618 142.9 807.618 149.289 Q807.618 155.655 804.447 159.289 Q801.276 162.9 795.72 162.9 Q790.142 162.9 786.97 159.289 Q783.822 155.655 783.822 149.289 Q783.822 142.9 786.97 139.289 Q790.142 135.678 795.72 135.678 Z\" fill=\"#000000\" fill-rule=\"nonzero\" fill-opacity=\"1\" /><path clip-path=\"url(#clip330)\" d=\"M814.679 126.21 L818.938 126.21 L818.938 162.229 L814.679 162.229 L814.679 126.21 Z\" fill=\"#000000\" fill-rule=\"nonzero\" fill-opacity=\"1\" /><path clip-path=\"url(#clip330)\" d=\"M827.41 151.997 L827.41 136.303 L831.669 136.303 L831.669 151.835 Q831.669 155.516 833.104 157.368 Q834.54 159.196 837.41 159.196 Q840.859 159.196 842.85 156.997 Q844.864 154.798 844.864 151.002 L844.864 136.303 L849.123 136.303 L849.123 162.229 L844.864 162.229 L844.864 158.247 Q843.313 160.608 841.252 161.766 Q839.215 162.9 836.507 162.9 Q832.04 162.9 829.725 160.122 Q827.41 157.344 827.41 151.997 M838.128 135.678 L838.128 135.678 Z\" fill=\"#000000\" fill-rule=\"nonzero\" fill-opacity=\"1\" /><path clip-path=\"url(#clip330)\" d=\"M862.109 128.942 L862.109 136.303 L870.882 136.303 L870.882 139.613 L862.109 139.613 L862.109 153.687 Q862.109 156.858 862.965 157.761 Q863.845 158.664 866.507 158.664 L870.882 158.664 L870.882 162.229 L866.507 162.229 Q861.576 162.229 859.701 160.4 Q857.826 158.548 857.826 153.687 L857.826 139.613 L854.701 139.613 L854.701 136.303 L857.826 136.303 L857.826 128.942 L862.109 128.942 Z\" fill=\"#000000\" fill-rule=\"nonzero\" fill-opacity=\"1\" /><path clip-path=\"url(#clip330)\" d=\"M876.484 136.303 L880.743 136.303 L880.743 162.229 L876.484 162.229 L876.484 136.303 M876.484 126.21 L880.743 126.21 L880.743 131.604 L876.484 131.604 L876.484 126.21 Z\" fill=\"#000000\" fill-rule=\"nonzero\" fill-opacity=\"1\" /><path clip-path=\"url(#clip330)\" d=\"M899.701 139.289 Q896.275 139.289 894.285 141.974 Q892.294 144.636 892.294 149.289 Q892.294 153.942 894.261 156.627 Q896.252 159.289 899.701 159.289 Q903.104 159.289 905.095 156.604 Q907.085 153.918 907.085 149.289 Q907.085 144.682 905.095 141.997 Q903.104 139.289 899.701 139.289 M899.701 135.678 Q905.257 135.678 908.428 139.289 Q911.599 142.9 911.599 149.289 Q911.599 155.655 908.428 159.289 Q905.257 162.9 899.701 162.9 Q894.123 162.9 890.951 159.289 Q887.803 155.655 887.803 149.289 Q887.803 142.9 890.951 139.289 Q894.123 135.678 899.701 135.678 Z\" fill=\"#000000\" fill-rule=\"nonzero\" fill-opacity=\"1\" /><path clip-path=\"url(#clip330)\" d=\"M940.21 146.581 L940.21 162.229 L935.951 162.229 L935.951 146.719 Q935.951 143.039 934.516 141.21 Q933.081 139.382 930.21 139.382 Q926.761 139.382 924.771 141.581 Q922.78 143.78 922.78 147.576 L922.78 162.229 L918.497 162.229 L918.497 136.303 L922.78 136.303 L922.78 140.331 Q924.308 137.993 926.368 136.835 Q928.451 135.678 931.159 135.678 Q935.627 135.678 937.919 138.456 Q940.21 141.21 940.21 146.581 Z\" fill=\"#000000\" fill-rule=\"nonzero\" fill-opacity=\"1\" /></svg>\n"
      ],
      "text/html": [
       "<img src=\"data:image/png;base64,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\" />"
      ]
     },
     "metadata": {},
     "output_type": "display_data"
    }
   ],
   "source": [
    "let\n",
    "\n",
    "    # initialize -\n",
    "    max_risk_value = results_array[end,1]; # what is the biggest risk we have (x-axis value)\n",
    "    max_reward_value = results_array[end,2]; # what is the biggest reward that we have (y-axis value)\n",
    "    number_of_portfolios = length(efficient_frontier); # how many portfolios did we recover?\n",
    "    skip = 3;\n",
    "\n",
    "    plot(results_array[:,1], results_array[:,2], lw=4, xlabel=\"Risk sqrt(variance)\", \n",
    "        ylabel=\"Portfolio log growth (1/yr)\", fontsize=18, label=\"\", c=:gray20, \n",
    "        xlim=(0.0, 1.1*max_risk_value), ylim = (0.0, 1.1*max_reward_value))\n",
    "    scatter!(results_array[1:skip:number_of_portfolios,1], results_array[1:skip:number_of_portfolios,2], \n",
    "        label=\"Estimated solution\", c=:white, ms=4, msc=:gray69)\n",
    "\n",
    "    plot!(bg=\"gray95\", background_color_outside=\"white\", framestyle = :box, fg_legend = :transparent);\n",
    "end"
   ]
  },
  {
   "cell_type": "code",
   "execution_count": 19,
   "id": "8b3a9fa1",
   "metadata": {},
   "outputs": [],
   "source": [
    "do_I_see_minvar_plot = true; # set to {true | false} if you see the minvar plot (true = yes, false = no)."
   ]
  },
  {
   "cell_type": "markdown",
   "id": "21afb91b",
   "metadata": {},
   "source": [
    "## Task 3: Simulate the performance of the minimum-variance portfolio on out-of-sample data\n",
    "Now that we have computed the efficient frontier and identified the minimum-variance portfolio, we can simulate its performance on out-of-sample data using our multiple asset Geometric Brownian Motion (MAGBM) model. This will help us understand how the portfolio might perform in a real-world scenario. \n",
    "\n",
    "To run this simulation, we need a few things. First, which portfolio are we simulating? Let's choose the minimum-variance portfolio from our efficient frontier results. We'll extract the allocation weights for this portfolio. We'll save these weights in the `w::Array{Float64,1}` array."
   ]
  },
  {
   "cell_type": "code",
   "execution_count": 20,
   "id": "7ae29856",
   "metadata": {},
   "outputs": [],
   "source": [
    "w = let\n",
    "\n",
    "    # initialize -\n",
    "    index_to_view = 1; # TODO: change this index to view different portfolios\n",
    "    w = results_array[index_to_view, 3:end] .|> x-> round(x, digits=4) |> abs; # 3:end gives the allocations\n",
    "    w; # return\n",
    "end;"
   ]
  },
  {
   "cell_type": "markdown",
   "id": "2a67b7cc",
   "metadata": {},
   "source": [
    "\n",
    "### Compute the $\\mathbf{A}$ matrix using Cholesky factorization \n",
    "We need to compute the Cholesky decomposition of the covariance matrix for the assets in our portfolio to run the MAGBM model. This will allow us to generate correlated random variables that reflect the relationships between the asset returns. Let's start there.\n",
    "\n",
    "MAGBM factors the covariance matrix $\\Sigma = \\mathbf{A}\\mathbf{A}^{\\top}$ using a [Cholesky factorization](https://en.wikipedia.org/wiki/Cholesky_decomposition) to get the $a_{ij}$ coefficients which appear in the noise term of the multi-asset geometric Brownian motion expression. We'll use the [Cholesky factorization](https://en.wikipedia.org/wiki/Cholesky_decomposition) routine implemented in the [LinearAlgebra.jl package](https://docs.julialang.org/en/v1/stdlib/LinearAlgebra/), which is part of the [Julia standard library](https://docs.julialang.org/en/v1/).\n",
    "\n",
    "> __What is going on?__ We call the [cholesky function](https://docs.julialang.org/en/v1/stdlib/LinearAlgebra/#LinearAlgebra.cholesky) with the covariance matrix `Σ̂ᵣ` as an argument. This returns the matrix factorization in the [Cholesky type](https://docs.julialang.org/en/v1/stdlib/LinearAlgebra/#LinearAlgebra.Cholesky), which has the `L` and `U` fields, holding the `lower` and `upper` triangular factorizations, respectively. We convert the `lower` triangular factor into a [Matrix type](https://docs.julialang.org/en/v1/base/arrays/#Base.Matrix) so that we can do computations with it later. We store this matrix in the variable $\\mathbf{A}$, where the coefficients $a_{ij}\\in\\mathbf{A}$.\n",
    "\n",
    "So what do we get?"
   ]
  },
  {
   "cell_type": "code",
   "execution_count": 21,
   "id": "514ceffa",
   "metadata": {},
   "outputs": [],
   "source": [
    "A,Ā = let \n",
    "    factors = cholesky(Σ̂ᵣ);\n",
    "    A = factors.L |> x-> Matrix(x)\n",
    "    Ā = diagm(0 => diag(A))\n",
    "    (A, Ā)\n",
    "end;"
   ]
  },
  {
   "cell_type": "markdown",
   "id": "24aa643e",
   "metadata": {},
   "source": [
    "#### Check: Is the Cholesky factorization legit?\n",
    "Before we use the [Cholesky factorization](https://en.wikipedia.org/wiki/Cholesky_decomposition) in our multi-asset simulation, let's check that we can recover the original firm-specific covariance matrix `Σ̂ᵣ`. We know that $\\mathbf{A}\\mathbf{A}^{\\top} = \\Sigma$, so let's compare `Σ̂ᵣ` and the matrix product $\\mathbf{A}\\mathbf{A}^{\\top}$ using the [@assert macro](https://docs.julialang.org/en/v1/base/base/#Base.@assert) in combination with the [isapprox function](https://docs.julialang.org/en/v1/base/math/#Base.isapprox) with `rtol = 1e-6` (or you can choose some other random small value).\n",
    "> __Test__ If the `Σ̂ᵣ` and the matrix product $\\mathbf{A}\\mathbf{A}^{\\top}$ are `NOT` close, i.e., the difference between them is larger than the absolute tolerance `atol` value, the [isapprox function](https://docs.julialang.org/en/v1/base/math/#Base.isapprox) will evaluate to `false` and the [@assert macro](https://docs.julialang.org/en/v1/base/base/#Base.@assert) will throw an [AssertionError](https://docs.julialang.org/en/v1/base/base/#Core.AssertionError). Otherwise, nothing happens (which is good).\n",
    "\n",
    "Did we pass the test? If you did not get an error, then yes!"
   ]
  },
  {
   "cell_type": "code",
   "execution_count": 22,
   "id": "500b0162",
   "metadata": {},
   "outputs": [],
   "source": [
    "@assert isapprox(Σ̂ᵣ, A*transpose(A), atol = 1e-6)"
   ]
  },
  {
   "cell_type": "markdown",
   "id": "6b5c68ef",
   "metadata": {},
   "source": [
    "Next, let's grab the initial prices for the assets in our portfolio from the `dataset::Dict{String,DataFrame}` dictionary. We'll store these initial prices in the `Sₒ::Array{Float64,1}` array."
   ]
  },
  {
   "cell_type": "code",
   "execution_count": 23,
   "id": "be8d7330",
   "metadata": {},
   "outputs": [],
   "source": [
    "Sₒ = let\n",
    "\n",
    "    # initialize -\n",
    "    Sₒ = Array{Float64,1}(); # initial stock prices vector\n",
    "\n",
    "    # TODO: Uncomment the lines below to populate the initial stock prices vector Sₒ\n",
    "    # We iterate throough the list of tickers and get the opening price on day 1\n",
    "    # We use the push! function to append values to the Sₒ array\n",
    "    for ticker ∈ my_list_of_tickers\n",
    "        data = dataset[ticker]; # get the data for the ticker\n",
    "        price = data[1, :open]; # get the first opening price (we buy at the open of day 1)\n",
    "        push!(Sₒ, price); # append to Sₒ\n",
    "    end\n",
    "\n",
    "    \n",
    "    Sₒ; # return\n",
    "end;"
   ]
  },
  {
   "cell_type": "markdown",
   "id": "a31e73bb",
   "metadata": {},
   "source": [
    "How much of each asset do we purchase in our minimum-variance portfolio? We can compute this from the initial investment amount and the allocation weights.\n",
    "\n",
    "> __Initial share calculation:__ The number of shares purchased for each asset in the minimum-variance portfolio is calculated by multiplying the total initial investment budget ($B$) by the allocation weight for each asset, and then dividing by the initial price of that asset, which we denote as $S^{(i)}_{0}$. This gives us the number of shares we can afford to buy with our allocated funds for each asset, or:\n",
    "> $$\n",
    "\\begin{align*}\n",
    "N_i &= \\frac{w_i\\;B}{S^{(i)}_{0}} \\\\\n",
    "\\end{align*}\n",
    "$$ \n",
    "\n",
    "Let's compute the initial number of shares purchased for each asset in our minimum-variance portfolio, we'll store these values in the `Nₒ::Array{Float64,1}` array:"
   ]
  },
  {
   "cell_type": "code",
   "execution_count": 24,
   "id": "6cef2f71",
   "metadata": {},
   "outputs": [],
   "source": [
    "Nₒ = let\n",
    "    \n",
    "    # initialize -\n",
    "    total_budget = total_initial_investment; # total initial investment amount (USD)\n",
    "    Nₒ = Array{Float64,1}()\n",
    "\n",
    "    # TODO: Uncomment the lines below to compute the number of shares for each asset (assuming we can buy fractional shares, and the price is Sₒ)\n",
    "    # We iterate through each weight wᵢ, compute the number of shares nᵢ = (wᵢ * total_budget) / Sₒ[i], and append to Nₒ\n",
    "    for i ∈ eachindex(w)\n",
    "        wᵢ = w[i] # get the weight for asset i\n",
    "        nᵢ = (wᵢ*total_budget)/Sₒ[i]; # compute number of shares for asset i\n",
    "        push!(Nₒ,nᵢ) # append to the Nₒ array\n",
    "    end\n",
    "\n",
    "    Nₒ; # return\n",
    "end;"
   ]
  },
  {
   "cell_type": "markdown",
   "id": "936af8a1",
   "metadata": {},
   "source": [
    "Let's make a table to summarize our initial investment [using the `pretty_table(...)` function exported by the `PrettyTables.jl` package](https://github.com/ronisbr/PrettyTables.jl)."
   ]
  },
  {
   "cell_type": "code",
   "execution_count": 25,
   "id": "8024cb66",
   "metadata": {},
   "outputs": [
    {
     "name": "stdout",
     "output_type": "stream",
     "text": [
      " -------- --------------- -------------- ------------------ ------------------\n",
      " \u001b[1m Ticker \u001b[0m \u001b[1m Initial_Price \u001b[0m \u001b[1m Allocation_w \u001b[0m \u001b[1m Number_of_Shares \u001b[0m \u001b[1m Total_Investment \u001b[0m\n",
      " \u001b[90m String \u001b[0m \u001b[90m       Float64 \u001b[0m \u001b[90m      Float64 \u001b[0m \u001b[90m          Float64 \u001b[0m \u001b[90m          Float64 \u001b[0m\n",
      " -------- --------------- -------------- ------------------ ------------------\n",
      "    AAPL          243.36         0.3138            1.28945              313.8\n",
      "    MSFT          421.08         0.5108            1.21307              510.8\n",
      "    ZION           54.34         0.1754            3.22782              175.4\n",
      " -------- --------------- -------------- ------------------ ------------------\n"
     ]
    }
   ],
   "source": [
    "let\n",
    "\n",
    "    # initialize -\n",
    "    total_budget = total_initial_investment; # total initial investment amount (USD)\n",
    "    df = DataFrame();\n",
    "\n",
    "    for (i, ticker) ∈ enumerate(my_list_of_tickers)\n",
    "        Sₒᵢ = Sₒ[i]\n",
    "        wᵢ = w[i]\n",
    "        nᵢ = Nₒ[i]\n",
    "        total_investmentᵢ = wᵢ*total_budget\n",
    "        temp_df = (Ticker = ticker, Initial_Price = Sₒᵢ, Allocation_w = wᵢ, Number_of_Shares = nᵢ, Total_Investment = total_investmentᵢ);\n",
    "        df = push!(df, temp_df);\n",
    "    end\n",
    "\n",
    "    # build a table -\n",
    "    pretty_table(df, backend = :text,\n",
    "         table_format = TextTableFormat(borders = text_table_borders__compact))\n",
    "\n",
    "end"
   ]
  },
  {
   "cell_type": "code",
   "execution_count": 26,
   "id": "a15c7abf",
   "metadata": {},
   "outputs": [],
   "source": [
    "do_I_see_the_ticker_setup_table = true; # set to {true | false} if you see the ticker setup table (true = yes, false = no)."
   ]
  },
  {
   "cell_type": "markdown",
   "id": "bb738ea9",
   "metadata": {},
   "source": [
    "### Run the multi-asset simulation to compute the share price trajectories\n",
    "Building on the single asset case, we construct an instance of [the `MyMultipleAssetGeometricBrownianMotionEquityModel` type](https://varnerlab.github.io/VLQuantitativeFinancePackage.jl/dev/equity/#VLQuantitativeFinancePackage.MyMultipleAssetGeometricBrownianMotionEquityModel), where we pass the drift vector $\\mu$ and the factored covariance matrix $\\mathbf{A}$ into [a `build(...)` method](https://varnerlab.github.io/VLQuantitativeFinancePackage.jl/dev/equity/#VLQuantitativeFinancePackage.build-Tuple{Type{MyMultipleAssetGeometricBrownianMotionEquityModel},%20NamedTuple}):"
   ]
  },
  {
   "cell_type": "code",
   "execution_count": 27,
   "id": "d4c1765b",
   "metadata": {},
   "outputs": [],
   "source": [
    "# TODO: Build the GBM model instance using a build method\n",
    "multiasset_model = nothing;"
   ]
  },
  {
   "cell_type": "markdown",
   "id": "2838b880",
   "metadata": {},
   "source": [
    "Then we pass the start time `T₁`, the stop time `T₂` for the simulation, the initial conditions `Sₒ`, the time step `Δt`, and other simulation parameters along with the `model` instance into the `sample(...)` function. This function computes `number_of_paths` sample paths and returns the simulated data in the `simulation_dictionary` variable.\n",
    "\n",
    "The `simulation_dictionary` data structure holds a simulation array for each sample path, where the simulation array has time in the first column and the simulated price for each asset in columns $2\\dots\\dim\\mathcal{L}$. Each row is a time value; there will be `T+1` rows for each simulation array."
   ]
  },
  {
   "cell_type": "code",
   "execution_count": 28,
   "id": "ab7154d2",
   "metadata": {},
   "outputs": [
    {
     "ename": "MethodError",
     "evalue": "MethodError: no method matching sample(::Nothing, ::@NamedTuple{Sₒ::Vector{Float64}, T₁::Float64, T₂::Float64, Δt::Float64}; number_of_paths::Int64)\nThe function `sample` exists, but no method is defined for this combination of argument types.\n\nClosest candidates are:\n  sample(!Matched::MyMultipleAssetGeometricBrownianMotionEquityModel, ::NamedTuple; number_of_paths)\n   @ VLQuantitativeFinancePackage C:\\Users\\evant\\.julia\\packages\\VLQuantitativeFinancePackage\\dqvw2\\src\\Compute.jl:713\n  sample(!Matched::MyGeometricBrownianMotionEquityModel, ::NamedTuple; number_of_paths)\n   @ VLQuantitativeFinancePackage C:\\Users\\evant\\.julia\\packages\\VLQuantitativeFinancePackage\\dqvw2\\src\\Compute.jl:650\n  sample(!Matched::MyWolframRuleQLearningAgentModel, !Matched::MyWolframGridWorldModel; maxsteps, ϵ) got unsupported keyword argument \"number_of_paths\"\n   @ VLQuantitativeFinancePackage C:\\Users\\evant\\.julia\\packages\\VLQuantitativeFinancePackage\\dqvw2\\src\\RL.jl:67\n  ...\n",
     "output_type": "error",
     "traceback": [
      "MethodError: no method matching sample(::Nothing, ::@NamedTuple{Sₒ::Vector{Float64}, T₁::Float64, T₂::Float64, Δt::Float64}; number_of_paths::Int64)\n",
      "The function `sample` exists, but no method is defined for this combination of argument types.\n",
      "\n",
      "Closest candidates are:\n",
      "  sample(!Matched::MyMultipleAssetGeometricBrownianMotionEquityModel, ::NamedTuple; number_of_paths)\n",
      "   @ VLQuantitativeFinancePackage C:\\Users\\evant\\.julia\\packages\\VLQuantitativeFinancePackage\\dqvw2\\src\\Compute.jl:713\n",
      "  sample(!Matched::MyGeometricBrownianMotionEquityModel, ::NamedTuple; number_of_paths)\n",
      "   @ VLQuantitativeFinancePackage C:\\Users\\evant\\.julia\\packages\\VLQuantitativeFinancePackage\\dqvw2\\src\\Compute.jl:650\n",
      "  sample(!Matched::MyWolframRuleQLearningAgentModel, !Matched::MyWolframGridWorldModel; maxsteps, ϵ) got unsupported keyword argument \"number_of_paths\"\n",
      "   @ VLQuantitativeFinancePackage C:\\Users\\evant\\.julia\\packages\\VLQuantitativeFinancePackage\\dqvw2\\src\\RL.jl:67\n",
      "  ...\n",
      "\n",
      "\n",
      "Stacktrace:\n",
      " [1] top-level scope\n",
      "   @ c:\\Users\\evant\\OneDrive\\Documents\\GitHub\\lab-2-EvoTW-source\\ps3-5660-f25-EvoTW-source\\jl_notebook_cell_df34fa98e69747e1a8f8a730347b8e2f_Y106sZmlsZQ==.jl:13"
     ]
    }
   ],
   "source": [
    "simulation_dictionary = let\n",
    "    \n",
    "    # initialize -\n",
    "    start_index = 1;\n",
    "    stop_index = TSIM + start_index - 1;\n",
    "    number_of_trials = 250; # number of sample paths to compute\n",
    "\n",
    "    # specify the time range -\n",
    "    T₁ = start_index*Δt # start time (in years)\n",
    "    T₂ = stop_index*Δt # end time (in years)\n",
    "\n",
    "    # run the simulation -\n",
    "    simulation_dictionary = VLQuantitativeFinancePackage.sample(multiasset_model, (Sₒ = Sₒ, T₁ = T₁, T₂ = T₂, Δt = Δt), \n",
    "        number_of_paths = number_of_trials);\n",
    "\n",
    "    simulation_dictionary; # return \n",
    "end;"
   ]
  },
  {
   "cell_type": "markdown",
   "id": "a152b69e",
   "metadata": {},
   "source": [
    "#### Compute the simulated wealth of portfolio $\\mathcal{P}$ given our allocation\n",
    "`Unhide` the code block below to see how we computed the __simulated wealth__ of the portfolio $\\mathcal{P}$ for the allocation specified above. We store the simulation data in the `simulated_wealth_array::Array{Float64,2}` variable.\n",
    "\n",
    "> __What's in the simulated wealth array?__ Each column in the `simulated_wealth_array` corresponds to a sample path from the multi-asset GBM simulation. Each row corresponds to a time value. The entries in the array are the total wealth of the portfolio $\\mathcal{P}$ at each time for each sample path.\n",
    "\n",
    "Let's compute the simulated wealth of our portfolio $\\mathcal{P}$."
   ]
  },
  {
   "cell_type": "code",
   "execution_count": 29,
   "id": "6b324452",
   "metadata": {},
   "outputs": [
    {
     "ename": "UndefVarError",
     "evalue": "UndefVarError: `simulation_dictionary` not defined in `Main`\nSuggestion: check for spelling errors or missing imports.",
     "output_type": "error",
     "traceback": [
      "UndefVarError: `simulation_dictionary` not defined in `Main`\n",
      "Suggestion: check for spelling errors or missing imports.\n",
      "\n",
      "Stacktrace:\n",
      " [1] top-level scope\n",
      "   @ c:\\Users\\evant\\OneDrive\\Documents\\GitHub\\lab-2-EvoTW-source\\ps3-5660-f25-EvoTW-source\\jl_notebook_cell_df34fa98e69747e1a8f8a730347b8e2f_Y111sZmlsZQ==.jl:4"
     ]
    }
   ],
   "source": [
    "simulated_wealth_array = let\n",
    "\n",
    "    # initialize -\n",
    "    number_of_trials = length(simulation_dictionary) # number of trials\n",
    "    number_of_days = simulation_dictionary[1] |> m -> size(m,1) # number of days in each trial\n",
    "    M = length(my_list_of_tickers); # number of assets in portfolio\n",
    "    simulated_wealth_array = Array{Float64,2}(undef, number_of_days, number_of_trials);\n",
    "   \n",
    "    # compute the wealth for each trial \n",
    "    for i ∈ 1:number_of_trials\n",
    "        \n",
    "        simulation_array = simulation_dictionary[i]\n",
    "        \n",
    "        portfolio_performance_array = Array{Float64,2}(undef, number_of_days, M+1)\n",
    "        for j ∈ eachindex(my_list_of_tickers)\n",
    "        \n",
    "            ticker = my_list_of_tickers[j];\n",
    "            price_data = simulation_array[:,j+1];\n",
    "            nⱼ = Nₒ[j]\n",
    "        \n",
    "            for k ∈ 1:number_of_days\n",
    "                portfolio_performance_array[k,j] = nⱼ*price_data[k];\n",
    "            end\n",
    "        end\n",
    "    \n",
    "        # total -\n",
    "        for j ∈ 1:number_of_days\n",
    "            portfolio_performance_array[j,end] = sum(portfolio_performance_array[j,1:end-1])\n",
    "        end\n",
    "        \n",
    "        # wealth -\n",
    "        for j ∈ 1:number_of_days\n",
    "            simulated_wealth_array[j,i] = portfolio_performance_array[j,end];\n",
    "        end\n",
    "    end\n",
    "    simulated_wealth_array;\n",
    "end;"
   ]
  },
  {
   "cell_type": "markdown",
   "id": "2cc3919c",
   "metadata": {},
   "source": [
    "#### Compute the __actual wealth__ of portfolio $\\mathcal{P}$ given our allocation\n",
    "`Unhide` the code block below to see how we computed the __actual wealth__ of the portfolio $\\mathcal{P}$ for the allocation specified above. We store the simulation data in the `actual_portfolio_performance_array::Array{Float64,2}` variable.\n",
    "\n",
    "> __What's in the actual wealth array?__ Each row in the `actual_portfolio_performance_array` corresponds to a time value. The entries in the array are the total wealth of the portfolio $\\mathcal{P}$ at each time for the actual market data.\n",
    "\n",
    "Let's compute the actual wealth of our portfolio $\\mathcal{P}$."
   ]
  },
  {
   "cell_type": "code",
   "execution_count": 30,
   "id": "6f0305f8",
   "metadata": {},
   "outputs": [
    {
     "ename": "UndefVarError",
     "evalue": "UndefVarError: `simulation_dictionary` not defined in `Main`\nSuggestion: check for spelling errors or missing imports.",
     "output_type": "error",
     "traceback": [
      "UndefVarError: `simulation_dictionary` not defined in `Main`\n",
      "Suggestion: check for spelling errors or missing imports.\n",
      "\n",
      "Stacktrace:\n",
      " [1] top-level scope\n",
      "   @ c:\\Users\\evant\\OneDrive\\Documents\\GitHub\\lab-2-EvoTW-source\\ps3-5660-f25-EvoTW-source\\jl_notebook_cell_df34fa98e69747e1a8f8a730347b8e2f_Y113sZmlsZQ==.jl:5"
     ]
    }
   ],
   "source": [
    "actual_portfolio_performance_array = let\n",
    "\n",
    "\n",
    "    # initialize -\n",
    "    number_of_trials = length(simulation_dictionary) # number of trials\n",
    "    number_of_days = simulation_dictionary[1] |> m -> size(m,1) # number of days in each trial\n",
    "    M = length(my_list_of_tickers); # number of assets in portfolio\n",
    "    actual_portfolio_performance_array = Array{Float64,2}(undef, number_of_days, M+1)\n",
    "    \n",
    "    # compute the wealth for each trial\n",
    "    for i ∈ eachindex(my_list_of_tickers)\n",
    "        \n",
    "        ticker = my_list_of_tickers[i];\n",
    "        price_df = dataset[ticker];\n",
    "        ticker_data = filter(:timestamp => x-> x >= startdate, price_df)\n",
    "        nᵢ = Nₒ[i]\n",
    "        \n",
    "        for j ∈ 1:number_of_days\n",
    "            actual_portfolio_performance_array[j,i] = nᵢ*ticker_data[j,:volume_weighted_average_price];\n",
    "        end\n",
    "    end\n",
    "    \n",
    "    # total -\n",
    "    for i ∈ 1:number_of_days\n",
    "        actual_portfolio_performance_array[i,end] = sum(actual_portfolio_performance_array[i,1:end-1])\n",
    "    end\n",
    "    actual_portfolio_performance_array;\n",
    "end;"
   ]
  },
  {
   "cell_type": "markdown",
   "id": "54aa3966",
   "metadata": {},
   "source": [
    "### Compute the wealth of an index portfolio\n",
    "An alternative to building a portfolio of risky assets is to invest in an index fund that tracks a market index, such as the S&P 500. Let's use the [SPY ETF](https://en.wikipedia.org/wiki/SPDR_S%26P_500) as a proxy for the S&P 500 index, and compute our wealth if we had invested our entire `total_budget` in the SPY ETF at the start of our investment period.\n",
    "\n",
    "> __What's in the benchmark wealth array?__ The `benchmark_wealth_array` is a one-dimensional array where each entry corresponds to the total wealth of the benchmark portfolio (SPY ETF) at each time value during the investment period. Here we are assuming we invested our entire `total_budget` in the SPY ETF at the start of the investment period.\n",
    "\n",
    "Let's compute the benchmark wealth array."
   ]
  },
  {
   "cell_type": "code",
   "execution_count": 31,
   "id": "77bfffab",
   "metadata": {},
   "outputs": [],
   "source": [
    "benchmark_wealth_array = let\n",
    "\n",
    "    # initialize -\n",
    "    total_budget = total_initial_investment; # total initial investment amount (USD)\n",
    "    spy_data = dataset[\"SPY\"];\n",
    "    spy_data = filter(:timestamp => x-> x >= startdate, spy_data)\n",
    "    number_of_days = size(spy_data,1)\n",
    "    benchmark_wealth_array = Array{Float64,2}(undef, number_of_days, 1)\n",
    "\n",
    "    # compute the wealth -\n",
    "    for i ∈ 1:number_of_days\n",
    "        benchmark_wealth_array[i,1] = (total_budget/spy_data[1,:open])*spy_data[i,:volume_weighted_average_price];\n",
    "    end\n",
    "    benchmark_wealth_array;\n",
    "end;"
   ]
  },
  {
   "cell_type": "markdown",
   "id": "5d40b911",
   "metadata": {},
   "source": [
    "### Visualize simulated, actual and benchmark wealth arrays\n",
    "`Unhide` the code block below to see how we plotted the performance of the __simulated__ and __actual__ portfolio $\\mathcal{P}$ with our allocation $\\mathbf{w}$, along with the benchmark performance of the SPY ETF."
   ]
  },
  {
   "cell_type": "code",
   "execution_count": 32,
   "id": "faff302a",
   "metadata": {},
   "outputs": [
    {
     "ename": "UndefVarError",
     "evalue": "UndefVarError: `simulation_dictionary` not defined in `Main`\nSuggestion: check for spelling errors or missing imports.",
     "output_type": "error",
     "traceback": [
      "UndefVarError: `simulation_dictionary` not defined in `Main`\n",
      "Suggestion: check for spelling errors or missing imports.\n",
      "\n",
      "Stacktrace:\n",
      " [1] top-level scope\n",
      "   @ c:\\Users\\evant\\OneDrive\\Documents\\GitHub\\lab-2-EvoTW-source\\ps3-5660-f25-EvoTW-source\\jl_notebook_cell_df34fa98e69747e1a8f8a730347b8e2f_Y120sZmlsZQ==.jl:5"
     ]
    }
   ],
   "source": [
    "let\n",
    "\n",
    "    # initialize -\n",
    "    total_budget = total_initial_investment; # total initial investment amount (USD)\n",
    "    number_of_trials = length(simulation_dictionary) # number of trials\n",
    "    p = plot(); # initialize an empty plot\n",
    "    \n",
    "    # plot the trajectories -\n",
    "    for i ∈ 1:number_of_trials\n",
    "        plot!((1/total_budget)*simulated_wealth_array[:,i], c=:gray86,lw=1, label=\"\")\n",
    "    end\n",
    "    \n",
    "    # compute the expected wealth array, and bounds 0\n",
    "    expected_wealth_array = mean(simulated_wealth_array,dims=2)\n",
    "    L68 = (1/total_budget)*(expected_wealth_array .- std(simulated_wealth_array,dims=2))\n",
    "    U68 = (1/total_budget)*(expected_wealth_array .+ std(simulated_wealth_array,dims=2))\n",
    "    plot!((1/total_budget)*expected_wealth_array,fillrange=L68, c=:deepskyblue1, alpha=0.75,label=\"\")\n",
    "    plot!((1/total_budget)*expected_wealth_array,fillrange=U68, c=:deepskyblue1, alpha=0.75, label=\"\")\n",
    "    \n",
    "    L95 = (1/total_budget)*(expected_wealth_array .- 1.96*std(simulated_wealth_array,dims=2))\n",
    "    U95 = (1/total_budget)*(expected_wealth_array .+ 1.96*std(simulated_wealth_array,dims=2))\n",
    "    plot!((1/total_budget)*expected_wealth_array,fillrange=L95, c=:deepskyblue1, alpha=0.40,label=\"\")\n",
    "    plot!((1/total_budget)*expected_wealth_array,fillrange=U95, c=:deepskyblue1, alpha=0.40, label=\"\")\n",
    "\n",
    "    L99 = (1/total_budget)*(expected_wealth_array .- 2.576*std(simulated_wealth_array,dims=2))\n",
    "    U99 = (1/total_budget)*(expected_wealth_array .+ 2.576*std(simulated_wealth_array,dims=2))\n",
    "    plot!((1/total_budget)*expected_wealth_array,fillrange=L99, c=:deepskyblue1, alpha=0.30,label=\"\")\n",
    "    plot!((1/total_budget)*expected_wealth_array,fillrange=U99, c=:deepskyblue1, alpha=0.30, label=\"\")\n",
    "    \n",
    "    plot!((1/expected_wealth_array[1]).*expected_wealth_array, ls=:dash, c=:blue, lw=3, label=\"Portfolio (expected)\")\n",
    "    plot!((1/actual_portfolio_performance_array[1,end]).*actual_portfolio_performance_array[:,end], lw=3, \n",
    "        c=:red, label=\"Portfolio (actual)\")\n",
    "\n",
    "    # plot the benchmark -\n",
    "    plot!((1/total_budget)*benchmark_wealth_array, lw=3, ls=:dot, c=:red, label=\"Benchmark (SPY ETF)\")\n",
    "\n",
    "    plot!(L68, c=:deepskyblue3, lw=2, label=\"\")\n",
    "    plot!(U68, c=:deepskyblue3, lw=2, label=\"\")\n",
    "    plot!(L95, c=:deepskyblue2, lw=2, label=\"\")\n",
    "    plot!(U95, c=:deepskyblue2, lw=2, label=\"\")\n",
    "    plot!(L99, c=:deepskyblue1, lw=2, label=\"\")\n",
    "    plot!(U99, c=:deepskyblue1, lw=2, label=\"\")\n",
    "    \n",
    "    \n",
    "    plot!(bg=\"gray95\", background_color_outside=\"white\", framestyle = :box, fg_legend = :transparent);\n",
    "    \n",
    "    xlabel!(\"Trading Day Index (2025)\", fontsize=18)\n",
    "    ylabel!(\"Scaled Wealth (USD)\", fontsize=18)\n",
    "    current()\n",
    "end"
   ]
  },
  {
   "cell_type": "code",
   "execution_count": 33,
   "id": "f8228403",
   "metadata": {},
   "outputs": [],
   "source": [
    "do_I_see_the_final_wealth_plot = nothing; # set to {true | false} if you see the final wealth plot (true = yes, false = no)."
   ]
  },
  {
   "cell_type": "markdown",
   "id": "88def7fc",
   "metadata": {},
   "source": [
    "___"
   ]
  },
  {
   "cell_type": "markdown",
   "id": "9048c51a",
   "metadata": {},
   "source": [
    "## Discussion Questions\n",
    "\n",
    "### Question 1: Portfolio Composition and the Efficient Frontier Trade-off\n",
    "Change the `index_to_view::Int` value to analyze three distinct portfolios along the efficient frontier: the minimum-variance portfolio (lowest risk), a medium-risk portfolio (approximately middle of the frontier), and the maximum-return portfolio (highest risk-return point).\n",
    "\n",
    "__Discuss:__ How does the composition of the portfolio change as you move from minimum variance to maximum return? Which assets become more or less prominent, and why might this happen based on the individual asset characteristics (hint: look at the expected returns in $\\hat{\\mathbf{\\mu}}$ and the variance terms on the diagonal of $\\hat{\\mathbf{\\Sigma}}_{r}$ for each asset)? What does this tell you about the trade-off between diversification and concentration as risk tolerance increases?"
   ]
  },
  {
   "cell_type": "markdown",
   "id": "7c8aed5a",
   "metadata": {},
   "source": [
    "__TODO__: Fill in your DQ1 answer here (double-click to edit)."
   ]
  },
  {
   "cell_type": "code",
   "execution_count": 34,
   "id": "02b64fdb",
   "metadata": {},
   "outputs": [],
   "source": [
    "did_I_answer_DQ1 = nothing; # change this to {true | false} if you answered DQ1 (true = yes, false = no)"
   ]
  },
  {
   "cell_type": "markdown",
   "id": "906d39da",
   "metadata": {},
   "source": [
    "### Question 2: Out-of-Sample Performance and Model Limitations\n",
    "Compare the performance of your minimum-variance portfolio against the SPY ETF benchmark by analyzing the visualization from the final plot. Consider both the simulated (blue confidence bands) and actual (red line) performance trajectories.\n",
    "\n",
    "__Discuss:__ Did the minimum-variance portfolio outperform or underperform the SPY benchmark during the out-of-sample period? What does the relationship between the actual portfolio performance and the simulated confidence intervals tell you about the reliability of the historical parameter estimates ($\\hat{\\mu}$ and $\\hat{\\mathbf{\\Sigma}}_{r}$)? \n",
    "\n",
    "* If the actual performance fell outside the 99% confidence bands, what might this suggest about the limitations of using historical data to predict future portfolio behavior? Consider factors such as parameter estimation error, regime changes, or non-stationarity in the underlying asset dynamics."
   ]
  },
  {
   "cell_type": "markdown",
   "id": "8761f6a2",
   "metadata": {},
   "source": [
    "__TODO__: Fill in your DQ2 answer here (double-click to edit)."
   ]
  },
  {
   "cell_type": "code",
   "execution_count": 35,
   "id": "047b9757",
   "metadata": {},
   "outputs": [],
   "source": [
    "did_I_answer_DQ2 = nothing; # change this to {true | false} if you answered DQ1 (true = yes, false = no)"
   ]
  },
  {
   "cell_type": "markdown",
   "id": "2d506954",
   "metadata": {},
   "source": [
    "___"
   ]
  },
  {
   "cell_type": "markdown",
   "id": "8de04ee8",
   "metadata": {},
   "source": [
    "## Summary\n",
    "In this example, we implemented a complete data-driven approach to modern portfolio theory, computing the efficient frontier for a portfolio of risky assets using historical market data and evaluating performance through simulation.\n",
    "\n",
    "> __Key Takeaways:__\n",
    "> * **Historical data provides empirical inputs for portfolio optimization, but with important limitations.** By computing sample means and covariance matrices from real price data, we obtain the statistical parameters needed for Markowitz optimization, though these estimates reflect past relationships that may not persist in the future—making out-of-sample testing crucial for validation.\n",
    ">\n",
    "> * **Markowitz optimization systematically balances expected return against portfolio risk.** The minimum-variance framework estimates optimal asset allocations that minimize portfolio variance for each target return level, and by plotting these optimal portfolios across different return targets, we visualize the efficient frontier—the boundary of achievable risk-return combinations showing how diversification can reduce risk without sacrificing expected return.\n",
    ">\n",
    "> * **Stochastic simulation enables robust testing of portfolio strategies under uncertainty.** Multi-asset geometric Brownian motion models generate correlated price trajectories that capture realistic market dynamics, allowing us to evaluate how minimum-variance portfolios perform on out-of-sample data compared to benchmarks like index funds, revealing the practical implications of optimization-based allocation decisions.\n",
    "\n",
    "This framework demonstrates how quantitative methods can guide portfolio construction decisions, though real-world implementation requires careful consideration of parameter estimation uncertainty, changing market conditions, and many other factors. But it is a start!\n",
    "___"
   ]
  },
  {
   "cell_type": "markdown",
   "id": "5bb73370",
   "metadata": {},
   "source": [
    "## Tests\n",
    "The code block below shows how we implemented the tests and what we are testing. In these tests, we check values in your notebook and give feedback on which items are correct, missing, etc."
   ]
  },
  {
   "cell_type": "code",
   "execution_count": 36,
   "id": "b4d02212",
   "metadata": {},
   "outputs": [
    {
     "name": "stdout",
     "output_type": "stream",
     "text": [
      "Task 3: Multi-Asset GBM Model: \u001b[91m\u001b[1mTest Failed\u001b[22m\u001b[39m at \u001b[39m\u001b[1mc:\\Users\\evant\\OneDrive\\Documents\\GitHub\\lab-2-EvoTW-source\\ps3-5660-f25-EvoTW-source\\jl_notebook_cell_df34fa98e69747e1a8f8a730347b8e2f_Y135sZmlsZQ==.jl:84\u001b[22m\n",
      "  Expression: isdefined(Main, :simulation_dictionary)\n",
      "\n",
      "Stacktrace:\n",
      " [1] \u001b[0m\u001b[1mmacro expansion\u001b[22m\n",
      "\u001b[90m   @\u001b[39m \u001b[90mC:\\Users\\evant\\.julia\\juliaup\\julia-1.11.6+0.x64.w64.mingw32\\share\\julia\\stdlib\\v1.11\\Test\\src\\\u001b[39m\u001b[90m\u001b[4mTest.jl:680\u001b[24m\u001b[39m\u001b[90m [inlined]\u001b[39m\n",
      " [2] \u001b[0m\u001b[1mmacro expansion\u001b[22m\n",
      "\u001b[90m   @\u001b[39m \u001b[90mc:\\Users\\evant\\OneDrive\\Documents\\GitHub\\lab-2-EvoTW-source\\ps3-5660-f25-EvoTW-source\\\u001b[39m\u001b[90m\u001b[4mjl_notebook_cell_df34fa98e69747e1a8f8a730347b8e2f_Y135sZmlsZQ==.jl:84\u001b[24m\u001b[39m\u001b[90m [inlined]\u001b[39m\n",
      " [3] \u001b[0m\u001b[1mmacro expansion\u001b[22m\n",
      "\u001b[90m   @\u001b[39m \u001b[90mC:\\Users\\evant\\.julia\\juliaup\\julia-1.11.6+0.x64.w64.mingw32\\share\\julia\\stdlib\\v1.11\\Test\\src\\\u001b[39m\u001b[90m\u001b[4mTest.jl:1709\u001b[24m\u001b[39m\u001b[90m [inlined]\u001b[39m\n",
      " [4] \u001b[0m\u001b[1mmacro expansion\u001b[22m\n",
      "\u001b[90m   @\u001b[39m \u001b[90mc:\\Users\\evant\\OneDrive\\Documents\\GitHub\\lab-2-EvoTW-source\\ps3-5660-f25-EvoTW-source\\\u001b[39m\u001b[90m\u001b[4mjl_notebook_cell_df34fa98e69747e1a8f8a730347b8e2f_Y135sZmlsZQ==.jl:83\u001b[24m\u001b[39m\u001b[90m [inlined]\u001b[39m\n",
      " [5] \u001b[0m\u001b[1mmacro expansion\u001b[22m\n",
      "\u001b[90m   @\u001b[39m \u001b[90mC:\\Users\\evant\\.julia\\juliaup\\julia-1.11.6+0.x64.w64.mingw32\\share\\julia\\stdlib\\v1.11\\Test\\src\\\u001b[39m\u001b[90m\u001b[4mTest.jl:1709\u001b[24m\u001b[39m\u001b[90m [inlined]\u001b[39m\n",
      " [6] top-level scope\n",
      "\u001b[90m   @\u001b[39m \u001b[90mc:\\Users\\evant\\OneDrive\\Documents\\GitHub\\lab-2-EvoTW-source\\ps3-5660-f25-EvoTW-source\\\u001b[39m\u001b[90m\u001b[4mjl_notebook_cell_df34fa98e69747e1a8f8a730347b8e2f_Y135sZmlsZQ==.jl:4\u001b[24m\u001b[39m\n",
      "Task 3: Multi-Asset GBM Model: \u001b[91m\u001b[1mError During Test\u001b[22m\u001b[39m at \u001b[39m\u001b[1mc:\\Users\\evant\\OneDrive\\Documents\\GitHub\\lab-2-EvoTW-source\\ps3-5660-f25-EvoTW-source\\jl_notebook_cell_df34fa98e69747e1a8f8a730347b8e2f_Y135sZmlsZQ==.jl:85\u001b[22m\n",
      "  Test threw exception\n",
      "  Expression: typeof(simulation_dictionary) <: Dict\n",
      "  UndefVarError: `simulation_dictionary` not defined in `Main`\n",
      "  Suggestion: check for spelling errors or missing imports.\n",
      "  Stacktrace:\n",
      "   [1] \u001b[0m\u001b[1mmacro expansion\u001b[22m\n",
      "  \u001b[90m   @\u001b[39m \u001b[90mC:\\Users\\evant\\.julia\\juliaup\\julia-1.11.6+0.x64.w64.mingw32\\share\\julia\\stdlib\\v1.11\\Test\\src\\\u001b[39m\u001b[90m\u001b[4mTest.jl:677\u001b[24m\u001b[39m\u001b[90m [inlined]\u001b[39m\n",
      "   [2] \u001b[0m\u001b[1mmacro expansion\u001b[22m\n",
      "  \u001b[90m   @\u001b[39m \u001b[90mc:\\Users\\evant\\OneDrive\\Documents\\GitHub\\lab-2-EvoTW-source\\ps3-5660-f25-EvoTW-source\\\u001b[39m\u001b[90m\u001b[4mjl_notebook_cell_df34fa98e69747e1a8f8a730347b8e2f_Y135sZmlsZQ==.jl:85\u001b[24m\u001b[39m\u001b[90m [inlined]\u001b[39m\n",
      "   [3] \u001b[0m\u001b[1mmacro expansion\u001b[22m\n",
      "  \u001b[90m   @\u001b[39m \u001b[90mC:\\Users\\evant\\.julia\\juliaup\\julia-1.11.6+0.x64.w64.mingw32\\share\\julia\\stdlib\\v1.11\\Test\\src\\\u001b[39m\u001b[90m\u001b[4mTest.jl:1709\u001b[24m\u001b[39m\u001b[90m [inlined]\u001b[39m\n",
      "   [4] \u001b[0m\u001b[1mmacro expansion\u001b[22m\n",
      "  \u001b[90m   @\u001b[39m \u001b[90mc:\\Users\\evant\\OneDrive\\Documents\\GitHub\\lab-2-EvoTW-source\\ps3-5660-f25-EvoTW-source\\\u001b[39m\u001b[90m\u001b[4mjl_notebook_cell_df34fa98e69747e1a8f8a730347b8e2f_Y135sZmlsZQ==.jl:83\u001b[24m\u001b[39m\u001b[90m [inlined]\u001b[39m\n",
      "   [5] \u001b[0m\u001b[1mmacro expansion\u001b[22m\n",
      "  \u001b[90m   @\u001b[39m \u001b[90mC:\\Users\\evant\\.julia\\juliaup\\julia-1.11.6+0.x64.w64.mingw32\\share\\julia\\stdlib\\v1.11\\Test\\src\\\u001b[39m\u001b[90m\u001b[4mTest.jl:1709\u001b[24m\u001b[39m\u001b[90m [inlined]\u001b[39m\n",
      "   [6] top-level scope\n",
      "  \u001b[90m   @\u001b[39m \u001b[90mc:\\Users\\evant\\OneDrive\\Documents\\GitHub\\lab-2-EvoTW-source\\ps3-5660-f25-EvoTW-source\\\u001b[39m\u001b[90m\u001b[4mjl_notebook_cell_df34fa98e69747e1a8f8a730347b8e2f_Y135sZmlsZQ==.jl:4\u001b[24m\u001b[39m\n",
      "Task 3: Multi-Asset GBM Model: \u001b[91m\u001b[1mError During Test\u001b[22m\u001b[39m at \u001b[39m\u001b[1mc:\\Users\\evant\\OneDrive\\Documents\\GitHub\\lab-2-EvoTW-source\\ps3-5660-f25-EvoTW-source\\jl_notebook_cell_df34fa98e69747e1a8f8a730347b8e2f_Y135sZmlsZQ==.jl:86\u001b[22m\n",
      "  Test threw exception\n",
      "  Expression: length(simulation_dictionary) > 0\n",
      "  UndefVarError: `simulation_dictionary` not defined in `Main`\n",
      "  Suggestion: check for spelling errors or missing imports.\n",
      "  Stacktrace:\n",
      "   [1] \u001b[0m\u001b[1mmacro expansion\u001b[22m\n",
      "  \u001b[90m   @\u001b[39m \u001b[90mC:\\Users\\evant\\.julia\\juliaup\\julia-1.11.6+0.x64.w64.mingw32\\share\\julia\\stdlib\\v1.11\\Test\\src\\\u001b[39m\u001b[90m\u001b[4mTest.jl:677\u001b[24m\u001b[39m\u001b[90m [inlined]\u001b[39m\n",
      "   [2] \u001b[0m\u001b[1mmacro expansion\u001b[22m\n",
      "  \u001b[90m   @\u001b[39m \u001b[90mc:\\Users\\evant\\OneDrive\\Documents\\GitHub\\lab-2-EvoTW-source\\ps3-5660-f25-EvoTW-source\\\u001b[39m\u001b[90m\u001b[4mjl_notebook_cell_df34fa98e69747e1a8f8a730347b8e2f_Y135sZmlsZQ==.jl:86\u001b[24m\u001b[39m\u001b[90m [inlined]\u001b[39m\n",
      "   [3] \u001b[0m\u001b[1mmacro expansion\u001b[22m\n",
      "  \u001b[90m   @\u001b[39m \u001b[90mC:\\Users\\evant\\.julia\\juliaup\\julia-1.11.6+0.x64.w64.mingw32\\share\\julia\\stdlib\\v1.11\\Test\\src\\\u001b[39m\u001b[90m\u001b[4mTest.jl:1709\u001b[24m\u001b[39m\u001b[90m [inlined]\u001b[39m\n",
      "   [4] \u001b[0m\u001b[1mmacro expansion\u001b[22m\n",
      "  \u001b[90m   @\u001b[39m \u001b[90mc:\\Users\\evant\\OneDrive\\Documents\\GitHub\\lab-2-EvoTW-source\\ps3-5660-f25-EvoTW-source\\\u001b[39m\u001b[90m\u001b[4mjl_notebook_cell_df34fa98e69747e1a8f8a730347b8e2f_Y135sZmlsZQ==.jl:83\u001b[24m\u001b[39m\u001b[90m [inlined]\u001b[39m\n",
      "   [5] \u001b[0m\u001b[1mmacro expansion\u001b[22m\n",
      "  \u001b[90m   @\u001b[39m \u001b[90mC:\\Users\\evant\\.julia\\juliaup\\julia-1.11.6+0.x64.w64.mingw32\\share\\julia\\stdlib\\v1.11\\Test\\src\\\u001b[39m\u001b[90m\u001b[4mTest.jl:1709\u001b[24m\u001b[39m\u001b[90m [inlined]\u001b[39m\n",
      "   [6] top-level scope\n",
      "  \u001b[90m   @\u001b[39m \u001b[90mc:\\Users\\evant\\OneDrive\\Documents\\GitHub\\lab-2-EvoTW-source\\ps3-5660-f25-EvoTW-source\\\u001b[39m\u001b[90m\u001b[4mjl_notebook_cell_df34fa98e69747e1a8f8a730347b8e2f_Y135sZmlsZQ==.jl:4\u001b[24m\u001b[39m\n",
      "Task 3: Multi-Asset GBM Model: \u001b[91m\u001b[1mError During Test\u001b[22m\u001b[39m at \u001b[39m\u001b[1mc:\\Users\\evant\\OneDrive\\Documents\\GitHub\\lab-2-EvoTW-source\\ps3-5660-f25-EvoTW-source\\jl_notebook_cell_df34fa98e69747e1a8f8a730347b8e2f_Y135sZmlsZQ==.jl:81\u001b[22m\n",
      "  Got exception outside of a @test\n",
      "  UndefVarError: `simulation_dictionary` not defined in `Main`\n",
      "  Suggestion: check for spelling errors or missing imports.\n",
      "  Stacktrace:\n",
      "    [1] \u001b[0m\u001b[1mmacro expansion\u001b[22m\n",
      "  \u001b[90m    @\u001b[39m \u001b[90mc:\\Users\\evant\\OneDrive\\Documents\\GitHub\\lab-2-EvoTW-source\\ps3-5660-f25-EvoTW-source\\\u001b[39m\u001b[90m\u001b[4mjl_notebook_cell_df34fa98e69747e1a8f8a730347b8e2f_Y135sZmlsZQ==.jl:89\u001b[24m\u001b[39m\u001b[90m [inlined]\u001b[39m\n",
      "    [2] \u001b[0m\u001b[1mmacro expansion\u001b[22m\n",
      "  \u001b[90m    @\u001b[39m \u001b[90mC:\\Users\\evant\\.julia\\juliaup\\julia-1.11.6+0.x64.w64.mingw32\\share\\julia\\stdlib\\v1.11\\Test\\src\\\u001b[39m\u001b[90m\u001b[4mTest.jl:1709\u001b[24m\u001b[39m\u001b[90m [inlined]\u001b[39m\n",
      "    [3] \u001b[0m\u001b[1mmacro expansion\u001b[22m\n",
      "  \u001b[90m    @\u001b[39m \u001b[90mc:\\Users\\evant\\OneDrive\\Documents\\GitHub\\lab-2-EvoTW-source\\ps3-5660-f25-EvoTW-source\\\u001b[39m\u001b[90m\u001b[4mjl_notebook_cell_df34fa98e69747e1a8f8a730347b8e2f_Y135sZmlsZQ==.jl:83\u001b[24m\u001b[39m\u001b[90m [inlined]\u001b[39m\n",
      "    [4] \u001b[0m\u001b[1mmacro expansion\u001b[22m\n",
      "  \u001b[90m    @\u001b[39m \u001b[90mC:\\Users\\evant\\.julia\\juliaup\\julia-1.11.6+0.x64.w64.mingw32\\share\\julia\\stdlib\\v1.11\\Test\\src\\\u001b[39m\u001b[90m\u001b[4mTest.jl:1709\u001b[24m\u001b[39m\u001b[90m [inlined]\u001b[39m\n",
      "    [5] top-level scope\n",
      "  \u001b[90m    @\u001b[39m \u001b[90mc:\\Users\\evant\\OneDrive\\Documents\\GitHub\\lab-2-EvoTW-source\\ps3-5660-f25-EvoTW-source\\\u001b[39m\u001b[90m\u001b[4mjl_notebook_cell_df34fa98e69747e1a8f8a730347b8e2f_Y135sZmlsZQ==.jl:4\u001b[24m\u001b[39m\n",
      "    [6] \u001b[0m\u001b[1meval\u001b[22m\n",
      "  \u001b[90m    @\u001b[39m \u001b[90m.\\\u001b[39m\u001b[90m\u001b[4mboot.jl:430\u001b[24m\u001b[39m\u001b[90m [inlined]\u001b[39m\n",
      "    [7] \u001b[0m\u001b[1minclude_string\u001b[22m\u001b[0m\u001b[1m(\u001b[22m\u001b[90mmapexpr\u001b[39m::\u001b[0mtypeof(REPL.softscope), \u001b[90mmod\u001b[39m::\u001b[0mModule, \u001b[90mcode\u001b[39m::\u001b[0mString, \u001b[90mfilename\u001b[39m::\u001b[0mString\u001b[0m\u001b[1m)\u001b[22m\n",
      "  \u001b[90m    @\u001b[39m \u001b[90mBase\u001b[39m \u001b[90m.\\\u001b[39m\u001b[90m\u001b[4mloading.jl:2734\u001b[24m\u001b[39m\n",
      "    [8] \u001b[0m\u001b[1m#invokelatest#2\u001b[22m\n",
      "  \u001b[90m    @\u001b[39m \u001b[90m.\\\u001b[39m\u001b[90m\u001b[4messentials.jl:1055\u001b[24m\u001b[39m\u001b[90m [inlined]\u001b[39m\n",
      "    [9] \u001b[0m\u001b[1minvokelatest\u001b[22m\n",
      "  \u001b[90m    @\u001b[39m \u001b[90m.\\\u001b[39m\u001b[90m\u001b[4messentials.jl:1052\u001b[24m\u001b[39m\u001b[90m [inlined]\u001b[39m\n",
      "   [10] \u001b[0m\u001b[1m(::VSCodeServer.var\"#217#218\"{VSCodeServer.NotebookRunCellArguments, String})\u001b[22m\u001b[0m\u001b[1m(\u001b[22m\u001b[0m\u001b[1m)\u001b[22m\n",
      "  \u001b[90m    @\u001b[39m \u001b[36mVSCodeServer\u001b[39m \u001b[90mc:\\Users\\evant\\.vscode\\extensions\\julialang.language-julia-1.149.2\\scripts\\packages\\VSCodeServer\\src\\\u001b[39m\u001b[90m\u001b[4mserve_notebook.jl:24\u001b[24m\u001b[39m\n",
      "   [11] \u001b[0m\u001b[1mwithpath\u001b[22m\u001b[0m\u001b[1m(\u001b[22m\u001b[90mf\u001b[39m::\u001b[0mVSCodeServer.var\"#217#218\"\u001b[90m{VSCodeServer.NotebookRunCellArguments, String}\u001b[39m, \u001b[90mpath\u001b[39m::\u001b[0mString\u001b[0m\u001b[1m)\u001b[22m\n",
      "  \u001b[90m    @\u001b[39m \u001b[36mVSCodeServer\u001b[39m \u001b[90mc:\\Users\\evant\\.vscode\\extensions\\julialang.language-julia-1.149.2\\scripts\\packages\\VSCodeServer\\src\\\u001b[39m\u001b[90m\u001b[4mrepl.jl:276\u001b[24m\u001b[39m\n",
      "   [12] \u001b[0m\u001b[1mnotebook_runcell_request\u001b[22m\u001b[0m\u001b[1m(\u001b[22m\u001b[90mconn\u001b[39m::\u001b[0mVSCodeServer.JSONRPC.JSONRPCEndpoint\u001b[90m{Base.PipeEndpoint, Base.PipeEndpoint, VSCodeServer.JSON.Serializations.StandardSerialization}\u001b[39m, \u001b[90mparams\u001b[39m::\u001b[0mVSCodeServer.NotebookRunCellArguments, \u001b[90mtoken\u001b[39m::\u001b[0mVSCodeServer.CancellationTokens.CancellationToken\u001b[0m\u001b[1m)\u001b[22m\n",
      "  \u001b[90m    @\u001b[39m \u001b[36mVSCodeServer\u001b[39m \u001b[90mc:\\Users\\evant\\.vscode\\extensions\\julialang.language-julia-1.149.2\\scripts\\packages\\VSCodeServer\\src\\\u001b[39m\u001b[90m\u001b[4mserve_notebook.jl:13\u001b[24m\u001b[39m\n",
      "   [13] \u001b[0m\u001b[1mdispatch_msg\u001b[22m\u001b[0m\u001b[1m(\u001b[22m\u001b[90mx\u001b[39m::\u001b[0mVSCodeServer.JSONRPC.JSONRPCEndpoint\u001b[90m{Base.PipeEndpoint, Base.PipeEndpoint, VSCodeServer.JSON.Serializations.StandardSerialization}\u001b[39m, \u001b[90mdispatcher\u001b[39m::\u001b[0mVSCodeServer.JSONRPC.MsgDispatcher, \u001b[90mmsg\u001b[39m::\u001b[0mVSCodeServer.JSONRPC.Request\u001b[0m\u001b[1m)\u001b[22m\n",
      "  \u001b[90m    @\u001b[39m \u001b[36mVSCodeServer.JSONRPC\u001b[39m \u001b[90mc:\\Users\\evant\\.vscode\\extensions\\julialang.language-julia-1.149.2\\scripts\\packages\\JSONRPC\\src\\\u001b[39m\u001b[90m\u001b[4mtyped.jl:68\u001b[24m\u001b[39m\n",
      "   [14] \u001b[0m\u001b[1mserve_notebook\u001b[22m\u001b[0m\u001b[1m(\u001b[22m\u001b[90mpipename\u001b[39m::\u001b[0mString, \u001b[90mdebugger_pipename\u001b[39m::\u001b[0mString, \u001b[90moutputchannel_logger\u001b[39m::\u001b[0mBase.CoreLogging.SimpleLogger; \u001b[90merror_handler\u001b[39m::\u001b[0mvar\"#5#10\"\u001b[90m{String}\u001b[39m\u001b[0m\u001b[1m)\u001b[22m\n",
      "  \u001b[90m    @\u001b[39m \u001b[36mVSCodeServer\u001b[39m \u001b[90mc:\\Users\\evant\\.vscode\\extensions\\julialang.language-julia-1.149.2\\scripts\\packages\\VSCodeServer\\src\\\u001b[39m\u001b[90m\u001b[4mserve_notebook.jl:147\u001b[24m\u001b[39m\n",
      "   [15] top-level scope\n",
      "  \u001b[90m    @\u001b[39m \u001b[90mc:\\Users\\evant\\.vscode\\extensions\\julialang.language-julia-1.149.2\\scripts\\notebook\\\u001b[39m\u001b[90m\u001b[4mnotebook.jl:35\u001b[24m\u001b[39m\n",
      "Task 3: Simulated Wealth Array: \u001b[91m\u001b[1mTest Failed\u001b[22m\u001b[39m at \u001b[39m\u001b[1mc:\\Users\\evant\\OneDrive\\Documents\\GitHub\\lab-2-EvoTW-source\\ps3-5660-f25-EvoTW-source\\jl_notebook_cell_df34fa98e69747e1a8f8a730347b8e2f_Y135sZmlsZQ==.jl:96\u001b[22m\n",
      "  Expression: isdefined(Main, :simulated_wealth_array)\n",
      "\n",
      "Stacktrace:\n",
      " [1] \u001b[0m\u001b[1mmacro expansion\u001b[22m\n",
      "\u001b[90m   @\u001b[39m \u001b[90mC:\\Users\\evant\\.julia\\juliaup\\julia-1.11.6+0.x64.w64.mingw32\\share\\julia\\stdlib\\v1.11\\Test\\src\\\u001b[39m\u001b[90m\u001b[4mTest.jl:680\u001b[24m\u001b[39m\u001b[90m [inlined]\u001b[39m\n",
      " [2] \u001b[0m\u001b[1mmacro expansion\u001b[22m\n",
      "\u001b[90m   @\u001b[39m \u001b[90mc:\\Users\\evant\\OneDrive\\Documents\\GitHub\\lab-2-EvoTW-source\\ps3-5660-f25-EvoTW-source\\\u001b[39m\u001b[90m\u001b[4mjl_notebook_cell_df34fa98e69747e1a8f8a730347b8e2f_Y135sZmlsZQ==.jl:96\u001b[24m\u001b[39m\u001b[90m [inlined]\u001b[39m\n",
      " [3] \u001b[0m\u001b[1mmacro expansion\u001b[22m\n",
      "\u001b[90m   @\u001b[39m \u001b[90mC:\\Users\\evant\\.julia\\juliaup\\julia-1.11.6+0.x64.w64.mingw32\\share\\julia\\stdlib\\v1.11\\Test\\src\\\u001b[39m\u001b[90m\u001b[4mTest.jl:1709\u001b[24m\u001b[39m\u001b[90m [inlined]\u001b[39m\n",
      " [4] \u001b[0m\u001b[1mmacro expansion\u001b[22m\n",
      "\u001b[90m   @\u001b[39m \u001b[90mc:\\Users\\evant\\OneDrive\\Documents\\GitHub\\lab-2-EvoTW-source\\ps3-5660-f25-EvoTW-source\\\u001b[39m\u001b[90m\u001b[4mjl_notebook_cell_df34fa98e69747e1a8f8a730347b8e2f_Y135sZmlsZQ==.jl:96\u001b[24m\u001b[39m\u001b[90m [inlined]\u001b[39m\n",
      " [5] \u001b[0m\u001b[1mmacro expansion\u001b[22m\n",
      "\u001b[90m   @\u001b[39m \u001b[90mC:\\Users\\evant\\.julia\\juliaup\\julia-1.11.6+0.x64.w64.mingw32\\share\\julia\\stdlib\\v1.11\\Test\\src\\\u001b[39m\u001b[90m\u001b[4mTest.jl:1709\u001b[24m\u001b[39m\u001b[90m [inlined]\u001b[39m\n",
      " [6] top-level scope\n",
      "\u001b[90m   @\u001b[39m \u001b[90mc:\\Users\\evant\\OneDrive\\Documents\\GitHub\\lab-2-EvoTW-source\\ps3-5660-f25-EvoTW-source\\\u001b[39m\u001b[90m\u001b[4mjl_notebook_cell_df34fa98e69747e1a8f8a730347b8e2f_Y135sZmlsZQ==.jl:4\u001b[24m\u001b[39m\n",
      "Task 3: Simulated Wealth Array: \u001b[91m\u001b[1mError During Test\u001b[22m\u001b[39m at \u001b[39m\u001b[1mc:\\Users\\evant\\OneDrive\\Documents\\GitHub\\lab-2-EvoTW-source\\ps3-5660-f25-EvoTW-source\\jl_notebook_cell_df34fa98e69747e1a8f8a730347b8e2f_Y135sZmlsZQ==.jl:97\u001b[22m\n",
      "  Test threw exception\n",
      "  Expression: size(simulated_wealth_array, 1) > 0\n",
      "  UndefVarError: `simulated_wealth_array` not defined in `Main`\n",
      "  Suggestion: check for spelling errors or missing imports.\n",
      "  Stacktrace:\n",
      "   [1] \u001b[0m\u001b[1mmacro expansion\u001b[22m\n",
      "  \u001b[90m   @\u001b[39m \u001b[90mC:\\Users\\evant\\.julia\\juliaup\\julia-1.11.6+0.x64.w64.mingw32\\share\\julia\\stdlib\\v1.11\\Test\\src\\\u001b[39m\u001b[90m\u001b[4mTest.jl:677\u001b[24m\u001b[39m\u001b[90m [inlined]\u001b[39m\n",
      "   [2] \u001b[0m\u001b[1mmacro expansion\u001b[22m\n",
      "  \u001b[90m   @\u001b[39m \u001b[90mc:\\Users\\evant\\OneDrive\\Documents\\GitHub\\lab-2-EvoTW-source\\ps3-5660-f25-EvoTW-source\\\u001b[39m\u001b[90m\u001b[4mjl_notebook_cell_df34fa98e69747e1a8f8a730347b8e2f_Y135sZmlsZQ==.jl:97\u001b[24m\u001b[39m\u001b[90m [inlined]\u001b[39m\n",
      "   [3] \u001b[0m\u001b[1mmacro expansion\u001b[22m\n",
      "  \u001b[90m   @\u001b[39m \u001b[90mC:\\Users\\evant\\.julia\\juliaup\\julia-1.11.6+0.x64.w64.mingw32\\share\\julia\\stdlib\\v1.11\\Test\\src\\\u001b[39m\u001b[90m\u001b[4mTest.jl:1709\u001b[24m\u001b[39m\u001b[90m [inlined]\u001b[39m\n",
      "   [4] \u001b[0m\u001b[1mmacro expansion\u001b[22m\n",
      "  \u001b[90m   @\u001b[39m \u001b[90mc:\\Users\\evant\\OneDrive\\Documents\\GitHub\\lab-2-EvoTW-source\\ps3-5660-f25-EvoTW-source\\\u001b[39m\u001b[90m\u001b[4mjl_notebook_cell_df34fa98e69747e1a8f8a730347b8e2f_Y135sZmlsZQ==.jl:96\u001b[24m\u001b[39m\u001b[90m [inlined]\u001b[39m\n",
      "   [5] \u001b[0m\u001b[1mmacro expansion\u001b[22m\n",
      "  \u001b[90m   @\u001b[39m \u001b[90mC:\\Users\\evant\\.julia\\juliaup\\julia-1.11.6+0.x64.w64.mingw32\\share\\julia\\stdlib\\v1.11\\Test\\src\\\u001b[39m\u001b[90m\u001b[4mTest.jl:1709\u001b[24m\u001b[39m\u001b[90m [inlined]\u001b[39m\n",
      "   [6] top-level scope\n",
      "  \u001b[90m   @\u001b[39m \u001b[90mc:\\Users\\evant\\OneDrive\\Documents\\GitHub\\lab-2-EvoTW-source\\ps3-5660-f25-EvoTW-source\\\u001b[39m\u001b[90m\u001b[4mjl_notebook_cell_df34fa98e69747e1a8f8a730347b8e2f_Y135sZmlsZQ==.jl:4\u001b[24m\u001b[39m\n",
      "Task 3: Simulated Wealth Array: \u001b[91m\u001b[1mError During Test\u001b[22m\u001b[39m at \u001b[39m\u001b[1mc:\\Users\\evant\\OneDrive\\Documents\\GitHub\\lab-2-EvoTW-source\\ps3-5660-f25-EvoTW-source\\jl_notebook_cell_df34fa98e69747e1a8f8a730347b8e2f_Y135sZmlsZQ==.jl:98\u001b[22m\n",
      "  Test threw exception\n",
      "  Expression: size(simulated_wealth_array, 2) > 0\n",
      "  UndefVarError: `simulated_wealth_array` not defined in `Main`\n",
      "  Suggestion: check for spelling errors or missing imports.\n",
      "  Stacktrace:\n",
      "   [1] \u001b[0m\u001b[1mmacro expansion\u001b[22m\n",
      "  \u001b[90m   @\u001b[39m \u001b[90mC:\\Users\\evant\\.julia\\juliaup\\julia-1.11.6+0.x64.w64.mingw32\\share\\julia\\stdlib\\v1.11\\Test\\src\\\u001b[39m\u001b[90m\u001b[4mTest.jl:677\u001b[24m\u001b[39m\u001b[90m [inlined]\u001b[39m\n",
      "   [2] \u001b[0m\u001b[1mmacro expansion\u001b[22m\n",
      "  \u001b[90m   @\u001b[39m \u001b[90mc:\\Users\\evant\\OneDrive\\Documents\\GitHub\\lab-2-EvoTW-source\\ps3-5660-f25-EvoTW-source\\\u001b[39m\u001b[90m\u001b[4mjl_notebook_cell_df34fa98e69747e1a8f8a730347b8e2f_Y135sZmlsZQ==.jl:98\u001b[24m\u001b[39m\u001b[90m [inlined]\u001b[39m\n",
      "   [3] \u001b[0m\u001b[1mmacro expansion\u001b[22m\n",
      "  \u001b[90m   @\u001b[39m \u001b[90mC:\\Users\\evant\\.julia\\juliaup\\julia-1.11.6+0.x64.w64.mingw32\\share\\julia\\stdlib\\v1.11\\Test\\src\\\u001b[39m\u001b[90m\u001b[4mTest.jl:1709\u001b[24m\u001b[39m\u001b[90m [inlined]\u001b[39m\n",
      "   [4] \u001b[0m\u001b[1mmacro expansion\u001b[22m\n",
      "  \u001b[90m   @\u001b[39m \u001b[90mc:\\Users\\evant\\OneDrive\\Documents\\GitHub\\lab-2-EvoTW-source\\ps3-5660-f25-EvoTW-source\\\u001b[39m\u001b[90m\u001b[4mjl_notebook_cell_df34fa98e69747e1a8f8a730347b8e2f_Y135sZmlsZQ==.jl:96\u001b[24m\u001b[39m\u001b[90m [inlined]\u001b[39m\n",
      "   [5] \u001b[0m\u001b[1mmacro expansion\u001b[22m\n",
      "  \u001b[90m   @\u001b[39m \u001b[90mC:\\Users\\evant\\.julia\\juliaup\\julia-1.11.6+0.x64.w64.mingw32\\share\\julia\\stdlib\\v1.11\\Test\\src\\\u001b[39m\u001b[90m\u001b[4mTest.jl:1709\u001b[24m\u001b[39m\u001b[90m [inlined]\u001b[39m\n",
      "   [6] top-level scope\n",
      "  \u001b[90m   @\u001b[39m \u001b[90mc:\\Users\\evant\\OneDrive\\Documents\\GitHub\\lab-2-EvoTW-source\\ps3-5660-f25-EvoTW-source\\\u001b[39m\u001b[90m\u001b[4mjl_notebook_cell_df34fa98e69747e1a8f8a730347b8e2f_Y135sZmlsZQ==.jl:4\u001b[24m\u001b[39m\n",
      "Task 3: Simulated Wealth Array: \u001b[91m\u001b[1mError During Test\u001b[22m\u001b[39m at \u001b[39m\u001b[1mc:\\Users\\evant\\OneDrive\\Documents\\GitHub\\lab-2-EvoTW-source\\ps3-5660-f25-EvoTW-source\\jl_notebook_cell_df34fa98e69747e1a8f8a730347b8e2f_Y135sZmlsZQ==.jl:99\u001b[22m\n",
      "  Test threw exception\n",
      "  Expression: all(simulated_wealth_array .> 0)\n",
      "  UndefVarError: `simulated_wealth_array` not defined in `Main`\n",
      "  Suggestion: check for spelling errors or missing imports.\n",
      "  Stacktrace:\n",
      "   [1] \u001b[0m\u001b[1mmacro expansion\u001b[22m\n",
      "  \u001b[90m   @\u001b[39m \u001b[90mc:\\Users\\evant\\OneDrive\\Documents\\GitHub\\lab-2-EvoTW-source\\ps3-5660-f25-EvoTW-source\\\u001b[39m\u001b[90m\u001b[4mjl_notebook_cell_df34fa98e69747e1a8f8a730347b8e2f_Y135sZmlsZQ==.jl:99\u001b[24m\u001b[39m\u001b[90m [inlined]\u001b[39m\n",
      "   [2] \u001b[0m\u001b[1mmacro expansion\u001b[22m\n",
      "  \u001b[90m   @\u001b[39m \u001b[90mC:\\Users\\evant\\.julia\\juliaup\\julia-1.11.6+0.x64.w64.mingw32\\share\\julia\\stdlib\\v1.11\\Test\\src\\\u001b[39m\u001b[90m\u001b[4mTest.jl:677\u001b[24m\u001b[39m\u001b[90m [inlined]\u001b[39m\n",
      "   [3] \u001b[0m\u001b[1mmacro expansion\u001b[22m\n",
      "  \u001b[90m   @\u001b[39m \u001b[90mc:\\Users\\evant\\OneDrive\\Documents\\GitHub\\lab-2-EvoTW-source\\ps3-5660-f25-EvoTW-source\\\u001b[39m\u001b[90m\u001b[4mjl_notebook_cell_df34fa98e69747e1a8f8a730347b8e2f_Y135sZmlsZQ==.jl:99\u001b[24m\u001b[39m\u001b[90m [inlined]\u001b[39m\n",
      "   [4] \u001b[0m\u001b[1mmacro expansion\u001b[22m\n",
      "  \u001b[90m   @\u001b[39m \u001b[90mC:\\Users\\evant\\.julia\\juliaup\\julia-1.11.6+0.x64.w64.mingw32\\share\\julia\\stdlib\\v1.11\\Test\\src\\\u001b[39m\u001b[90m\u001b[4mTest.jl:1709\u001b[24m\u001b[39m\u001b[90m [inlined]\u001b[39m\n",
      "   [5] \u001b[0m\u001b[1mmacro expansion\u001b[22m\n",
      "  \u001b[90m   @\u001b[39m \u001b[90mc:\\Users\\evant\\OneDrive\\Documents\\GitHub\\lab-2-EvoTW-source\\ps3-5660-f25-EvoTW-source\\\u001b[39m\u001b[90m\u001b[4mjl_notebook_cell_df34fa98e69747e1a8f8a730347b8e2f_Y135sZmlsZQ==.jl:96\u001b[24m\u001b[39m\u001b[90m [inlined]\u001b[39m\n",
      "   [6] \u001b[0m\u001b[1mmacro expansion\u001b[22m\n",
      "  \u001b[90m   @\u001b[39m \u001b[90mC:\\Users\\evant\\.julia\\juliaup\\julia-1.11.6+0.x64.w64.mingw32\\share\\julia\\stdlib\\v1.11\\Test\\src\\\u001b[39m\u001b[90m\u001b[4mTest.jl:1709\u001b[24m\u001b[39m\u001b[90m [inlined]\u001b[39m\n",
      "   [7] top-level scope\n",
      "  \u001b[90m   @\u001b[39m \u001b[90mc:\\Users\\evant\\OneDrive\\Documents\\GitHub\\lab-2-EvoTW-source\\ps3-5660-f25-EvoTW-source\\\u001b[39m\u001b[90m\u001b[4mjl_notebook_cell_df34fa98e69747e1a8f8a730347b8e2f_Y135sZmlsZQ==.jl:4\u001b[24m\u001b[39m\n",
      "Task 3: Simulated Wealth Array: \u001b[91m\u001b[1mError During Test\u001b[22m\u001b[39m at \u001b[39m\u001b[1mc:\\Users\\evant\\OneDrive\\Documents\\GitHub\\lab-2-EvoTW-source\\ps3-5660-f25-EvoTW-source\\jl_notebook_cell_df34fa98e69747e1a8f8a730347b8e2f_Y135sZmlsZQ==.jl:94\u001b[22m\n",
      "  Got exception outside of a @test\n",
      "  UndefVarError: `simulated_wealth_array` not defined in `Main`\n",
      "  Suggestion: check for spelling errors or missing imports.\n",
      "  Stacktrace:\n",
      "    [1] \u001b[0m\u001b[1mmacro expansion\u001b[22m\n",
      "  \u001b[90m    @\u001b[39m \u001b[90mc:\\Users\\evant\\OneDrive\\Documents\\GitHub\\lab-2-EvoTW-source\\ps3-5660-f25-EvoTW-source\\\u001b[39m\u001b[90m\u001b[4mjl_notebook_cell_df34fa98e69747e1a8f8a730347b8e2f_Y135sZmlsZQ==.jl:102\u001b[24m\u001b[39m\u001b[90m [inlined]\u001b[39m\n",
      "    [2] \u001b[0m\u001b[1mmacro expansion\u001b[22m\n",
      "  \u001b[90m    @\u001b[39m \u001b[90mC:\\Users\\evant\\.julia\\juliaup\\julia-1.11.6+0.x64.w64.mingw32\\share\\julia\\stdlib\\v1.11\\Test\\src\\\u001b[39m\u001b[90m\u001b[4mTest.jl:1709\u001b[24m\u001b[39m\u001b[90m [inlined]\u001b[39m\n",
      "    [3] \u001b[0m\u001b[1mmacro expansion\u001b[22m\n",
      "  \u001b[90m    @\u001b[39m \u001b[90mc:\\Users\\evant\\OneDrive\\Documents\\GitHub\\lab-2-EvoTW-source\\ps3-5660-f25-EvoTW-source\\\u001b[39m\u001b[90m\u001b[4mjl_notebook_cell_df34fa98e69747e1a8f8a730347b8e2f_Y135sZmlsZQ==.jl:96\u001b[24m\u001b[39m\u001b[90m [inlined]\u001b[39m\n",
      "    [4] \u001b[0m\u001b[1mmacro expansion\u001b[22m\n",
      "  \u001b[90m    @\u001b[39m \u001b[90mC:\\Users\\evant\\.julia\\juliaup\\julia-1.11.6+0.x64.w64.mingw32\\share\\julia\\stdlib\\v1.11\\Test\\src\\\u001b[39m\u001b[90m\u001b[4mTest.jl:1709\u001b[24m\u001b[39m\u001b[90m [inlined]\u001b[39m\n",
      "    [5] top-level scope\n",
      "  \u001b[90m    @\u001b[39m \u001b[90mc:\\Users\\evant\\OneDrive\\Documents\\GitHub\\lab-2-EvoTW-source\\ps3-5660-f25-EvoTW-source\\\u001b[39m\u001b[90m\u001b[4mjl_notebook_cell_df34fa98e69747e1a8f8a730347b8e2f_Y135sZmlsZQ==.jl:4\u001b[24m\u001b[39m\n",
      "    [6] \u001b[0m\u001b[1meval\u001b[22m\n",
      "  \u001b[90m    @\u001b[39m \u001b[90m.\\\u001b[39m\u001b[90m\u001b[4mboot.jl:430\u001b[24m\u001b[39m\u001b[90m [inlined]\u001b[39m\n",
      "    [7] \u001b[0m\u001b[1minclude_string\u001b[22m\u001b[0m\u001b[1m(\u001b[22m\u001b[90mmapexpr\u001b[39m::\u001b[0mtypeof(REPL.softscope), \u001b[90mmod\u001b[39m::\u001b[0mModule, \u001b[90mcode\u001b[39m::\u001b[0mString, \u001b[90mfilename\u001b[39m::\u001b[0mString\u001b[0m\u001b[1m)\u001b[22m\n",
      "  \u001b[90m    @\u001b[39m \u001b[90mBase\u001b[39m \u001b[90m.\\\u001b[39m\u001b[90m\u001b[4mloading.jl:2734\u001b[24m\u001b[39m\n",
      "    [8] \u001b[0m\u001b[1m#invokelatest#2\u001b[22m\n",
      "  \u001b[90m    @\u001b[39m \u001b[90m.\\\u001b[39m\u001b[90m\u001b[4messentials.jl:1055\u001b[24m\u001b[39m\u001b[90m [inlined]\u001b[39m\n",
      "    [9] \u001b[0m\u001b[1minvokelatest\u001b[22m\n",
      "  \u001b[90m    @\u001b[39m \u001b[90m.\\\u001b[39m\u001b[90m\u001b[4messentials.jl:1052\u001b[24m\u001b[39m\u001b[90m [inlined]\u001b[39m\n",
      "   [10] \u001b[0m\u001b[1m(::VSCodeServer.var\"#217#218\"{VSCodeServer.NotebookRunCellArguments, String})\u001b[22m\u001b[0m\u001b[1m(\u001b[22m\u001b[0m\u001b[1m)\u001b[22m\n",
      "  \u001b[90m    @\u001b[39m \u001b[36mVSCodeServer\u001b[39m \u001b[90mc:\\Users\\evant\\.vscode\\extensions\\julialang.language-julia-1.149.2\\scripts\\packages\\VSCodeServer\\src\\\u001b[39m\u001b[90m\u001b[4mserve_notebook.jl:24\u001b[24m\u001b[39m\n",
      "   [11] \u001b[0m\u001b[1mwithpath\u001b[22m\u001b[0m\u001b[1m(\u001b[22m\u001b[90mf\u001b[39m::\u001b[0mVSCodeServer.var\"#217#218\"\u001b[90m{VSCodeServer.NotebookRunCellArguments, String}\u001b[39m, \u001b[90mpath\u001b[39m::\u001b[0mString\u001b[0m\u001b[1m)\u001b[22m\n",
      "  \u001b[90m    @\u001b[39m \u001b[36mVSCodeServer\u001b[39m \u001b[90mc:\\Users\\evant\\.vscode\\extensions\\julialang.language-julia-1.149.2\\scripts\\packages\\VSCodeServer\\src\\\u001b[39m\u001b[90m\u001b[4mrepl.jl:276\u001b[24m\u001b[39m\n",
      "   [12] \u001b[0m\u001b[1mnotebook_runcell_request\u001b[22m\u001b[0m\u001b[1m(\u001b[22m\u001b[90mconn\u001b[39m::\u001b[0mVSCodeServer.JSONRPC.JSONRPCEndpoint\u001b[90m{Base.PipeEndpoint, Base.PipeEndpoint, VSCodeServer.JSON.Serializations.StandardSerialization}\u001b[39m, \u001b[90mparams\u001b[39m::\u001b[0mVSCodeServer.NotebookRunCellArguments, \u001b[90mtoken\u001b[39m::\u001b[0mVSCodeServer.CancellationTokens.CancellationToken\u001b[0m\u001b[1m)\u001b[22m\n",
      "  \u001b[90m    @\u001b[39m \u001b[36mVSCodeServer\u001b[39m \u001b[90mc:\\Users\\evant\\.vscode\\extensions\\julialang.language-julia-1.149.2\\scripts\\packages\\VSCodeServer\\src\\\u001b[39m\u001b[90m\u001b[4mserve_notebook.jl:13\u001b[24m\u001b[39m\n",
      "   [13] \u001b[0m\u001b[1mdispatch_msg\u001b[22m\u001b[0m\u001b[1m(\u001b[22m\u001b[90mx\u001b[39m::\u001b[0mVSCodeServer.JSONRPC.JSONRPCEndpoint\u001b[90m{Base.PipeEndpoint, Base.PipeEndpoint, VSCodeServer.JSON.Serializations.StandardSerialization}\u001b[39m, \u001b[90mdispatcher\u001b[39m::\u001b[0mVSCodeServer.JSONRPC.MsgDispatcher, \u001b[90mmsg\u001b[39m::\u001b[0mVSCodeServer.JSONRPC.Request\u001b[0m\u001b[1m)\u001b[22m\n",
      "  \u001b[90m    @\u001b[39m \u001b[36mVSCodeServer.JSONRPC\u001b[39m \u001b[90mc:\\Users\\evant\\.vscode\\extensions\\julialang.language-julia-1.149.2\\scripts\\packages\\JSONRPC\\src\\\u001b[39m\u001b[90m\u001b[4mtyped.jl:68\u001b[24m\u001b[39m\n",
      "   [14] \u001b[0m\u001b[1mserve_notebook\u001b[22m\u001b[0m\u001b[1m(\u001b[22m\u001b[90mpipename\u001b[39m::\u001b[0mString, \u001b[90mdebugger_pipename\u001b[39m::\u001b[0mString, \u001b[90moutputchannel_logger\u001b[39m::\u001b[0mBase.CoreLogging.SimpleLogger; \u001b[90merror_handler\u001b[39m::\u001b[0mvar\"#5#10\"\u001b[90m{String}\u001b[39m\u001b[0m\u001b[1m)\u001b[22m\n",
      "  \u001b[90m    @\u001b[39m \u001b[36mVSCodeServer\u001b[39m \u001b[90mc:\\Users\\evant\\.vscode\\extensions\\julialang.language-julia-1.149.2\\scripts\\packages\\VSCodeServer\\src\\\u001b[39m\u001b[90m\u001b[4mserve_notebook.jl:147\u001b[24m\u001b[39m\n",
      "   [15] top-level scope\n",
      "  \u001b[90m    @\u001b[39m \u001b[90mc:\\Users\\evant\\.vscode\\extensions\\julialang.language-julia-1.149.2\\scripts\\notebook\\\u001b[39m\u001b[90m\u001b[4mnotebook.jl:35\u001b[24m\u001b[39m\n",
      "Task 3: Actual Portfolio Performance: \u001b[91m\u001b[1mTest Failed\u001b[22m\u001b[39m at \u001b[39m\u001b[1mc:\\Users\\evant\\OneDrive\\Documents\\GitHub\\lab-2-EvoTW-source\\ps3-5660-f25-EvoTW-source\\jl_notebook_cell_df34fa98e69747e1a8f8a730347b8e2f_Y135sZmlsZQ==.jl:112\u001b[22m\n",
      "  Expression: isdefined(Main, :actual_portfolio_performance_array)\n",
      "\n",
      "Stacktrace:\n",
      " [1] \u001b[0m\u001b[1mmacro expansion\u001b[22m\n",
      "\u001b[90m   @\u001b[39m \u001b[90mC:\\Users\\evant\\.julia\\juliaup\\julia-1.11.6+0.x64.w64.mingw32\\share\\julia\\stdlib\\v1.11\\Test\\src\\\u001b[39m\u001b[90m\u001b[4mTest.jl:680\u001b[24m\u001b[39m\u001b[90m [inlined]\u001b[39m\n",
      " [2] \u001b[0m\u001b[1mmacro expansion\u001b[22m\n",
      "\u001b[90m   @\u001b[39m \u001b[90mc:\\Users\\evant\\OneDrive\\Documents\\GitHub\\lab-2-EvoTW-source\\ps3-5660-f25-EvoTW-source\\\u001b[39m\u001b[90m\u001b[4mjl_notebook_cell_df34fa98e69747e1a8f8a730347b8e2f_Y135sZmlsZQ==.jl:112\u001b[24m\u001b[39m\u001b[90m [inlined]\u001b[39m\n",
      " [3] \u001b[0m\u001b[1mmacro expansion\u001b[22m\n",
      "\u001b[90m   @\u001b[39m \u001b[90mC:\\Users\\evant\\.julia\\juliaup\\julia-1.11.6+0.x64.w64.mingw32\\share\\julia\\stdlib\\v1.11\\Test\\src\\\u001b[39m\u001b[90m\u001b[4mTest.jl:1709\u001b[24m\u001b[39m\u001b[90m [inlined]\u001b[39m\n",
      " [4] \u001b[0m\u001b[1mmacro expansion\u001b[22m\n",
      "\u001b[90m   @\u001b[39m \u001b[90mc:\\Users\\evant\\OneDrive\\Documents\\GitHub\\lab-2-EvoTW-source\\ps3-5660-f25-EvoTW-source\\\u001b[39m\u001b[90m\u001b[4mjl_notebook_cell_df34fa98e69747e1a8f8a730347b8e2f_Y135sZmlsZQ==.jl:112\u001b[24m\u001b[39m\u001b[90m [inlined]\u001b[39m\n",
      " [5] \u001b[0m\u001b[1mmacro expansion\u001b[22m\n",
      "\u001b[90m   @\u001b[39m \u001b[90mC:\\Users\\evant\\.julia\\juliaup\\julia-1.11.6+0.x64.w64.mingw32\\share\\julia\\stdlib\\v1.11\\Test\\src\\\u001b[39m\u001b[90m\u001b[4mTest.jl:1709\u001b[24m\u001b[39m\u001b[90m [inlined]\u001b[39m\n",
      " [6] top-level scope\n",
      "\u001b[90m   @\u001b[39m \u001b[90mc:\\Users\\evant\\OneDrive\\Documents\\GitHub\\lab-2-EvoTW-source\\ps3-5660-f25-EvoTW-source\\\u001b[39m\u001b[90m\u001b[4mjl_notebook_cell_df34fa98e69747e1a8f8a730347b8e2f_Y135sZmlsZQ==.jl:4\u001b[24m\u001b[39m\n",
      "Task 3: Actual Portfolio Performance: \u001b[91m\u001b[1mError During Test\u001b[22m\u001b[39m at \u001b[39m\u001b[1mc:\\Users\\evant\\OneDrive\\Documents\\GitHub\\lab-2-EvoTW-source\\ps3-5660-f25-EvoTW-source\\jl_notebook_cell_df34fa98e69747e1a8f8a730347b8e2f_Y135sZmlsZQ==.jl:113\u001b[22m\n",
      "  Test threw exception\n",
      "  Expression: size(actual_portfolio_performance_array, 1) > 0\n",
      "  UndefVarError: `actual_portfolio_performance_array` not defined in `Main`\n",
      "  Suggestion: check for spelling errors or missing imports.\n",
      "  Stacktrace:\n",
      "   [1] \u001b[0m\u001b[1mmacro expansion\u001b[22m\n",
      "  \u001b[90m   @\u001b[39m \u001b[90mC:\\Users\\evant\\.julia\\juliaup\\julia-1.11.6+0.x64.w64.mingw32\\share\\julia\\stdlib\\v1.11\\Test\\src\\\u001b[39m\u001b[90m\u001b[4mTest.jl:677\u001b[24m\u001b[39m\u001b[90m [inlined]\u001b[39m\n",
      "   [2] \u001b[0m\u001b[1mmacro expansion\u001b[22m\n",
      "  \u001b[90m   @\u001b[39m \u001b[90mc:\\Users\\evant\\OneDrive\\Documents\\GitHub\\lab-2-EvoTW-source\\ps3-5660-f25-EvoTW-source\\\u001b[39m\u001b[90m\u001b[4mjl_notebook_cell_df34fa98e69747e1a8f8a730347b8e2f_Y135sZmlsZQ==.jl:113\u001b[24m\u001b[39m\u001b[90m [inlined]\u001b[39m\n",
      "   [3] \u001b[0m\u001b[1mmacro expansion\u001b[22m\n",
      "  \u001b[90m   @\u001b[39m \u001b[90mC:\\Users\\evant\\.julia\\juliaup\\julia-1.11.6+0.x64.w64.mingw32\\share\\julia\\stdlib\\v1.11\\Test\\src\\\u001b[39m\u001b[90m\u001b[4mTest.jl:1709\u001b[24m\u001b[39m\u001b[90m [inlined]\u001b[39m\n",
      "   [4] \u001b[0m\u001b[1mmacro expansion\u001b[22m\n",
      "  \u001b[90m   @\u001b[39m \u001b[90mc:\\Users\\evant\\OneDrive\\Documents\\GitHub\\lab-2-EvoTW-source\\ps3-5660-f25-EvoTW-source\\\u001b[39m\u001b[90m\u001b[4mjl_notebook_cell_df34fa98e69747e1a8f8a730347b8e2f_Y135sZmlsZQ==.jl:112\u001b[24m\u001b[39m\u001b[90m [inlined]\u001b[39m\n",
      "   [5] \u001b[0m\u001b[1mmacro expansion\u001b[22m\n",
      "  \u001b[90m   @\u001b[39m \u001b[90mC:\\Users\\evant\\.julia\\juliaup\\julia-1.11.6+0.x64.w64.mingw32\\share\\julia\\stdlib\\v1.11\\Test\\src\\\u001b[39m\u001b[90m\u001b[4mTest.jl:1709\u001b[24m\u001b[39m\u001b[90m [inlined]\u001b[39m\n",
      "   [6] top-level scope\n",
      "  \u001b[90m   @\u001b[39m \u001b[90mc:\\Users\\evant\\OneDrive\\Documents\\GitHub\\lab-2-EvoTW-source\\ps3-5660-f25-EvoTW-source\\\u001b[39m\u001b[90m\u001b[4mjl_notebook_cell_df34fa98e69747e1a8f8a730347b8e2f_Y135sZmlsZQ==.jl:4\u001b[24m\u001b[39m\n",
      "Task 3: Actual Portfolio Performance: \u001b[91m\u001b[1mError During Test\u001b[22m\u001b[39m at \u001b[39m\u001b[1mc:\\Users\\evant\\OneDrive\\Documents\\GitHub\\lab-2-EvoTW-source\\ps3-5660-f25-EvoTW-source\\jl_notebook_cell_df34fa98e69747e1a8f8a730347b8e2f_Y135sZmlsZQ==.jl:114\u001b[22m\n",
      "  Test threw exception\n",
      "  Expression: size(actual_portfolio_performance_array, 2) == length(my_list_of_tickers) + 1\n",
      "  UndefVarError: `actual_portfolio_performance_array` not defined in `Main`\n",
      "  Suggestion: check for spelling errors or missing imports.\n",
      "  Stacktrace:\n",
      "   [1] \u001b[0m\u001b[1mmacro expansion\u001b[22m\n",
      "  \u001b[90m   @\u001b[39m \u001b[90mC:\\Users\\evant\\.julia\\juliaup\\julia-1.11.6+0.x64.w64.mingw32\\share\\julia\\stdlib\\v1.11\\Test\\src\\\u001b[39m\u001b[90m\u001b[4mTest.jl:677\u001b[24m\u001b[39m\u001b[90m [inlined]\u001b[39m\n",
      "   [2] \u001b[0m\u001b[1mmacro expansion\u001b[22m\n",
      "  \u001b[90m   @\u001b[39m \u001b[90mc:\\Users\\evant\\OneDrive\\Documents\\GitHub\\lab-2-EvoTW-source\\ps3-5660-f25-EvoTW-source\\\u001b[39m\u001b[90m\u001b[4mjl_notebook_cell_df34fa98e69747e1a8f8a730347b8e2f_Y135sZmlsZQ==.jl:114\u001b[24m\u001b[39m\u001b[90m [inlined]\u001b[39m\n",
      "   [3] \u001b[0m\u001b[1mmacro expansion\u001b[22m\n",
      "  \u001b[90m   @\u001b[39m \u001b[90mC:\\Users\\evant\\.julia\\juliaup\\julia-1.11.6+0.x64.w64.mingw32\\share\\julia\\stdlib\\v1.11\\Test\\src\\\u001b[39m\u001b[90m\u001b[4mTest.jl:1709\u001b[24m\u001b[39m\u001b[90m [inlined]\u001b[39m\n",
      "   [4] \u001b[0m\u001b[1mmacro expansion\u001b[22m\n",
      "  \u001b[90m   @\u001b[39m \u001b[90mc:\\Users\\evant\\OneDrive\\Documents\\GitHub\\lab-2-EvoTW-source\\ps3-5660-f25-EvoTW-source\\\u001b[39m\u001b[90m\u001b[4mjl_notebook_cell_df34fa98e69747e1a8f8a730347b8e2f_Y135sZmlsZQ==.jl:112\u001b[24m\u001b[39m\u001b[90m [inlined]\u001b[39m\n",
      "   [5] \u001b[0m\u001b[1mmacro expansion\u001b[22m\n",
      "  \u001b[90m   @\u001b[39m \u001b[90mC:\\Users\\evant\\.julia\\juliaup\\julia-1.11.6+0.x64.w64.mingw32\\share\\julia\\stdlib\\v1.11\\Test\\src\\\u001b[39m\u001b[90m\u001b[4mTest.jl:1709\u001b[24m\u001b[39m\u001b[90m [inlined]\u001b[39m\n",
      "   [6] top-level scope\n",
      "  \u001b[90m   @\u001b[39m \u001b[90mc:\\Users\\evant\\OneDrive\\Documents\\GitHub\\lab-2-EvoTW-source\\ps3-5660-f25-EvoTW-source\\\u001b[39m\u001b[90m\u001b[4mjl_notebook_cell_df34fa98e69747e1a8f8a730347b8e2f_Y135sZmlsZQ==.jl:4\u001b[24m\u001b[39m\n",
      "Task 3: Actual Portfolio Performance: \u001b[91m\u001b[1mError During Test\u001b[22m\u001b[39m at \u001b[39m\u001b[1mc:\\Users\\evant\\OneDrive\\Documents\\GitHub\\lab-2-EvoTW-source\\ps3-5660-f25-EvoTW-source\\jl_notebook_cell_df34fa98e69747e1a8f8a730347b8e2f_Y135sZmlsZQ==.jl:110\u001b[22m\n",
      "  Got exception outside of a @test\n",
      "  UndefVarError: `actual_portfolio_performance_array` not defined in `Main`\n",
      "  Suggestion: check for spelling errors or missing imports.\n",
      "  Stacktrace:\n",
      "    [1] \u001b[0m\u001b[1mmacro expansion\u001b[22m\n",
      "  \u001b[90m    @\u001b[39m \u001b[90mc:\\Users\\evant\\OneDrive\\Documents\\GitHub\\lab-2-EvoTW-source\\ps3-5660-f25-EvoTW-source\\\u001b[39m\u001b[90m\u001b[4mjl_notebook_cell_df34fa98e69747e1a8f8a730347b8e2f_Y135sZmlsZQ==.jl:117\u001b[24m\u001b[39m\u001b[90m [inlined]\u001b[39m\n",
      "    [2] \u001b[0m\u001b[1mmacro expansion\u001b[22m\n",
      "  \u001b[90m    @\u001b[39m \u001b[90mC:\\Users\\evant\\.julia\\juliaup\\julia-1.11.6+0.x64.w64.mingw32\\share\\julia\\stdlib\\v1.11\\Test\\src\\\u001b[39m\u001b[90m\u001b[4mTest.jl:1709\u001b[24m\u001b[39m\u001b[90m [inlined]\u001b[39m\n",
      "    [3] \u001b[0m\u001b[1mmacro expansion\u001b[22m\n",
      "  \u001b[90m    @\u001b[39m \u001b[90mc:\\Users\\evant\\OneDrive\\Documents\\GitHub\\lab-2-EvoTW-source\\ps3-5660-f25-EvoTW-source\\\u001b[39m\u001b[90m\u001b[4mjl_notebook_cell_df34fa98e69747e1a8f8a730347b8e2f_Y135sZmlsZQ==.jl:112\u001b[24m\u001b[39m\u001b[90m [inlined]\u001b[39m\n",
      "    [4] \u001b[0m\u001b[1mmacro expansion\u001b[22m\n",
      "  \u001b[90m    @\u001b[39m \u001b[90mC:\\Users\\evant\\.julia\\juliaup\\julia-1.11.6+0.x64.w64.mingw32\\share\\julia\\stdlib\\v1.11\\Test\\src\\\u001b[39m\u001b[90m\u001b[4mTest.jl:1709\u001b[24m\u001b[39m\u001b[90m [inlined]\u001b[39m\n",
      "    [5] top-level scope\n",
      "  \u001b[90m    @\u001b[39m \u001b[90mc:\\Users\\evant\\OneDrive\\Documents\\GitHub\\lab-2-EvoTW-source\\ps3-5660-f25-EvoTW-source\\\u001b[39m\u001b[90m\u001b[4mjl_notebook_cell_df34fa98e69747e1a8f8a730347b8e2f_Y135sZmlsZQ==.jl:4\u001b[24m\u001b[39m\n",
      "    [6] \u001b[0m\u001b[1meval\u001b[22m\n",
      "  \u001b[90m    @\u001b[39m \u001b[90m.\\\u001b[39m\u001b[90m\u001b[4mboot.jl:430\u001b[24m\u001b[39m\u001b[90m [inlined]\u001b[39m\n",
      "    [7] \u001b[0m\u001b[1minclude_string\u001b[22m\u001b[0m\u001b[1m(\u001b[22m\u001b[90mmapexpr\u001b[39m::\u001b[0mtypeof(REPL.softscope), \u001b[90mmod\u001b[39m::\u001b[0mModule, \u001b[90mcode\u001b[39m::\u001b[0mString, \u001b[90mfilename\u001b[39m::\u001b[0mString\u001b[0m\u001b[1m)\u001b[22m\n",
      "  \u001b[90m    @\u001b[39m \u001b[90mBase\u001b[39m \u001b[90m.\\\u001b[39m\u001b[90m\u001b[4mloading.jl:2734\u001b[24m\u001b[39m\n",
      "    [8] \u001b[0m\u001b[1m#invokelatest#2\u001b[22m\n",
      "  \u001b[90m    @\u001b[39m \u001b[90m.\\\u001b[39m\u001b[90m\u001b[4messentials.jl:1055\u001b[24m\u001b[39m\u001b[90m [inlined]\u001b[39m\n",
      "    [9] \u001b[0m\u001b[1minvokelatest\u001b[22m\n",
      "  \u001b[90m    @\u001b[39m \u001b[90m.\\\u001b[39m\u001b[90m\u001b[4messentials.jl:1052\u001b[24m\u001b[39m\u001b[90m [inlined]\u001b[39m\n",
      "   [10] \u001b[0m\u001b[1m(::VSCodeServer.var\"#217#218\"{VSCodeServer.NotebookRunCellArguments, String})\u001b[22m\u001b[0m\u001b[1m(\u001b[22m\u001b[0m\u001b[1m)\u001b[22m\n",
      "  \u001b[90m    @\u001b[39m \u001b[36mVSCodeServer\u001b[39m \u001b[90mc:\\Users\\evant\\.vscode\\extensions\\julialang.language-julia-1.149.2\\scripts\\packages\\VSCodeServer\\src\\\u001b[39m\u001b[90m\u001b[4mserve_notebook.jl:24\u001b[24m\u001b[39m\n",
      "   [11] \u001b[0m\u001b[1mwithpath\u001b[22m\u001b[0m\u001b[1m(\u001b[22m\u001b[90mf\u001b[39m::\u001b[0mVSCodeServer.var\"#217#218\"\u001b[90m{VSCodeServer.NotebookRunCellArguments, String}\u001b[39m, \u001b[90mpath\u001b[39m::\u001b[0mString\u001b[0m\u001b[1m)\u001b[22m\n",
      "  \u001b[90m    @\u001b[39m \u001b[36mVSCodeServer\u001b[39m \u001b[90mc:\\Users\\evant\\.vscode\\extensions\\julialang.language-julia-1.149.2\\scripts\\packages\\VSCodeServer\\src\\\u001b[39m\u001b[90m\u001b[4mrepl.jl:276\u001b[24m\u001b[39m\n",
      "   [12] \u001b[0m\u001b[1mnotebook_runcell_request\u001b[22m\u001b[0m\u001b[1m(\u001b[22m\u001b[90mconn\u001b[39m::\u001b[0mVSCodeServer.JSONRPC.JSONRPCEndpoint\u001b[90m{Base.PipeEndpoint, Base.PipeEndpoint, VSCodeServer.JSON.Serializations.StandardSerialization}\u001b[39m, \u001b[90mparams\u001b[39m::\u001b[0mVSCodeServer.NotebookRunCellArguments, \u001b[90mtoken\u001b[39m::\u001b[0mVSCodeServer.CancellationTokens.CancellationToken\u001b[0m\u001b[1m)\u001b[22m\n",
      "  \u001b[90m    @\u001b[39m \u001b[36mVSCodeServer\u001b[39m \u001b[90mc:\\Users\\evant\\.vscode\\extensions\\julialang.language-julia-1.149.2\\scripts\\packages\\VSCodeServer\\src\\\u001b[39m\u001b[90m\u001b[4mserve_notebook.jl:13\u001b[24m\u001b[39m\n",
      "   [13] \u001b[0m\u001b[1mdispatch_msg\u001b[22m\u001b[0m\u001b[1m(\u001b[22m\u001b[90mx\u001b[39m::\u001b[0mVSCodeServer.JSONRPC.JSONRPCEndpoint\u001b[90m{Base.PipeEndpoint, Base.PipeEndpoint, VSCodeServer.JSON.Serializations.StandardSerialization}\u001b[39m, \u001b[90mdispatcher\u001b[39m::\u001b[0mVSCodeServer.JSONRPC.MsgDispatcher, \u001b[90mmsg\u001b[39m::\u001b[0mVSCodeServer.JSONRPC.Request\u001b[0m\u001b[1m)\u001b[22m\n",
      "  \u001b[90m    @\u001b[39m \u001b[36mVSCodeServer.JSONRPC\u001b[39m \u001b[90mc:\\Users\\evant\\.vscode\\extensions\\julialang.language-julia-1.149.2\\scripts\\packages\\JSONRPC\\src\\\u001b[39m\u001b[90m\u001b[4mtyped.jl:68\u001b[24m\u001b[39m\n",
      "   [14] \u001b[0m\u001b[1mserve_notebook\u001b[22m\u001b[0m\u001b[1m(\u001b[22m\u001b[90mpipename\u001b[39m::\u001b[0mString, \u001b[90mdebugger_pipename\u001b[39m::\u001b[0mString, \u001b[90moutputchannel_logger\u001b[39m::\u001b[0mBase.CoreLogging.SimpleLogger; \u001b[90merror_handler\u001b[39m::\u001b[0mvar\"#5#10\"\u001b[90m{String}\u001b[39m\u001b[0m\u001b[1m)\u001b[22m\n",
      "  \u001b[90m    @\u001b[39m \u001b[36mVSCodeServer\u001b[39m \u001b[90mc:\\Users\\evant\\.vscode\\extensions\\julialang.language-julia-1.149.2\\scripts\\packages\\VSCodeServer\\src\\\u001b[39m\u001b[90m\u001b[4mserve_notebook.jl:147\u001b[24m\u001b[39m\n",
      "   [15] top-level scope\n",
      "  \u001b[90m    @\u001b[39m \u001b[90mc:\\Users\\evant\\.vscode\\extensions\\julialang.language-julia-1.149.2\\scripts\\notebook\\\u001b[39m\u001b[90m\u001b[4mnotebook.jl:35\u001b[24m\u001b[39m\n",
      "Plot, Tables and DQs: \u001b[91m\u001b[1mTest Failed\u001b[22m\u001b[39m at \u001b[39m\u001b[1mc:\\Users\\evant\\OneDrive\\Documents\\GitHub\\lab-2-EvoTW-source\\ps3-5660-f25-EvoTW-source\\jl_notebook_cell_df34fa98e69747e1a8f8a730347b8e2f_Y135sZmlsZQ==.jl:133\u001b[22m\n",
      "  Expression: do_I_see_the_final_wealth_plot == true\n",
      "   Evaluated: nothing == true\n",
      "\n",
      "Stacktrace:\n",
      " [1] \u001b[0m\u001b[1mmacro expansion\u001b[22m\n",
      "\u001b[90m   @\u001b[39m \u001b[90mC:\\Users\\evant\\.julia\\juliaup\\julia-1.11.6+0.x64.w64.mingw32\\share\\julia\\stdlib\\v1.11\\Test\\src\\\u001b[39m\u001b[90m\u001b[4mTest.jl:680\u001b[24m\u001b[39m\u001b[90m [inlined]\u001b[39m\n",
      " [2] \u001b[0m\u001b[1mmacro expansion\u001b[22m\n",
      "\u001b[90m   @\u001b[39m \u001b[90mc:\\Users\\evant\\OneDrive\\Documents\\GitHub\\lab-2-EvoTW-source\\ps3-5660-f25-EvoTW-source\\\u001b[39m\u001b[90m\u001b[4mjl_notebook_cell_df34fa98e69747e1a8f8a730347b8e2f_Y135sZmlsZQ==.jl:133\u001b[24m\u001b[39m\u001b[90m [inlined]\u001b[39m\n",
      " [3] \u001b[0m\u001b[1mmacro expansion\u001b[22m\n",
      "\u001b[90m   @\u001b[39m \u001b[90mC:\\Users\\evant\\.julia\\juliaup\\julia-1.11.6+0.x64.w64.mingw32\\share\\julia\\stdlib\\v1.11\\Test\\src\\\u001b[39m\u001b[90m\u001b[4mTest.jl:1709\u001b[24m\u001b[39m\u001b[90m [inlined]\u001b[39m\n",
      " [4] \u001b[0m\u001b[1mmacro expansion\u001b[22m\n",
      "\u001b[90m   @\u001b[39m \u001b[90mc:\\Users\\evant\\OneDrive\\Documents\\GitHub\\lab-2-EvoTW-source\\ps3-5660-f25-EvoTW-source\\\u001b[39m\u001b[90m\u001b[4mjl_notebook_cell_df34fa98e69747e1a8f8a730347b8e2f_Y135sZmlsZQ==.jl:131\u001b[24m\u001b[39m\u001b[90m [inlined]\u001b[39m\n",
      " [5] \u001b[0m\u001b[1mmacro expansion\u001b[22m\n",
      "\u001b[90m   @\u001b[39m \u001b[90mC:\\Users\\evant\\.julia\\juliaup\\julia-1.11.6+0.x64.w64.mingw32\\share\\julia\\stdlib\\v1.11\\Test\\src\\\u001b[39m\u001b[90m\u001b[4mTest.jl:1709\u001b[24m\u001b[39m\u001b[90m [inlined]\u001b[39m\n",
      " [6] top-level scope\n",
      "\u001b[90m   @\u001b[39m \u001b[90mc:\\Users\\evant\\OneDrive\\Documents\\GitHub\\lab-2-EvoTW-source\\ps3-5660-f25-EvoTW-source\\\u001b[39m\u001b[90m\u001b[4mjl_notebook_cell_df34fa98e69747e1a8f8a730347b8e2f_Y135sZmlsZQ==.jl:4\u001b[24m\u001b[39m\n",
      "Plot, Tables and DQs: \u001b[91m\u001b[1mTest Failed\u001b[22m\u001b[39m at \u001b[39m\u001b[1mc:\\Users\\evant\\OneDrive\\Documents\\GitHub\\lab-2-EvoTW-source\\ps3-5660-f25-EvoTW-source\\jl_notebook_cell_df34fa98e69747e1a8f8a730347b8e2f_Y135sZmlsZQ==.jl:134\u001b[22m\n",
      "  Expression: did_I_answer_DQ1 == true\n",
      "   Evaluated: nothing == true\n",
      "\n",
      "Stacktrace:\n",
      " [1] \u001b[0m\u001b[1mmacro expansion\u001b[22m\n",
      "\u001b[90m   @\u001b[39m \u001b[90mC:\\Users\\evant\\.julia\\juliaup\\julia-1.11.6+0.x64.w64.mingw32\\share\\julia\\stdlib\\v1.11\\Test\\src\\\u001b[39m\u001b[90m\u001b[4mTest.jl:680\u001b[24m\u001b[39m\u001b[90m [inlined]\u001b[39m\n",
      " [2] \u001b[0m\u001b[1mmacro expansion\u001b[22m\n",
      "\u001b[90m   @\u001b[39m \u001b[90mc:\\Users\\evant\\OneDrive\\Documents\\GitHub\\lab-2-EvoTW-source\\ps3-5660-f25-EvoTW-source\\\u001b[39m\u001b[90m\u001b[4mjl_notebook_cell_df34fa98e69747e1a8f8a730347b8e2f_Y135sZmlsZQ==.jl:134\u001b[24m\u001b[39m\u001b[90m [inlined]\u001b[39m\n",
      " [3] \u001b[0m\u001b[1mmacro expansion\u001b[22m\n",
      "\u001b[90m   @\u001b[39m \u001b[90mC:\\Users\\evant\\.julia\\juliaup\\julia-1.11.6+0.x64.w64.mingw32\\share\\julia\\stdlib\\v1.11\\Test\\src\\\u001b[39m\u001b[90m\u001b[4mTest.jl:1709\u001b[24m\u001b[39m\u001b[90m [inlined]\u001b[39m\n",
      " [4] \u001b[0m\u001b[1mmacro expansion\u001b[22m\n",
      "\u001b[90m   @\u001b[39m \u001b[90mc:\\Users\\evant\\OneDrive\\Documents\\GitHub\\lab-2-EvoTW-source\\ps3-5660-f25-EvoTW-source\\\u001b[39m\u001b[90m\u001b[4mjl_notebook_cell_df34fa98e69747e1a8f8a730347b8e2f_Y135sZmlsZQ==.jl:131\u001b[24m\u001b[39m\u001b[90m [inlined]\u001b[39m\n",
      " [5] \u001b[0m\u001b[1mmacro expansion\u001b[22m\n",
      "\u001b[90m   @\u001b[39m \u001b[90mC:\\Users\\evant\\.julia\\juliaup\\julia-1.11.6+0.x64.w64.mingw32\\share\\julia\\stdlib\\v1.11\\Test\\src\\\u001b[39m\u001b[90m\u001b[4mTest.jl:1709\u001b[24m\u001b[39m\u001b[90m [inlined]\u001b[39m\n",
      " [6] top-level scope\n",
      "\u001b[90m   @\u001b[39m \u001b[90mc:\\Users\\evant\\OneDrive\\Documents\\GitHub\\lab-2-EvoTW-source\\ps3-5660-f25-EvoTW-source\\\u001b[39m\u001b[90m\u001b[4mjl_notebook_cell_df34fa98e69747e1a8f8a730347b8e2f_Y135sZmlsZQ==.jl:4\u001b[24m\u001b[39m\n",
      "Plot, Tables and DQs: \u001b[91m\u001b[1mTest Failed\u001b[22m\u001b[39m at \u001b[39m\u001b[1mc:\\Users\\evant\\OneDrive\\Documents\\GitHub\\lab-2-EvoTW-source\\ps3-5660-f25-EvoTW-source\\jl_notebook_cell_df34fa98e69747e1a8f8a730347b8e2f_Y135sZmlsZQ==.jl:135\u001b[22m\n",
      "  Expression: did_I_answer_DQ2 == true\n",
      "   Evaluated: nothing == true\n",
      "\n",
      "Stacktrace:\n",
      " [1] \u001b[0m\u001b[1mmacro expansion\u001b[22m\n",
      "\u001b[90m   @\u001b[39m \u001b[90mC:\\Users\\evant\\.julia\\juliaup\\julia-1.11.6+0.x64.w64.mingw32\\share\\julia\\stdlib\\v1.11\\Test\\src\\\u001b[39m\u001b[90m\u001b[4mTest.jl:680\u001b[24m\u001b[39m\u001b[90m [inlined]\u001b[39m\n",
      " [2] \u001b[0m\u001b[1mmacro expansion\u001b[22m\n",
      "\u001b[90m   @\u001b[39m \u001b[90mc:\\Users\\evant\\OneDrive\\Documents\\GitHub\\lab-2-EvoTW-source\\ps3-5660-f25-EvoTW-source\\\u001b[39m\u001b[90m\u001b[4mjl_notebook_cell_df34fa98e69747e1a8f8a730347b8e2f_Y135sZmlsZQ==.jl:135\u001b[24m\u001b[39m\u001b[90m [inlined]\u001b[39m\n",
      " [3] \u001b[0m\u001b[1mmacro expansion\u001b[22m\n",
      "\u001b[90m   @\u001b[39m \u001b[90mC:\\Users\\evant\\.julia\\juliaup\\julia-1.11.6+0.x64.w64.mingw32\\share\\julia\\stdlib\\v1.11\\Test\\src\\\u001b[39m\u001b[90m\u001b[4mTest.jl:1709\u001b[24m\u001b[39m\u001b[90m [inlined]\u001b[39m\n",
      " [4] \u001b[0m\u001b[1mmacro expansion\u001b[22m\n",
      "\u001b[90m   @\u001b[39m \u001b[90mc:\\Users\\evant\\OneDrive\\Documents\\GitHub\\lab-2-EvoTW-source\\ps3-5660-f25-EvoTW-source\\\u001b[39m\u001b[90m\u001b[4mjl_notebook_cell_df34fa98e69747e1a8f8a730347b8e2f_Y135sZmlsZQ==.jl:131\u001b[24m\u001b[39m\u001b[90m [inlined]\u001b[39m\n",
      " [5] \u001b[0m\u001b[1mmacro expansion\u001b[22m\n",
      "\u001b[90m   @\u001b[39m \u001b[90mC:\\Users\\evant\\.julia\\juliaup\\julia-1.11.6+0.x64.w64.mingw32\\share\\julia\\stdlib\\v1.11\\Test\\src\\\u001b[39m\u001b[90m\u001b[4mTest.jl:1709\u001b[24m\u001b[39m\u001b[90m [inlined]\u001b[39m\n",
      " [6] top-level scope\n",
      "\u001b[90m   @\u001b[39m \u001b[90mc:\\Users\\evant\\OneDrive\\Documents\\GitHub\\lab-2-EvoTW-source\\ps3-5660-f25-EvoTW-source\\\u001b[39m\u001b[90m\u001b[4mjl_notebook_cell_df34fa98e69747e1a8f8a730347b8e2f_Y135sZmlsZQ==.jl:4\u001b[24m\u001b[39m\n",
      "\u001b[0m\u001b[1mTest Summary:                                    | \u001b[22m\u001b[32m\u001b[1mPass  \u001b[22m\u001b[39m\u001b[91m\u001b[1mFail  \u001b[22m\u001b[39m\u001b[91m\u001b[1mError  \u001b[22m\u001b[39m\u001b[36m\u001b[1mTotal  \u001b[22m\u001b[39m\u001b[0m\u001b[1mTime\u001b[22m\n",
      "CHEME 5660 PS3 Test Suite                        | \u001b[32m 106  \u001b[39m\u001b[91m   6  \u001b[39m\u001b[91m   10  \u001b[39m\u001b[36m  122  \u001b[39m\u001b[0m2.2s\n",
      "  Task 1: Portfolio Statistics                   | \u001b[32m  10  \u001b[39m\u001b[91m      \u001b[39m\u001b[91m       \u001b[39m\u001b[36m   10  \u001b[39m\u001b[0m0.5s\n",
      "  Task 2: Efficient Frontier Computation         | \u001b[32m  72  \u001b[39m\u001b[91m      \u001b[39m\u001b[91m       \u001b[39m\u001b[36m   72  \u001b[39m\u001b[0m0.0s\n",
      "  Task 3: Cholesky Factorization                 | \u001b[32m   4  \u001b[39m\u001b[91m      \u001b[39m\u001b[91m       \u001b[39m\u001b[36m    4  \u001b[39m\u001b[0m0.0s\n",
      "  Task 3: Portfolio Selection and Initial Prices | \u001b[32m   7  \u001b[39m\u001b[91m      \u001b[39m\u001b[91m       \u001b[39m\u001b[36m    7  \u001b[39m\u001b[0m0.0s\n",
      "  Task 3: Share Calculations                     | \u001b[32m   7  \u001b[39m\u001b[91m      \u001b[39m\u001b[91m       \u001b[39m\u001b[36m    7  \u001b[39m\u001b[0m0.0s\n",
      "  Task 3: Multi-Asset GBM Model                  | \u001b[32m   1  \u001b[39m\u001b[91m   1  \u001b[39m\u001b[91m    3  \u001b[39m\u001b[36m    5  \u001b[39m\u001b[0m1.4s\n",
      "  Task 3: Simulated Wealth Array                 | \u001b[32m      \u001b[39m\u001b[91m   1  \u001b[39m\u001b[91m    4  \u001b[39m\u001b[36m    5  \u001b[39m\u001b[0m0.1s\n",
      "  Task 3: Actual Portfolio Performance           | \u001b[32m      \u001b[39m\u001b[91m   1  \u001b[39m\u001b[91m    3  \u001b[39m\u001b[36m    4  \u001b[39m\u001b[0m0.0s\n",
      "  Task 3: Benchmark Wealth Array                 | \u001b[32m   3  \u001b[39m\u001b[91m      \u001b[39m\u001b[91m       \u001b[39m\u001b[36m    3  \u001b[39m\u001b[0m0.1s\n",
      "  Plot, Tables and DQs                           | \u001b[32m   2  \u001b[39m\u001b[91m   3  \u001b[39m\u001b[91m       \u001b[39m\u001b[36m    5  \u001b[39m\u001b[0m0.0s\n"
     ]
    },
    {
     "ename": "TestSetException",
     "evalue": "Some tests did not pass: 106 passed, 6 failed, 10 errored, 0 broken.",
     "output_type": "error",
     "traceback": [
      "Some tests did not pass: 106 passed, 6 failed, 10 errored, 0 broken.\n",
      "\n",
      "Stacktrace:\n",
      " [1] finish(ts::Test.DefaultTestSet; print_results::Bool)\n",
      "   @ Test C:\\Users\\evant\\.julia\\juliaup\\julia-1.11.6+0.x64.w64.mingw32\\share\\julia\\stdlib\\v1.11\\Test\\src\\Test.jl:1259\n",
      " [2] finish\n",
      "   @ C:\\Users\\evant\\.julia\\juliaup\\julia-1.11.6+0.x64.w64.mingw32\\share\\julia\\stdlib\\v1.11\\Test\\src\\Test.jl:1234 [inlined]\n",
      " [3] macro expansion\n",
      "   @ C:\\Users\\evant\\.julia\\juliaup\\julia-1.11.6+0.x64.w64.mingw32\\share\\julia\\stdlib\\v1.11\\Test\\src\\Test.jl:1725 [inlined]\n",
      " [4] top-level scope\n",
      "   @ c:\\Users\\evant\\OneDrive\\Documents\\GitHub\\lab-2-EvoTW-source\\ps3-5660-f25-EvoTW-source\\jl_notebook_cell_df34fa98e69747e1a8f8a730347b8e2f_Y135sZmlsZQ==.jl:4"
     ]
    }
   ],
   "source": [
    "@testset verbose = true \"CHEME 5660 PS3 Test Suite\" begin\n",
    "\n",
    "    # Task 1 and Task 2 Tests (10 tests) -\n",
    "    @testset \"Task 1: Portfolio Statistics\" begin\n",
    "\n",
    "        @test isdefined(Main, :my_list_of_tickers) # my_list_of_tickers is not defined\n",
    "        @test typeof(my_list_of_tickers) == Vector{String} # my_list_of_tickers should be a Vector{String}\n",
    "        @test length(my_list_of_tickers) >= 3 # Portfolio should contain at least 3 assets\n",
    "\n",
    "        @test isdefined(Main, :μ̂) # Expected return vector μ̂ is not defined\n",
    "        @test length(μ̂) == length(my_list_of_tickers) # μ̂ length should match number of tickers\n",
    "\n",
    "        @test isdefined(Main, :Σ̂ᵣ) # Covariance matrix Σ̂ᵣ is not defined\n",
    "        @test size(Σ̂ᵣ, 1) == size(Σ̂ᵣ, 2) # Σ̂ᵣ should be square\n",
    "        @test size(Σ̂ᵣ, 1) == length(my_list_of_tickers) # Σ̂ᵣ dimensions should match number of tickers\n",
    "        @test isapprox(Σ̂ᵣ, transpose(Σ̂ᵣ), atol=1e-10) # Σ̂ᵣ should be symmetric\n",
    "        @test all(eigvals(Σ̂ᵣ) .>= -1e-10) # Σ̂ᵣ should be positive semi-definite\n",
    "    end\n",
    "    \n",
    "    @testset \"Task 2: Efficient Frontier Computation\" begin\n",
    "\n",
    "        @test isdefined(Main, :problem_risk) # problem_risk is not defined\n",
    "        @test isdefined(Main, :minimum_desired_reward_array) # minimum_desired_reward_array is not defined\n",
    "        @test length(minimum_desired_reward_array) > 0 # minimum_desired_reward_array should not be empty\n",
    "\n",
    "        @test isdefined(Main, :efficient_frontier) # efficient_frontier dictionary is not defined\n",
    "        @test typeof(efficient_frontier) <: Dict # efficient_frontier should be a Dictionary\n",
    "        @test length(efficient_frontier) > 0 # efficient_frontier should contain at least one solution\n",
    "\n",
    "        @test isdefined(Main, :results_array) # results_array is not defined\n",
    "        @test size(results_array, 2) == length(my_list_of_tickers) + 2 # results_array should have M+2 columns\n",
    "\n",
    "        # Check that portfolio weights sum to approximately 1\n",
    "        for i in 1:size(results_array, 1)\n",
    "            weights_sum = sum(results_array[i, 3:end])\n",
    "            @test isapprox(weights_sum, 1.0, atol=1e-3) # Portfolio weights should sum to 1 (row $i)\n",
    "        end\n",
    "        \n",
    "        # Check that risk values are non-negative\n",
    "        @test all(results_array[:, 1] .>= 0) # All risk values should be non-negative\n",
    "    end\n",
    "    \n",
    "    # Task 3 Tests (20 tests) -\n",
    "    @testset \"Task 3: Cholesky Factorization\" begin\n",
    "        \n",
    "        @test isdefined(Main, :A) # Cholesky factor A is not defined\n",
    "        @test size(A) == size(Σ̂ᵣ) # A should have same dimensions as Σ̂ᵣ\n",
    "        @test isapprox(A * transpose(A), Σ̂ᵣ, atol=1e-6) # A*A' should equal Σ̂ᵣ\n",
    "        @test all(diag(A) .>= 0) # Diagonal elements of A should be non-negative\n",
    "    end\n",
    "    \n",
    "    @testset \"Task 3: Portfolio Selection and Initial Prices\" begin\n",
    "\n",
    "        @test isdefined(Main, :w) # Portfolio weights w is not defined\n",
    "        @test length(w) == length(my_list_of_tickers) # w length should match number of tickers\n",
    "        @test all(w .>= 0) # All weights should be non-negative\n",
    "        @test isapprox(sum(w), 1.0, atol=1e-3) # Portfolio weights should sum to 1\n",
    "\n",
    "        @test isdefined(Main, :Sₒ) # Initial prices Sₒ is not defined\n",
    "        @test length(Sₒ) == length(my_list_of_tickers) # Sₒ length should match number of tickers\n",
    "        @test all(Sₒ .> 0) # All initial prices should be positive\n",
    "    end\n",
    "    \n",
    "    @testset \"Task 3: Share Calculations\" begin\n",
    "\n",
    "        @test isdefined(Main, :Nₒ) # Initial shares Nₒ is not defined\n",
    "        @test length(Nₒ) == length(my_list_of_tickers) # Nₒ length should match number of tickers\n",
    "        @test all(Nₒ .>= 0) # All share quantities should be non-negative\n",
    "\n",
    "        # Verify initial investment calculation\n",
    "        total_value = sum(Nₒ .* Sₒ)\n",
    "        @test isapprox(total_value, total_initial_investment, atol=1e-2) # Total initial investment should match budget\n",
    "        \n",
    "        # Check that shares align with weights\n",
    "        for i in eachindex(Nₒ)\n",
    "            expected_shares = (w[i] * total_initial_investment) / Sₒ[i]\n",
    "            @test isapprox(Nₒ[i], expected_shares, atol=1e-6) # Share calculation for asset $i should be correct\n",
    "        end\n",
    "    end\n",
    "    \n",
    "    @testset \"Task 3: Multi-Asset GBM Model\" begin\n",
    "\n",
    "        @test isdefined(Main, :multiasset_model) # GBM model is not defined\n",
    "        @test isdefined(Main, :simulation_dictionary) # simulation_dictionary is not defined\n",
    "        @test typeof(simulation_dictionary) <: Dict # simulation_dictionary should be a Dictionary\n",
    "        @test length(simulation_dictionary) > 0 # simulation_dictionary should contain at least one path\n",
    "\n",
    "        # Check structure of simulation data\n",
    "        first_sim = simulation_dictionary[1]\n",
    "        @test size(first_sim, 2) == length(my_list_of_tickers) + 1 # Each simulation should have time + M assets\n",
    "        @test all(first_sim[:, 2:end] .> 0) # All simulated prices should be positive\n",
    "    end\n",
    "    \n",
    "    @testset \"Task 3: Simulated Wealth Array\" begin\n",
    "\n",
    "        @test isdefined(Main, :simulated_wealth_array) # simulated_wealth_array is not defined\n",
    "        @test size(simulated_wealth_array, 1) > 0 # simulated_wealth_array should have rows\n",
    "        @test size(simulated_wealth_array, 2) > 0 # simulated_wealth_array should have columns (paths)\n",
    "        @test all(simulated_wealth_array .> 0) # All simulated wealth values should be positive\n",
    "\n",
    "        # Check initial wealth\n",
    "        initial_wealth = simulated_wealth_array[1, :]\n",
    "        @test all(isapprox.(initial_wealth, total_initial_investment, atol=1e-2)) # Initial wealth should match investment\n",
    "        \n",
    "        # Check that wealth varies across paths\n",
    "        final_wealth = simulated_wealth_array[end, :]\n",
    "        @test std(final_wealth) > 0 # Final wealth should vary across simulation paths\n",
    "    end\n",
    "    \n",
    "    @testset \"Task 3: Actual Portfolio Performance\" begin\n",
    "\n",
    "        @test isdefined(Main, :actual_portfolio_performance_array) # actual_portfolio_performance_array is not defined\n",
    "        @test size(actual_portfolio_performance_array, 1) > 0 # actual_portfolio_performance_array should have rows\n",
    "        @test size(actual_portfolio_performance_array, 2) == length(my_list_of_tickers) + 1 # Should have M+1 columns\n",
    "\n",
    "        # Verify total column is sum of individual assets\n",
    "        for i in 1:size(actual_portfolio_performance_array, 1)\n",
    "            calculated_total = sum(actual_portfolio_performance_array[i, 1:end-1])\n",
    "            @test isapprox(actual_portfolio_performance_array[i, end], calculated_total, atol=1e-6) # total should equal sum of assets (row $i)\n",
    "        end\n",
    "    end\n",
    "    \n",
    "    @testset \"Task 3: Benchmark Wealth Array\" begin\n",
    "\n",
    "        @test isdefined(Main, :benchmark_wealth_array) # benchmark_wealth_array is not defined\n",
    "        @test size(benchmark_wealth_array, 1) > 0 # benchmark_wealth_array should have rows\n",
    "        @test all(benchmark_wealth_array .> 0) # All benchmark wealth values should be positive\n",
    "    end\n",
    "\n",
    "    @testset \"Plot, Tables and DQs\" begin\n",
    "        @test do_I_see_minvar_plot == true # Did you see the minvar plot?\n",
    "        @test do_I_see_the_ticker_setup_table == true # Did you see the ticker setup table?\n",
    "        @test do_I_see_the_final_wealth_plot == true # Did you see the final wealth plot?\n",
    "        @test did_I_answer_DQ1 == true # Did you answer DQ1?\n",
    "        @test did_I_answer_DQ2 == true # Did you answer DQ2?\n",
    "    end\n",
    "end;"
   ]
  },
  {
   "cell_type": "markdown",
   "id": "88275cd4-1b38-4bbc-9880-b532360e6dd9",
   "metadata": {},
   "source": [
    "## Disclaimer and Risks\n",
    "\n",
    "__This content is offered solely for training and informational purposes__. No offer or solicitation to buy or sell securities or derivative products or any investment or trading advice or strategy is made, given, or endorsed by the teaching team.\n",
    "\n",
    "__Trading involves risk__. Carefully review your financial situation before investing in securities, futures contracts, options, or commodity interests. Past performance, whether actual or indicated by historical tests of strategies, is no guarantee of future performance or success. Trading is generally inappropriate for someone with limited resources, investment or trading experience, or a low-risk tolerance. Only risk capital that is not required for living expenses.\n",
    "\n",
    "__You are fully responsible for any investment or trading decisions you make__. Such decisions should be based solely on evaluating your financial circumstances, investment or trading objectives, risk tolerance, and liquidity needs."
   ]
  }
 ],
 "metadata": {
  "kernelspec": {
   "display_name": "Julia 1.11.6",
   "language": "julia",
   "name": "julia-1.11"
  },
  "language_info": {
   "file_extension": ".jl",
   "mimetype": "application/julia",
   "name": "julia",
   "version": "1.11.6"
  }
 },
 "nbformat": 4,
 "nbformat_minor": 5
}
